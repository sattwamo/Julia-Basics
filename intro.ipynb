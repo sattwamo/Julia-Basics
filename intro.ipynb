{
 "cells": [
  {
   "cell_type": "markdown",
   "metadata": {},
   "source": [
    "___\n",
    "# Basics of Julia\n",
    "___"
   ]
  },
  {
   "cell_type": "markdown",
   "metadata": {},
   "source": [
    "Julia is a high-level, high-performance programming language designed for numerical computing and data science.\\\n",
    "It combines the _ease of use of dynamic languages like **Python**_ with the _speed of compiled languages like **C or Fortran**_."
   ]
  },
  {
   "cell_type": "code",
   "execution_count": 1,
   "metadata": {},
   "outputs": [
    {
     "name": "stdout",
     "output_type": "stream",
     "text": [
      "Hello World.\n"
     ]
    }
   ],
   "source": [
    "println(\"Hello World.\")"
   ]
  },
  {
   "cell_type": "markdown",
   "metadata": {},
   "source": [
    "---\n",
    "## Variables and DataTypes\n",
    "---\n",
    "\n",
    "Julia supports various basic data types, including integers, floats, strings, booleans, and more. Here are some examples:"
   ]
  },
  {
   "cell_type": "code",
   "execution_count": 2,
   "metadata": {},
   "outputs": [
    {
     "data": {
      "text/plain": [
       "true"
      ]
     },
     "execution_count": 2,
     "metadata": {},
     "output_type": "execute_result"
    }
   ],
   "source": [
    "x = 10              # Integer\n",
    "y = 3.14            # Float\n",
    "name = \"Julia\"      # String\n",
    "is_valid = true     # Boolean"
   ]
  },
  {
   "cell_type": "code",
   "execution_count": 3,
   "metadata": {},
   "outputs": [
    {
     "name": "stdout",
     "output_type": "stream",
     "text": [
      "Variable 'x' = 10 is of type: Int64\n",
      "Variable 'y' = 3.14 is of type: Float64\n",
      "Variable 'name' = Julia is of type: String\n",
      "Variable 'is_valid' = true is of type: Bool\n"
     ]
    }
   ],
   "source": [
    "println(\"Variable 'x' = $x is of type: \", typeof(x))    # Output: Int64\n",
    "println(\"Variable 'y' = $y is of type: \", typeof(y))    # Output: Float64\n",
    "println(\"Variable 'name' = $name is of type: \", typeof(name)) # Output: String\n",
    "println(\"Variable 'is_valid' = $is_valid is of type: \", typeof(is_valid)) # Output: Bool"
   ]
  },
  {
   "cell_type": "markdown",
   "metadata": {},
   "source": [
    "#### Some other datatypes include:\n",
    "+ **Tuples** -> immutable, ordered collection of elements\n",
    "+ **Named Tuples** -> immutable, ordered collection of elements which can be identified with indices as well as _\"names\"_\n",
    "+ **Arrays/Vector** -> mutable, ordered collection of elements\n",
    "+ **Dictionary** -> mutable, unordered collection of elements which can be identified with _\"keys\"_"
   ]
  },
  {
   "cell_type": "code",
   "execution_count": 4,
   "metadata": {},
   "outputs": [
    {
     "data": {
      "text/plain": [
       "Dict{String, Int64} with 3 entries:\n",
       "  \"second\" => 2\n",
       "  \"first\"  => 1\n",
       "  \"third\"  => 3"
      ]
     },
     "execution_count": 4,
     "metadata": {},
     "output_type": "execute_result"
    }
   ],
   "source": [
    "even = (2, 4, 6, 8)             # tuple\n",
    "shapes = (triangle = 3, sqaure = 4, pentagon = 5)     # named tuple\n",
    "fibonacci = [1, 1, 2, 3, 5]     # array\n",
    "test = Dict(\"first\" => 1, \"second\" => 2, \"third\" => 3)  # dictionary"
   ]
  },
  {
   "cell_type": "markdown",
   "metadata": {},
   "source": [
    "#### Accessing the elements in the above defined datatypes:\n",
    "\n",
    "> __**Note:**__ Indexing in Julia starts from __**1**__ instead of __**0**__ like in other languages like Python "
   ]
  },
  {
   "cell_type": "code",
   "execution_count": 5,
   "metadata": {},
   "outputs": [
    {
     "name": "stdout",
     "output_type": "stream",
     "text": [
      "[*] Accessing elements in tuple\n",
      "\t> using index: 6\n",
      "\n",
      "[*] Accessing elements in named tuple\n",
      "\t> using index: 3\n",
      "\t> using name: 3\n",
      "\n",
      "[*] Accessing elements in array\n",
      "\t> using index: 5\n",
      "\n",
      "[*] Accessing elements in dictionary\n",
      "\t> using keys: 2\n"
     ]
    }
   ],
   "source": [
    "println(\"[*] Accessing elements in tuple\")   \n",
    "println(\"\\t> using index: $(even[3])\\n\" ) \n",
    "\n",
    "println(\"[*] Accessing elements in named tuple\")\n",
    "println(\"\\t> using index: $(shapes[1])\" ) \n",
    "println(\"\\t> using name: $(shapes.triangle)\\n\" ) \n",
    "\n",
    "println(\"[*] Accessing elements in array\")   \n",
    "println(\"\\t> using index: $(fibonacci[5])\\n\" ) \n",
    "\n",
    "println(\"[*] Accessing elements in dictionary\")\n",
    "println(\"\\t> using keys: $(test[\"second\"])\") \n"
   ]
  },
  {
   "cell_type": "markdown",
   "metadata": {},
   "source": [
    ">Since tuples and named tuples are immutable, the data stored in them cannot be changed  after creation.\\\n",
    ">Dictionaries and arrays on the other hand are mutable and the data in the can be changed."
   ]
  },
  {
   "cell_type": "code",
   "execution_count": 6,
   "metadata": {},
   "outputs": [
    {
     "ename": "LoadError",
     "evalue": "MethodError: no method matching setindex!(::NTuple{4, Int64}, ::Int64, ::Int64)",
     "output_type": "error",
     "traceback": [
      "MethodError: no method matching setindex!(::NTuple{4, Int64}, ::Int64, ::Int64)",
      "",
      "Stacktrace:",
      " [1] top-level scope",
      "   @ In[6]:2"
     ]
    }
   ],
   "source": [
    "# This raises an error\n",
    "even[2] = 9"
   ]
  },
  {
   "cell_type": "code",
   "execution_count": 7,
   "metadata": {},
   "outputs": [
    {
     "name": "stdout",
     "output_type": "stream",
     "text": [
      "[+] Array before changing: [1, 1, 2, 3, 5]\n",
      "[+] Array after changing: [1, 1, 2, 3, 9]\n",
      "[+] Adding elements to array: [1, 1, 2, 3, 9, 11]\n"
     ]
    }
   ],
   "source": [
    "println(\"[+] Array before changing: \", fibonacci)\n",
    "fibonacci[5] = 9\n",
    "println(\"[+] Array after changing: \", fibonacci)\n",
    "push!(fibonacci, 11)\n",
    "println(\"[+] Adding elements to array: \", fibonacci)"
   ]
  },
  {
   "cell_type": "markdown",
   "metadata": {},
   "source": [
    "We can also have multidimensional arrays or __**matrices**__"
   ]
  },
  {
   "cell_type": "code",
   "execution_count": 8,
   "metadata": {},
   "outputs": [
    {
     "data": {
      "text/plain": [
       "3-element Vector{Vector{Int64}}:\n",
       " [1, 2, 3]\n",
       " [4, 5, 6]\n",
       " [7, 8, 9]"
      ]
     },
     "execution_count": 8,
     "metadata": {},
     "output_type": "execute_result"
    }
   ],
   "source": [
    "M = [[1, 2, 3], [4, 5, 6], [7, 8, 9]]"
   ]
  },
  {
   "cell_type": "markdown",
   "metadata": {},
   "source": [
    "---\n",
    "## Control Flow\n",
    "---\n",
    "\n",
    "### If -> Then -> Else"
   ]
  },
  {
   "cell_type": "code",
   "execution_count": 9,
   "metadata": {},
   "outputs": [
    {
     "name": "stdout",
     "output_type": "stream",
     "text": [
      "Odd\n"
     ]
    }
   ],
   "source": [
    "x = 5\n",
    "if x % 2 == 0\n",
    "    println(\"Even\")\n",
    "else\n",
    "    println(\"Odd\")\n",
    "end"
   ]
  },
  {
   "cell_type": "markdown",
   "metadata": {},
   "source": [
    "#### Use of ternary operators\n",
    "The above syntax can be condensed to write:"
   ]
  },
  {
   "cell_type": "code",
   "execution_count": 10,
   "metadata": {},
   "outputs": [
    {
     "name": "stdout",
     "output_type": "stream",
     "text": [
      "Odd\n"
     ]
    }
   ],
   "source": [
    "result = (x % 2 == 0) ? \"Even\" : \"Odd\"\n",
    "println(result)"
   ]
  },
  {
   "cell_type": "markdown",
   "metadata": {},
   "source": [
    "### For Loop"
   ]
  },
  {
   "cell_type": "code",
   "execution_count": 11,
   "metadata": {},
   "outputs": [
    {
     "name": "stdout",
     "output_type": "stream",
     "text": [
      "1\n",
      "2\n",
      "3\n",
      "4\n",
      "5\n"
     ]
    }
   ],
   "source": [
    "for i in 1:5\n",
    "    println(i)\n",
    "end"
   ]
  },
  {
   "cell_type": "code",
   "execution_count": 12,
   "metadata": {},
   "outputs": [
    {
     "name": "stdout",
     "output_type": "stream",
     "text": [
      "1\t1\n",
      "1\t2\n",
      "2\t1\n",
      "2\t2\n",
      "3\t1\n",
      "3\t2\n",
      "\n",
      "1\t1\n",
      "1\t2\n",
      "2\t1\n",
      "2\t2\n",
      "3\t1\n",
      "3\t2\n"
     ]
    }
   ],
   "source": [
    "# Nested loops\n",
    "for i in 1:3\n",
    "    for j in 1:2\n",
    "        println(i,\"\\t\", j)\n",
    "    end\n",
    "end\n",
    "\n",
    "println()\n",
    "# Alternate way to define the same nested loop\n",
    "for i in 1:3, j in 1:2\n",
    "    println(i,\"\\t\", j)\n",
    "end\n"
   ]
  },
  {
   "cell_type": "markdown",
   "metadata": {},
   "source": [
    "#### While Loop"
   ]
  },
  {
   "cell_type": "code",
   "execution_count": 13,
   "metadata": {},
   "outputs": [
    {
     "name": "stdout",
     "output_type": "stream",
     "text": [
      "1\n",
      "2\n",
      "3\n",
      "4\n",
      "5\n"
     ]
    }
   ],
   "source": [
    "i = 1\n",
    "while i <= 5\n",
    "    println(i)\n",
    "    i = i + 1\n",
    "end"
   ]
  },
  {
   "cell_type": "markdown",
   "metadata": {},
   "source": [
    "---\n",
    "## Functions\n",
    "---\n",
    "\n",
    "In Julia, functions can be  defined using the `function` keyword followed by the function name. Here's an example:"
   ]
  },
  {
   "cell_type": "code",
   "execution_count": 14,
   "metadata": {},
   "outputs": [
    {
     "data": {
      "text/plain": [
       "f1 (generic function with 1 method)"
      ]
     },
     "execution_count": 14,
     "metadata": {},
     "output_type": "execute_result"
    }
   ],
   "source": [
    "function f1(x)\n",
    "    return x^2\n",
    "end"
   ]
  },
  {
   "cell_type": "code",
   "execution_count": 15,
   "metadata": {},
   "outputs": [
    {
     "data": {
      "text/plain": [
       "9"
      ]
     },
     "execution_count": 15,
     "metadata": {},
     "output_type": "execute_result"
    }
   ],
   "source": [
    "f1(3)"
   ]
  },
  {
   "cell_type": "markdown",
   "metadata": {},
   "source": [
    "Other methods in which functions can be defined include:"
   ]
  },
  {
   "cell_type": "code",
   "execution_count": 16,
   "metadata": {},
   "outputs": [
    {
     "data": {
      "text/plain": [
       "1000"
      ]
     },
     "execution_count": 16,
     "metadata": {},
     "output_type": "execute_result"
    }
   ],
   "source": [
    "f2(x) = x^3\n",
    "f2(10)"
   ]
  },
  {
   "cell_type": "code",
   "execution_count": 17,
   "metadata": {},
   "outputs": [
    {
     "data": {
      "text/plain": [
       "81"
      ]
     },
     "execution_count": 17,
     "metadata": {},
     "output_type": "execute_result"
    }
   ],
   "source": [
    "f3 = x -> x^4\n",
    "f3(3)"
   ]
  },
  {
   "cell_type": "markdown",
   "metadata": {},
   "source": [
    "#### `map` and `broadcast` functions in Julia\n"
   ]
  },
  {
   "cell_type": "code",
   "execution_count": 18,
   "metadata": {},
   "outputs": [
    {
     "ename": "LoadError",
     "evalue": "MethodError: no method matching ^(::Vector{Int64}, ::Int64)\n\n\u001b[0mClosest candidates are:\n\u001b[0m  ^(\u001b[91m::BigInt\u001b[39m, ::Integer)\n\u001b[0m\u001b[90m   @\u001b[39m \u001b[90mBase\u001b[39m \u001b[90m\u001b[4mgmp.jl:654\u001b[24m\u001b[39m\n\u001b[0m  ^(\u001b[91m::Regex\u001b[39m, ::Integer)\n\u001b[0m\u001b[90m   @\u001b[39m \u001b[90mBase\u001b[39m \u001b[90m\u001b[4mregex.jl:863\u001b[24m\u001b[39m\n\u001b[0m  ^(\u001b[91m::Irrational{:ℯ}\u001b[39m, ::Integer)\n\u001b[0m\u001b[90m   @\u001b[39m \u001b[90mBase\u001b[39m \u001b[90m\u001b[4mmathconstants.jl:119\u001b[24m\u001b[39m\n\u001b[0m  ...\n",
     "output_type": "error",
     "traceback": [
      "MethodError: no method matching ^(::Vector{Int64}, ::Int64)\n\n\u001b[0mClosest candidates are:\n\u001b[0m  ^(\u001b[91m::BigInt\u001b[39m, ::Integer)\n\u001b[0m\u001b[90m   @\u001b[39m \u001b[90mBase\u001b[39m \u001b[90m\u001b[4mgmp.jl:654\u001b[24m\u001b[39m\n\u001b[0m  ^(\u001b[91m::Regex\u001b[39m, ::Integer)\n\u001b[0m\u001b[90m   @\u001b[39m \u001b[90mBase\u001b[39m \u001b[90m\u001b[4mregex.jl:863\u001b[24m\u001b[39m\n\u001b[0m  ^(\u001b[91m::Irrational{:ℯ}\u001b[39m, ::Integer)\n\u001b[0m\u001b[90m   @\u001b[39m \u001b[90mBase\u001b[39m \u001b[90m\u001b[4mmathconstants.jl:119\u001b[24m\u001b[39m\n\u001b[0m  ...\n",
      "",
      "Stacktrace:",
      " [1] literal_pow",
      "   @ ./intfuncs.jl:351 [inlined]",
      " [2] f1(x::Vector{Int64})",
      "   @ Main ./In[14]:2",
      " [3] top-level scope",
      "   @ In[18]:2"
     ]
    }
   ],
   "source": [
    "arr = [1,2,3,4]\n",
    "f1(arr)"
   ]
  },
  {
   "cell_type": "markdown",
   "metadata": {},
   "source": [
    "The above function call should logically return the **square** of each of the elements of the array `arr`.\\\n",
    "But we see that we get an error, as the sqaure of a vector is not defined. In order to implement this we use the `map` and `broadcast` functions.\n",
    "\n",
    "The `map` function in Julia applies a given function to each element of one or more arrays, producing a new array with the results.\\\n",
    "It takes the following syntax:"
   ]
  },
  {
   "cell_type": "code",
   "execution_count": 19,
   "metadata": {},
   "outputs": [
    {
     "data": {
      "text/plain": [
       "4-element Vector{Int64}:\n",
       "  1\n",
       "  4\n",
       "  9\n",
       " 16"
      ]
     },
     "execution_count": 19,
     "metadata": {},
     "output_type": "execute_result"
    }
   ],
   "source": [
    "result1 = map(f1, arr)"
   ]
  },
  {
   "cell_type": "markdown",
   "metadata": {},
   "source": [
    "The `broadcast` functions acts similar to `map` but it is more flexible and efficient."
   ]
  },
  {
   "cell_type": "code",
   "execution_count": 20,
   "metadata": {},
   "outputs": [
    {
     "data": {
      "text/plain": [
       "4-element Vector{Int64}:\n",
       "  1\n",
       "  4\n",
       "  9\n",
       " 16"
      ]
     },
     "execution_count": 20,
     "metadata": {},
     "output_type": "execute_result"
    }
   ],
   "source": [
    "result2 = broadcast(f1, arr)"
   ]
  },
  {
   "cell_type": "markdown",
   "metadata": {},
   "source": [
    "We can also use the shorthand notation for `broadcast` which is known as `automatic broadcasting`:"
   ]
  },
  {
   "cell_type": "code",
   "execution_count": 21,
   "metadata": {},
   "outputs": [
    {
     "data": {
      "text/plain": [
       "4-element Vector{Int64}:\n",
       "  1\n",
       "  4\n",
       "  9\n",
       " 16"
      ]
     },
     "execution_count": 21,
     "metadata": {},
     "output_type": "execute_result"
    }
   ],
   "source": [
    "result3 = f1.(arr)\n"
   ]
  },
  {
   "cell_type": "markdown",
   "metadata": {},
   "source": [
    "#### Multiple dispatch in Julia\n",
    "\n",
    "Multiple dispatch is a key feature of Julia that allows functions to behave differently based on the types of their arguments.\\\n",
    "This enables writing generic and efficient code. Here's a basic example demonstrating multiple dispatch:\n"
   ]
  },
  {
   "cell_type": "code",
   "execution_count": 22,
   "metadata": {},
   "outputs": [
    {
     "name": "stdout",
     "output_type": "stream",
     "text": [
      "Adding two integers: 3\n",
      "Adding two floats: 6.0\n",
      "Concatenating two strings: Hello, world!\n"
     ]
    }
   ],
   "source": [
    "# Function to add integers\n",
    "function add(x::Int, y::Int)\n",
    "    print(\"Adding two integers: \")\n",
    "    return x + y\n",
    "end\n",
    "\n",
    "# Function to add floats\n",
    "function add(x::Float64, y::Float64)\n",
    "    print(\"Adding two floats: \")\n",
    "    return x + y\n",
    "end\n",
    "\n",
    "# Function to concatenate  strings\n",
    "function add(x::String, y::String)\n",
    "    print(\"Concatenating two strings: \")\n",
    "    return x * y\n",
    "end\n",
    "\n",
    "# Test the functions\n",
    "println(add(1, 2))          # Output: Adding two integers, 3\n",
    "println(add(3.5, 2.5))       # Output: Adding two floats, 6.0\n",
    "println(add(\"Hello, \", \"world!\"))  # Output: Concatenating two strings, Hello, world!\n"
   ]
  },
  {
   "cell_type": "markdown",
   "metadata": {},
   "source": [
    "---\n",
    "## Packages\n",
    "---\n",
    "\n",
    "Julia has over 2000 registered packages, making packages a huge part of the Julia ecosystem.\n",
    "\n",
    "Even so, the package ecosystem still has some growing to do. Notably, we have first class function calls  to other languages, providing excellent foreign function interfaces. We can easily call into python or R, for example, with `PyCall` or `Rcall`.\n"
   ]
  },
  {
   "cell_type": "code",
   "execution_count": 15,
   "metadata": {},
   "outputs": [
    {
     "name": "stderr",
     "output_type": "stream",
     "text": [
      "\u001b[32m\u001b[1m   Resolving\u001b[22m\u001b[39m package versions...\n"
     ]
    },
    {
     "name": "stderr",
     "output_type": "stream",
     "text": [
      "\u001b[32m\u001b[1m  No Changes\u001b[22m\u001b[39m to `~/.julia/environments/v1.10/Project.toml`\n",
      "\u001b[32m\u001b[1m  No Changes\u001b[22m\u001b[39m to `~/.julia/environments/v1.10/Manifest.toml`\n"
     ]
    },
    {
     "name": "stderr",
     "output_type": "stream",
     "text": [
      "\u001b[32m\u001b[1m   Resolving\u001b[22m\u001b[39m package versions...\n"
     ]
    },
    {
     "name": "stderr",
     "output_type": "stream",
     "text": [
      "\u001b[32m\u001b[1m    Updating\u001b[22m\u001b[39m `~/.julia/environments/v1.10/Project.toml`\n",
      "  \u001b[90m[de0858da] \u001b[39m\u001b[92m+ Printf\u001b[39m\n",
      "\u001b[32m\u001b[1m  No Changes\u001b[22m\u001b[39m to `~/.julia/environments/v1.10/Manifest.toml`\n"
     ]
    },
    {
     "name": "stderr",
     "output_type": "stream",
     "text": [
      "\u001b[32m\u001b[1m   Resolving\u001b[22m\u001b[39m package versions...\n"
     ]
    },
    {
     "name": "stderr",
     "output_type": "stream",
     "text": [
      "\u001b[32m\u001b[1m  No Changes\u001b[22m\u001b[39m to `~/.julia/environments/v1.10/Project.toml`\n",
      "\u001b[32m\u001b[1m  No Changes\u001b[22m\u001b[39m to `~/.julia/environments/v1.10/Manifest.toml`\n"
     ]
    }
   ],
   "source": [
    "using Pkg\n",
    "Pkg.add(\"Primes\")\n",
    "Pkg.add(\"Printf\")\n",
    "Pkg.add(\"Formatting\")\n"
   ]
  },
  {
   "cell_type": "code",
   "execution_count": 24,
   "metadata": {},
   "outputs": [
    {
     "name": "stdout",
     "output_type": "stream",
     "text": [
      "[2, 3, 5, 7]\n",
      "true\n"
     ]
    }
   ],
   "source": [
    "using Primes\n",
    "\n",
    "println(primes(10))\n",
    "println(isprime(5))"
   ]
  },
  {
   "cell_type": "code",
   "execution_count": 3,
   "metadata": {},
   "outputs": [
    {
     "name": "stdout",
     "output_type": "stream",
     "text": [
      "5\n",
      "3.14"
     ]
    }
   ],
   "source": [
    "using Printf\n",
    "@printf(\"%d\\n\", 5)\n",
    "@printf(\"%.2f\", pi)"
   ]
  },
  {
   "cell_type": "code",
   "execution_count": 14,
   "metadata": {},
   "outputs": [
    {
     "name": "stdout",
     "output_type": "stream",
     "text": [
      "Restricted to 5 decimal places: 3.14159\n",
      "Scientific representation 3.141593e+00"
     ]
    }
   ],
   "source": [
    "using Formatting\n",
    "printfmt(\"Restricted to 5 decimal places: {:.5f}\", pi)\n",
    "printfmt(\"\\nScientific representation {:e}\", pi)"
   ]
  },
  {
   "cell_type": "markdown",
   "metadata": {},
   "source": [
    "---\n",
    "## Plotting and Fitting\n",
    "---"
   ]
  },
  {
   "cell_type": "code",
   "execution_count": 25,
   "metadata": {},
   "outputs": [
    {
     "name": "stderr",
     "output_type": "stream",
     "text": [
      "\u001b[32m\u001b[1m   Resolving\u001b[22m\u001b[39m package versions...\n",
      "\u001b[32m\u001b[1m  No Changes\u001b[22m\u001b[39m to `~/.julia/environments/v1.10/Project.toml`\n",
      "\u001b[32m\u001b[1m  No Changes\u001b[22m\u001b[39m to `~/.julia/environments/v1.10/Manifest.toml`\n",
      "\u001b[32m\u001b[1m   Resolving\u001b[22m\u001b[39m package versions...\n",
      "\u001b[32m\u001b[1m  No Changes\u001b[22m\u001b[39m to `~/.julia/environments/v1.10/Project.toml`\n",
      "\u001b[32m\u001b[1m  No Changes\u001b[22m\u001b[39m to `~/.julia/environments/v1.10/Manifest.toml`\n"
     ]
    }
   ],
   "source": [
    "using Pkg\n",
    "Pkg.add(\"Plots\")\n",
    "Pkg.add(\"LsqFit\")"
   ]
  },
  {
   "cell_type": "code",
   "execution_count": 26,
   "metadata": {},
   "outputs": [
    {
     "data": {
      "text/plain": [
       "Plots.GRBackend()"
      ]
     },
     "execution_count": 26,
     "metadata": {},
     "output_type": "execute_result"
    }
   ],
   "source": [
    "using Plots\n",
    "using LsqFit\n",
    "gr()"
   ]
  },
  {
   "cell_type": "code",
   "execution_count": 27,
   "metadata": {},
   "outputs": [
    {
     "data": {
      "text/plain": [
       "10-element Vector{Float64}:\n",
       "   5.285911918857051\n",
       "  15.224438622078372\n",
       "  25.882014434532017\n",
       "  42.74032293395326\n",
       "  66.20189964586335\n",
       "  88.06360800277224\n",
       " 118.14684636413924\n",
       " 152.9876056023875\n",
       " 187.71098762200305\n",
       " 228.97138210281696"
      ]
     },
     "execution_count": 27,
     "metadata": {},
     "output_type": "execute_result"
    }
   ],
   "source": [
    "# Generate sample data following a quadratic model with noise\n",
    "x_data = 1:10\n",
    "y_data = 2x_data.^2 .+ 3x_data .+ randn(length(x_data))"
   ]
  },
  {
   "cell_type": "code",
   "execution_count": 28,
   "metadata": {},
   "outputs": [
    {
     "data": {
      "text/plain": [
       "LsqFit.LsqFitResult{Vector{Float64}, Vector{Float64}, Matrix{Float64}, Vector{Float64}, Vector{LsqFit.LMState{LsqFit.LevenbergMarquardt}}}([2.018263098748771, 2.672950211662023, 0.7171462589034192], [0.1224476504571621, -1.0883395448558222, 1.018350348096412, 0.9608337515785905, -1.6634248599305437, 1.3487110810590934, 0.17584321508812195, -1.718019330266543, 0.5420215405090403, 0.3015761475838019], [1.0000000000316396 1.0000000000351499 1.0000000000235538; 3.999999999981211 1.9999999999605527 1.0000000000235538; … ; 80.9999999992925 9.000000000700462 0.9999999994368574; 99.99999999938494 9.999999999802762 0.9999999994368574], true, Iter     Function value   Gradient norm \n",
       "------   --------------   --------------\n",
       ", Float64[])"
      ]
     },
     "execution_count": 28,
     "metadata": {},
     "output_type": "execute_result"
    }
   ],
   "source": [
    "# Define a model function (quadratic)\n",
    "model(x, p) = p[1] * x.^2 .+ p[2] * x .+ p[3]\n",
    "\n",
    "# Initial parameter guess for the model\n",
    "initial_guess = [1.0, 1.0, 1.0]\n",
    "\n",
    "# Fit the model to the data\n",
    "fit = curve_fit(model, x_data, y_data, initial_guess)"
   ]
  },
  {
   "cell_type": "code",
   "execution_count": 29,
   "metadata": {},
   "outputs": [
    {
     "data": {
      "image/png": "[encoded data removed]",
      "image/svg+xml": [
       "<?xml version=\"1.0\" encoding=\"utf-8\"?>\n",
       "<svg xmlns=\"http://www.w3.org/2000/svg\" xmlns:xlink=\"http://www.w3.org/1999/xlink\" width=\"600\" height=\"400\" viewBox=\"0 0 2400 1600\">\n",
       "<defs>\n",
       "  <clipPath id=\"clip310\">\n",
       "    <rect x=\"0\" y=\"0\" width=\"2400\" height=\"1600\"/>\n",
       "  </clipPath>\n",
       "</defs>\n",
       "<path clip-path=\"url(#clip310)\" d=\"M0 1600 L2400 1600 L2400 8.88178e-14 L0 8.88178e-14  Z\" fill=\"#ffffff\" fill-rule=\"evenodd\" fill-opacity=\"1\"/>\n",
       "<defs>\n",
       "  <clipPath id=\"clip311\">\n",
       "    <rect x=\"480\" y=\"0\" width=\"1681\" height=\"1600\"/>\n",
       "  </clipPath>\n",
       "</defs>\n",
       "<path clip-path=\"url(#clip310)\" d=\"M234.125 1423.18 L2352.76 1423.18 L2352.76 123.472 L234.125 123.472  Z\" fill=\"#ffffff\" fill-rule=\"evenodd\" fill-opacity=\"1\"/>\n",
       "<defs>\n",
       "  <clipPath id=\"clip312\">\n",
       "    <rect x=\"234\" y=\"123\" width=\"2120\" height=\"1301\"/>\n",
       "  </clipPath>\n",
       "</defs>\n",
       "<polyline clip-path=\"url(#clip312)\" style=\"stroke:#000000; stroke-linecap:round; stroke-linejoin:round; stroke-width:2; stroke-opacity:0.1; fill:none\" points=\"516.165,1423.18 516.165,123.472 \"/>\n",
       "<polyline clip-path=\"url(#clip312)\" style=\"stroke:#000000; stroke-linecap:round; stroke-linejoin:round; stroke-width:2; stroke-opacity:0.1; fill:none\" points=\"960.323,1423.18 960.323,123.472 \"/>\n",
       "<polyline clip-path=\"url(#clip312)\" style=\"stroke:#000000; stroke-linecap:round; stroke-linejoin:round; stroke-width:2; stroke-opacity:0.1; fill:none\" points=\"1404.48,1423.18 1404.48,123.472 \"/>\n",
       "<polyline clip-path=\"url(#clip312)\" style=\"stroke:#000000; stroke-linecap:round; stroke-linejoin:round; stroke-width:2; stroke-opacity:0.1; fill:none\" points=\"1848.64,1423.18 1848.64,123.472 \"/>\n",
       "<polyline clip-path=\"url(#clip312)\" style=\"stroke:#000000; stroke-linecap:round; stroke-linejoin:round; stroke-width:2; stroke-opacity:0.1; fill:none\" points=\"2292.79,1423.18 2292.79,123.472 \"/>\n",
       "<polyline clip-path=\"url(#clip310)\" style=\"stroke:#000000; stroke-linecap:round; stroke-linejoin:round; stroke-width:4; stroke-opacity:1; fill:none\" points=\"234.125,1423.18 2352.76,1423.18 \"/>\n",
       "<polyline clip-path=\"url(#clip310)\" style=\"stroke:#000000; stroke-linecap:round; stroke-linejoin:round; stroke-width:4; stroke-opacity:1; fill:none\" points=\"516.165,1423.18 516.165,1404.28 \"/>\n",
       "<polyline clip-path=\"url(#clip310)\" style=\"stroke:#000000; stroke-linecap:round; stroke-linejoin:round; stroke-width:4; stroke-opacity:1; fill:none\" points=\"960.323,1423.18 960.323,1404.28 \"/>\n",
       "<polyline clip-path=\"url(#clip310)\" style=\"stroke:#000000; stroke-linecap:round; stroke-linejoin:round; stroke-width:4; stroke-opacity:1; fill:none\" points=\"1404.48,1423.18 1404.48,1404.28 \"/>\n",
       "<polyline clip-path=\"url(#clip310)\" style=\"stroke:#000000; stroke-linecap:round; stroke-linejoin:round; stroke-width:4; stroke-opacity:1; fill:none\" points=\"1848.64,1423.18 1848.64,1404.28 \"/>\n",
       "<polyline clip-path=\"url(#clip310)\" style=\"stroke:#000000; stroke-linecap:round; stroke-linejoin:round; stroke-width:4; stroke-opacity:1; fill:none\" points=\"2292.79,1423.18 2292.79,1404.28 \"/>\n",
       "<path clip-path=\"url(#clip310)\" d=\"M510.818 1481.64 L527.138 1481.64 L527.138 1485.58 L505.193 1485.58 L505.193 1481.64 Q507.855 1478.89 512.439 1474.26 Q517.045 1469.61 518.226 1468.27 Q520.471 1465.74 521.351 1464.01 Q522.253 1462.25 522.253 1460.56 Q522.253 1457.8 520.309 1456.07 Q518.388 1454.33 515.286 1454.33 Q513.087 1454.33 510.633 1455.09 Q508.202 1455.86 505.425 1457.41 L505.425 1452.69 Q508.249 1451.55 510.702 1450.97 Q513.156 1450.39 515.193 1450.39 Q520.563 1450.39 523.758 1453.08 Q526.952 1455.77 526.952 1460.26 Q526.952 1462.39 526.142 1464.31 Q525.355 1466.2 523.249 1468.8 Q522.67 1469.47 519.568 1472.69 Q516.466 1475.88 510.818 1481.64 Z\" fill=\"#000000\" fill-rule=\"nonzero\" fill-opacity=\"1\" /><path clip-path=\"url(#clip310)\" d=\"M963.332 1455.09 L951.526 1473.54 L963.332 1473.54 L963.332 1455.09 M962.105 1451.02 L967.985 1451.02 L967.985 1473.54 L972.915 1473.54 L972.915 1477.43 L967.985 1477.43 L967.985 1485.58 L963.332 1485.58 L963.332 1477.43 L947.73 1477.43 L947.73 1472.92 L962.105 1451.02 Z\" fill=\"#000000\" fill-rule=\"nonzero\" fill-opacity=\"1\" /><path clip-path=\"url(#clip310)\" d=\"M1404.89 1466.44 Q1401.74 1466.44 1399.89 1468.59 Q1398.06 1470.74 1398.06 1474.49 Q1398.06 1478.22 1399.89 1480.39 Q1401.74 1482.55 1404.89 1482.55 Q1408.03 1482.55 1409.86 1480.39 Q1411.71 1478.22 1411.71 1474.49 Q1411.71 1470.74 1409.86 1468.59 Q1408.03 1466.44 1404.89 1466.44 M1414.17 1451.78 L1414.17 1456.04 Q1412.41 1455.21 1410.6 1454.77 Q1408.82 1454.33 1407.06 1454.33 Q1402.43 1454.33 1399.98 1457.45 Q1397.55 1460.58 1397.2 1466.9 Q1398.57 1464.89 1400.63 1463.82 Q1402.69 1462.73 1405.16 1462.73 Q1410.37 1462.73 1413.38 1465.9 Q1416.41 1469.05 1416.41 1474.49 Q1416.41 1479.82 1413.26 1483.03 Q1410.12 1486.25 1404.89 1486.25 Q1398.89 1486.25 1395.72 1481.67 Q1392.55 1477.06 1392.55 1468.33 Q1392.55 1460.14 1396.44 1455.28 Q1400.32 1450.39 1406.88 1450.39 Q1408.64 1450.39 1410.42 1450.74 Q1412.22 1451.09 1414.17 1451.78 Z\" fill=\"#000000\" fill-rule=\"nonzero\" fill-opacity=\"1\" /><path clip-path=\"url(#clip310)\" d=\"M1848.64 1469.17 Q1845.3 1469.17 1843.38 1470.95 Q1841.48 1472.73 1841.48 1475.86 Q1841.48 1478.98 1843.38 1480.77 Q1845.3 1482.55 1848.64 1482.55 Q1851.97 1482.55 1853.89 1480.77 Q1855.81 1478.96 1855.81 1475.86 Q1855.81 1472.73 1853.89 1470.95 Q1851.99 1469.17 1848.64 1469.17 M1843.96 1467.18 Q1840.95 1466.44 1839.26 1464.38 Q1837.6 1462.32 1837.6 1459.35 Q1837.6 1455.21 1840.54 1452.8 Q1843.5 1450.39 1848.64 1450.39 Q1853.8 1450.39 1856.74 1452.8 Q1859.68 1455.21 1859.68 1459.35 Q1859.68 1462.32 1857.99 1464.38 Q1856.32 1466.44 1853.34 1467.18 Q1856.72 1467.96 1858.59 1470.26 Q1860.49 1472.55 1860.49 1475.86 Q1860.49 1480.88 1857.41 1483.57 Q1854.35 1486.25 1848.64 1486.25 Q1842.92 1486.25 1839.84 1483.57 Q1836.79 1480.88 1836.79 1475.86 Q1836.79 1472.55 1838.68 1470.26 Q1840.58 1467.96 1843.96 1467.18 M1842.25 1459.79 Q1842.25 1462.48 1843.92 1463.98 Q1845.6 1465.49 1848.64 1465.49 Q1851.65 1465.49 1853.34 1463.98 Q1855.05 1462.48 1855.05 1459.79 Q1855.05 1457.11 1853.34 1455.6 Q1851.65 1454.1 1848.64 1454.1 Q1845.6 1454.1 1843.92 1455.6 Q1842.25 1457.11 1842.25 1459.79 Z\" fill=\"#000000\" fill-rule=\"nonzero\" fill-opacity=\"1\" /><path clip-path=\"url(#clip310)\" d=\"M2267.48 1481.64 L2275.12 1481.64 L2275.12 1455.28 L2266.81 1456.95 L2266.81 1452.69 L2275.07 1451.02 L2279.75 1451.02 L2279.75 1481.64 L2287.39 1481.64 L2287.39 1485.58 L2267.48 1485.58 L2267.48 1481.64 Z\" fill=\"#000000\" fill-rule=\"nonzero\" fill-opacity=\"1\" /><path clip-path=\"url(#clip310)\" d=\"M2306.83 1454.1 Q2303.22 1454.1 2301.39 1457.66 Q2299.59 1461.2 2299.59 1468.33 Q2299.59 1475.44 2301.39 1479.01 Q2303.22 1482.55 2306.83 1482.55 Q2310.47 1482.55 2312.27 1479.01 Q2314.1 1475.44 2314.1 1468.33 Q2314.1 1461.2 2312.27 1457.66 Q2310.47 1454.1 2306.83 1454.1 M2306.83 1450.39 Q2312.64 1450.39 2315.7 1455 Q2318.78 1459.58 2318.78 1468.33 Q2318.78 1477.06 2315.7 1481.67 Q2312.64 1486.25 2306.83 1486.25 Q2301.02 1486.25 2297.95 1481.67 Q2294.89 1477.06 2294.89 1468.33 Q2294.89 1459.58 2297.95 1455 Q2301.02 1450.39 2306.83 1450.39 Z\" fill=\"#000000\" fill-rule=\"nonzero\" fill-opacity=\"1\" /><path clip-path=\"url(#clip310)\" d=\"M1275.27 1520.52 L1282.17 1520.52 L1293.98 1538.19 L1305.85 1520.52 L1312.76 1520.52 L1297.48 1543.34 L1313.78 1568.04 L1306.87 1568.04 L1293.5 1547.83 L1280.04 1568.04 L1273.1 1568.04 L1290.07 1542.68 L1275.27 1520.52 Z\" fill=\"#000000\" fill-rule=\"nonzero\" fill-opacity=\"1\" /><polyline clip-path=\"url(#clip312)\" style=\"stroke:#000000; stroke-linecap:round; stroke-linejoin:round; stroke-width:2; stroke-opacity:0.1; fill:none\" points=\"234.125,1415.33 2352.76,1415.33 \"/>\n",
       "<polyline clip-path=\"url(#clip312)\" style=\"stroke:#000000; stroke-linecap:round; stroke-linejoin:round; stroke-width:2; stroke-opacity:0.1; fill:none\" points=\"234.125,1141.62 2352.76,1141.62 \"/>\n",
       "<polyline clip-path=\"url(#clip312)\" style=\"stroke:#000000; stroke-linecap:round; stroke-linejoin:round; stroke-width:2; stroke-opacity:0.1; fill:none\" points=\"234.125,867.916 2352.76,867.916 \"/>\n",
       "<polyline clip-path=\"url(#clip312)\" style=\"stroke:#000000; stroke-linecap:round; stroke-linejoin:round; stroke-width:2; stroke-opacity:0.1; fill:none\" points=\"234.125,594.209 2352.76,594.209 \"/>\n",
       "<polyline clip-path=\"url(#clip312)\" style=\"stroke:#000000; stroke-linecap:round; stroke-linejoin:round; stroke-width:2; stroke-opacity:0.1; fill:none\" points=\"234.125,320.501 2352.76,320.501 \"/>\n",
       "<polyline clip-path=\"url(#clip310)\" style=\"stroke:#000000; stroke-linecap:round; stroke-linejoin:round; stroke-width:4; stroke-opacity:1; fill:none\" points=\"234.125,1423.18 234.125,123.472 \"/>\n",
       "<polyline clip-path=\"url(#clip310)\" style=\"stroke:#000000; stroke-linecap:round; stroke-linejoin:round; stroke-width:4; stroke-opacity:1; fill:none\" points=\"234.125,1415.33 253.023,1415.33 \"/>\n",
       "<polyline clip-path=\"url(#clip310)\" style=\"stroke:#000000; stroke-linecap:round; stroke-linejoin:round; stroke-width:4; stroke-opacity:1; fill:none\" points=\"234.125,1141.62 253.023,1141.62 \"/>\n",
       "<polyline clip-path=\"url(#clip310)\" style=\"stroke:#000000; stroke-linecap:round; stroke-linejoin:round; stroke-width:4; stroke-opacity:1; fill:none\" points=\"234.125,867.916 253.023,867.916 \"/>\n",
       "<polyline clip-path=\"url(#clip310)\" style=\"stroke:#000000; stroke-linecap:round; stroke-linejoin:round; stroke-width:4; stroke-opacity:1; fill:none\" points=\"234.125,594.209 253.023,594.209 \"/>\n",
       "<polyline clip-path=\"url(#clip310)\" style=\"stroke:#000000; stroke-linecap:round; stroke-linejoin:round; stroke-width:4; stroke-opacity:1; fill:none\" points=\"234.125,320.501 253.023,320.501 \"/>\n",
       "<path clip-path=\"url(#clip310)\" d=\"M186.181 1401.13 Q182.57 1401.13 180.741 1404.7 Q178.936 1408.24 178.936 1415.37 Q178.936 1422.47 180.741 1426.04 Q182.57 1429.58 186.181 1429.58 Q189.815 1429.58 191.621 1426.04 Q193.45 1422.47 193.45 1415.37 Q193.45 1408.24 191.621 1404.7 Q189.815 1401.13 186.181 1401.13 M186.181 1397.43 Q191.991 1397.43 195.047 1402.03 Q198.125 1406.62 198.125 1415.37 Q198.125 1424.09 195.047 1428.7 Q191.991 1433.28 186.181 1433.28 Q180.371 1433.28 177.292 1428.7 Q174.237 1424.09 174.237 1415.37 Q174.237 1406.62 177.292 1402.03 Q180.371 1397.43 186.181 1397.43 Z\" fill=\"#000000\" fill-rule=\"nonzero\" fill-opacity=\"1\" /><path clip-path=\"url(#clip310)\" d=\"M146.066 1124.34 L164.422 1124.34 L164.422 1128.28 L150.348 1128.28 L150.348 1136.75 Q151.366 1136.4 152.385 1136.24 Q153.403 1136.06 154.422 1136.06 Q160.209 1136.06 163.589 1139.23 Q166.968 1142.4 166.968 1147.82 Q166.968 1153.39 163.496 1156.5 Q160.024 1159.58 153.704 1159.58 Q151.528 1159.58 149.26 1159.2 Q147.015 1158.83 144.607 1158.09 L144.607 1153.39 Q146.691 1154.53 148.913 1155.08 Q151.135 1155.64 153.612 1155.64 Q157.616 1155.64 159.954 1153.53 Q162.292 1151.43 162.292 1147.82 Q162.292 1144.2 159.954 1142.1 Q157.616 1139.99 153.612 1139.99 Q151.737 1139.99 149.862 1140.41 Q148.01 1140.83 146.066 1141.7 L146.066 1124.34 Z\" fill=\"#000000\" fill-rule=\"nonzero\" fill-opacity=\"1\" /><path clip-path=\"url(#clip310)\" d=\"M186.181 1127.42 Q182.57 1127.42 180.741 1130.99 Q178.936 1134.53 178.936 1141.66 Q178.936 1148.77 180.741 1152.33 Q182.57 1155.87 186.181 1155.87 Q189.815 1155.87 191.621 1152.33 Q193.45 1148.77 193.45 1141.66 Q193.45 1134.53 191.621 1130.99 Q189.815 1127.42 186.181 1127.42 M186.181 1123.72 Q191.991 1123.72 195.047 1128.33 Q198.125 1132.91 198.125 1141.66 Q198.125 1150.39 195.047 1154.99 Q191.991 1159.58 186.181 1159.58 Q180.371 1159.58 177.292 1154.99 Q174.237 1150.39 174.237 1141.66 Q174.237 1132.91 177.292 1128.33 Q180.371 1123.72 186.181 1123.72 Z\" fill=\"#000000\" fill-rule=\"nonzero\" fill-opacity=\"1\" /><path clip-path=\"url(#clip310)\" d=\"M116.668 881.261 L124.306 881.261 L124.306 854.895 L115.996 856.562 L115.996 852.303 L124.26 850.636 L128.936 850.636 L128.936 881.261 L136.575 881.261 L136.575 885.196 L116.668 885.196 L116.668 881.261 Z\" fill=\"#000000\" fill-rule=\"nonzero\" fill-opacity=\"1\" /><path clip-path=\"url(#clip310)\" d=\"M156.019 853.715 Q152.408 853.715 150.579 857.28 Q148.774 860.821 148.774 867.951 Q148.774 875.057 150.579 878.622 Q152.408 882.164 156.019 882.164 Q159.653 882.164 161.459 878.622 Q163.288 875.057 163.288 867.951 Q163.288 860.821 161.459 857.28 Q159.653 853.715 156.019 853.715 M156.019 850.011 Q161.829 850.011 164.885 854.618 Q167.964 859.201 167.964 867.951 Q167.964 876.678 164.885 881.284 Q161.829 885.868 156.019 885.868 Q150.209 885.868 147.13 881.284 Q144.075 876.678 144.075 867.951 Q144.075 859.201 147.13 854.618 Q150.209 850.011 156.019 850.011 Z\" fill=\"#000000\" fill-rule=\"nonzero\" fill-opacity=\"1\" /><path clip-path=\"url(#clip310)\" d=\"M186.181 853.715 Q182.57 853.715 180.741 857.28 Q178.936 860.821 178.936 867.951 Q178.936 875.057 180.741 878.622 Q182.57 882.164 186.181 882.164 Q189.815 882.164 191.621 878.622 Q193.45 875.057 193.45 867.951 Q193.45 860.821 191.621 857.28 Q189.815 853.715 186.181 853.715 M186.181 850.011 Q191.991 850.011 195.047 854.618 Q198.125 859.201 198.125 867.951 Q198.125 876.678 195.047 881.284 Q191.991 885.868 186.181 885.868 Q180.371 885.868 177.292 881.284 Q174.237 876.678 174.237 867.951 Q174.237 859.201 177.292 854.618 Q180.371 850.011 186.181 850.011 Z\" fill=\"#000000\" fill-rule=\"nonzero\" fill-opacity=\"1\" /><path clip-path=\"url(#clip310)\" d=\"M116.668 607.553 L124.306 607.553 L124.306 581.188 L115.996 582.855 L115.996 578.595 L124.26 576.929 L128.936 576.929 L128.936 607.553 L136.575 607.553 L136.575 611.489 L116.668 611.489 L116.668 607.553 Z\" fill=\"#000000\" fill-rule=\"nonzero\" fill-opacity=\"1\" /><path clip-path=\"url(#clip310)\" d=\"M146.066 576.929 L164.422 576.929 L164.422 580.864 L150.348 580.864 L150.348 589.336 Q151.366 588.989 152.385 588.827 Q153.403 588.642 154.422 588.642 Q160.209 588.642 163.589 591.813 Q166.968 594.984 166.968 600.401 Q166.968 605.979 163.496 609.081 Q160.024 612.16 153.704 612.16 Q151.528 612.16 149.26 611.79 Q147.015 611.419 144.607 610.678 L144.607 605.979 Q146.691 607.114 148.913 607.669 Q151.135 608.225 153.612 608.225 Q157.616 608.225 159.954 606.118 Q162.292 604.012 162.292 600.401 Q162.292 596.79 159.954 594.683 Q157.616 592.577 153.612 592.577 Q151.737 592.577 149.862 592.993 Q148.01 593.41 146.066 594.29 L146.066 576.929 Z\" fill=\"#000000\" fill-rule=\"nonzero\" fill-opacity=\"1\" /><path clip-path=\"url(#clip310)\" d=\"M186.181 580.007 Q182.57 580.007 180.741 583.572 Q178.936 587.114 178.936 594.243 Q178.936 601.35 180.741 604.915 Q182.57 608.456 186.181 608.456 Q189.815 608.456 191.621 604.915 Q193.45 601.35 193.45 594.243 Q193.45 587.114 191.621 583.572 Q189.815 580.007 186.181 580.007 M186.181 576.304 Q191.991 576.304 195.047 580.91 Q198.125 585.493 198.125 594.243 Q198.125 602.97 195.047 607.577 Q191.991 612.16 186.181 612.16 Q180.371 612.16 177.292 607.577 Q174.237 602.97 174.237 594.243 Q174.237 585.493 177.292 580.91 Q180.371 576.304 186.181 576.304 Z\" fill=\"#000000\" fill-rule=\"nonzero\" fill-opacity=\"1\" /><path clip-path=\"url(#clip310)\" d=\"M119.885 333.846 L136.204 333.846 L136.204 337.781 L114.26 337.781 L114.26 333.846 Q116.922 331.091 121.505 326.462 Q126.112 321.809 127.292 320.466 Q129.538 317.943 130.417 316.207 Q131.32 314.448 131.32 312.758 Q131.32 310.003 129.376 308.267 Q127.455 306.531 124.353 306.531 Q122.154 306.531 119.7 307.295 Q117.269 308.059 114.492 309.61 L114.492 304.888 Q117.316 303.753 119.769 303.175 Q122.223 302.596 124.26 302.596 Q129.63 302.596 132.825 305.281 Q136.019 307.966 136.019 312.457 Q136.019 314.587 135.209 316.508 Q134.422 318.406 132.316 320.999 Q131.737 321.67 128.635 324.888 Q125.533 328.082 119.885 333.846 Z\" fill=\"#000000\" fill-rule=\"nonzero\" fill-opacity=\"1\" /><path clip-path=\"url(#clip310)\" d=\"M156.019 306.3 Q152.408 306.3 150.579 309.864 Q148.774 313.406 148.774 320.536 Q148.774 327.642 150.579 331.207 Q152.408 334.749 156.019 334.749 Q159.653 334.749 161.459 331.207 Q163.288 327.642 163.288 320.536 Q163.288 313.406 161.459 309.864 Q159.653 306.3 156.019 306.3 M156.019 302.596 Q161.829 302.596 164.885 307.202 Q167.964 311.786 167.964 320.536 Q167.964 329.262 164.885 333.869 Q161.829 338.452 156.019 338.452 Q150.209 338.452 147.13 333.869 Q144.075 329.262 144.075 320.536 Q144.075 311.786 147.13 307.202 Q150.209 302.596 156.019 302.596 Z\" fill=\"#000000\" fill-rule=\"nonzero\" fill-opacity=\"1\" /><path clip-path=\"url(#clip310)\" d=\"M186.181 306.3 Q182.57 306.3 180.741 309.864 Q178.936 313.406 178.936 320.536 Q178.936 327.642 180.741 331.207 Q182.57 334.749 186.181 334.749 Q189.815 334.749 191.621 331.207 Q193.45 327.642 193.45 320.536 Q193.45 313.406 191.621 309.864 Q189.815 306.3 186.181 306.3 M186.181 302.596 Q191.991 302.596 195.047 307.202 Q198.125 311.786 198.125 320.536 Q198.125 329.262 195.047 333.869 Q191.991 338.452 186.181 338.452 Q180.371 338.452 177.292 333.869 Q174.237 329.262 174.237 320.536 Q174.237 311.786 177.292 307.202 Q180.371 302.596 186.181 302.596 Z\" fill=\"#000000\" fill-rule=\"nonzero\" fill-opacity=\"1\" /><path clip-path=\"url(#clip310)\" d=\"M16.4842 793.362 L16.4842 786.455 L36.0269 773.278 L16.4842 760.197 L16.4842 753.29 L41.3741 770.095 L64.0042 770.095 L64.0042 776.557 L41.3741 776.557 L16.4842 793.362 Z\" fill=\"#000000\" fill-rule=\"nonzero\" fill-opacity=\"1\" /><path clip-path=\"url(#clip310)\" d=\"M851.649 18.8205 L851.649 65.8515 L861.533 65.8515 Q874.051 65.8515 879.843 60.1802 Q885.677 54.509 885.677 42.2752 Q885.677 30.1225 879.843 24.4918 Q874.051 18.8205 861.533 18.8205 L851.649 18.8205 M843.466 12.096 L860.277 12.096 Q877.858 12.096 886.082 19.4281 Q894.305 26.7198 894.305 42.2752 Q894.305 57.9117 886.041 65.2439 Q877.777 72.576 860.277 72.576 L843.466 72.576 L843.466 12.096 Z\" fill=\"#000000\" fill-rule=\"nonzero\" fill-opacity=\"1\" /><path clip-path=\"url(#clip310)\" d=\"M927.644 49.7694 Q918.611 49.7694 915.127 51.8354 Q911.643 53.9013 911.643 58.8839 Q911.643 62.8538 914.236 65.2034 Q916.869 67.5124 921.365 67.5124 Q927.563 67.5124 931.29 63.1374 Q935.057 58.7219 935.057 51.4303 L935.057 49.7694 L927.644 49.7694 M942.511 46.6907 L942.511 72.576 L935.057 72.576 L935.057 65.6895 Q932.505 69.8214 928.697 71.8063 Q924.889 73.7508 919.38 73.7508 Q912.413 73.7508 908.281 69.8619 Q904.189 65.9325 904.189 59.3701 Q904.189 51.7138 909.293 47.825 Q914.438 43.9361 924.606 43.9361 L935.057 43.9361 L935.057 43.2069 Q935.057 38.0623 931.654 35.2672 Q928.292 32.4315 922.175 32.4315 Q918.286 32.4315 914.6 33.3632 Q910.914 34.295 907.511 36.1584 L907.511 29.2718 Q911.602 27.692 915.451 26.9223 Q919.299 26.1121 922.945 26.1121 Q932.789 26.1121 937.65 31.2163 Q942.511 36.3204 942.511 46.6907 Z\" fill=\"#000000\" fill-rule=\"nonzero\" fill-opacity=\"1\" /><path clip-path=\"url(#clip310)\" d=\"M965.236 14.324 L965.236 27.2059 L980.589 27.2059 L980.589 32.9987 L965.236 32.9987 L965.236 57.6282 Q965.236 63.1779 966.735 64.7578 Q968.275 66.3376 972.933 66.3376 L980.589 66.3376 L980.589 72.576 L972.933 72.576 Q964.305 72.576 961.023 69.3758 Q957.742 66.1351 957.742 57.6282 L957.742 32.9987 L952.274 32.9987 L952.274 27.2059 L957.742 27.2059 L957.742 14.324 L965.236 14.324 Z\" fill=\"#000000\" fill-rule=\"nonzero\" fill-opacity=\"1\" /><path clip-path=\"url(#clip310)\" d=\"M1011.01 49.7694 Q1001.98 49.7694 998.494 51.8354 Q995.011 53.9013 995.011 58.8839 Q995.011 62.8538 997.603 65.2034 Q1000.24 67.5124 1004.73 67.5124 Q1010.93 67.5124 1014.66 63.1374 Q1018.42 58.7219 1018.42 51.4303 L1018.42 49.7694 L1011.01 49.7694 M1025.88 46.6907 L1025.88 72.576 L1018.42 72.576 L1018.42 65.6895 Q1015.87 69.8214 1012.06 71.8063 Q1008.26 73.7508 1002.75 73.7508 Q995.78 73.7508 991.648 69.8619 Q987.557 65.9325 987.557 59.3701 Q987.557 51.7138 992.661 47.825 Q997.806 43.9361 1007.97 43.9361 L1018.42 43.9361 L1018.42 43.2069 Q1018.42 38.0623 1015.02 35.2672 Q1011.66 32.4315 1005.54 32.4315 Q1001.65 32.4315 997.968 33.3632 Q994.281 34.295 990.879 36.1584 L990.879 29.2718 Q994.97 27.692 998.818 26.9223 Q1002.67 26.1121 1006.31 26.1121 Q1016.16 26.1121 1021.02 31.2163 Q1025.88 36.3204 1025.88 46.6907 Z\" fill=\"#000000\" fill-rule=\"nonzero\" fill-opacity=\"1\" /><path clip-path=\"url(#clip310)\" d=\"M1088.22 49.7694 Q1079.19 49.7694 1075.7 51.8354 Q1072.22 53.9013 1072.22 58.8839 Q1072.22 62.8538 1074.81 65.2034 Q1077.45 67.5124 1081.94 67.5124 Q1088.14 67.5124 1091.87 63.1374 Q1095.64 58.7219 1095.64 51.4303 L1095.64 49.7694 L1088.22 49.7694 M1103.09 46.6907 L1103.09 72.576 L1095.64 72.576 L1095.64 65.6895 Q1093.08 69.8214 1089.28 71.8063 Q1085.47 73.7508 1079.96 73.7508 Q1072.99 73.7508 1068.86 69.8619 Q1064.77 65.9325 1064.77 59.3701 Q1064.77 51.7138 1069.87 47.825 Q1075.02 43.9361 1085.18 43.9361 L1095.64 43.9361 L1095.64 43.2069 Q1095.64 38.0623 1092.23 35.2672 Q1088.87 32.4315 1082.75 32.4315 Q1078.86 32.4315 1075.18 33.3632 Q1071.49 34.295 1068.09 36.1584 L1068.09 29.2718 Q1072.18 27.692 1076.03 26.9223 Q1079.88 26.1121 1083.52 26.1121 Q1093.37 26.1121 1098.23 31.2163 Q1103.09 36.3204 1103.09 46.6907 Z\" fill=\"#000000\" fill-rule=\"nonzero\" fill-opacity=\"1\" /><path clip-path=\"url(#clip310)\" d=\"M1156.16 45.1919 L1156.16 72.576 L1148.7 72.576 L1148.7 45.4349 Q1148.7 38.994 1146.19 35.7938 Q1143.68 32.5936 1138.66 32.5936 Q1132.62 32.5936 1129.14 36.4419 Q1125.65 40.2903 1125.65 46.9338 L1125.65 72.576 L1118.16 72.576 L1118.16 27.2059 L1125.65 27.2059 L1125.65 34.2544 Q1128.33 30.163 1131.93 28.1376 Q1135.58 26.1121 1140.32 26.1121 Q1148.13 26.1121 1152.15 30.9732 Q1156.16 35.7938 1156.16 45.1919 Z\" fill=\"#000000\" fill-rule=\"nonzero\" fill-opacity=\"1\" /><path clip-path=\"url(#clip310)\" d=\"M1200.88 34.0924 L1200.88 9.54393 L1208.33 9.54393 L1208.33 72.576 L1200.88 72.576 L1200.88 65.7705 Q1198.53 69.8214 1194.92 71.8063 Q1191.36 73.7508 1186.33 73.7508 Q1178.11 73.7508 1172.93 67.1883 Q1167.78 60.6258 1167.78 49.9314 Q1167.78 39.2371 1172.93 32.6746 Q1178.11 26.1121 1186.33 26.1121 Q1191.36 26.1121 1194.92 28.0971 Q1198.53 30.0415 1200.88 34.0924 M1175.48 49.9314 Q1175.48 58.1548 1178.84 62.8538 Q1182.24 67.5124 1188.16 67.5124 Q1194.07 67.5124 1197.47 62.8538 Q1200.88 58.1548 1200.88 49.9314 Q1200.88 41.7081 1197.47 37.0496 Q1194.07 32.3505 1188.16 32.3505 Q1182.24 32.3505 1178.84 37.0496 Q1175.48 41.7081 1175.48 49.9314 Z\" fill=\"#000000\" fill-rule=\"nonzero\" fill-opacity=\"1\" /><path clip-path=\"url(#clip310)\" d=\"M1250.38 12.096 L1285.14 12.096 L1285.14 18.9825 L1258.56 18.9825 L1258.56 36.8065 L1282.54 36.8065 L1282.54 43.6931 L1258.56 43.6931 L1258.56 72.576 L1250.38 72.576 L1250.38 12.096 Z\" fill=\"#000000\" fill-rule=\"nonzero\" fill-opacity=\"1\" /><path clip-path=\"url(#clip310)\" d=\"M1291.74 27.2059 L1299.19 27.2059 L1299.19 72.576 L1291.74 72.576 L1291.74 27.2059 M1291.74 9.54393 L1299.19 9.54393 L1299.19 18.9825 L1291.74 18.9825 L1291.74 9.54393 Z\" fill=\"#000000\" fill-rule=\"nonzero\" fill-opacity=\"1\" /><path clip-path=\"url(#clip310)\" d=\"M1322.16 14.324 L1322.16 27.2059 L1337.51 27.2059 L1337.51 32.9987 L1322.16 32.9987 L1322.16 57.6282 Q1322.16 63.1779 1323.66 64.7578 Q1325.2 66.3376 1329.86 66.3376 L1337.51 66.3376 L1337.51 72.576 L1329.86 72.576 Q1321.23 72.576 1317.95 69.3758 Q1314.67 66.1351 1314.67 57.6282 L1314.67 32.9987 L1309.2 32.9987 L1309.2 27.2059 L1314.67 27.2059 L1314.67 14.324 L1322.16 14.324 Z\" fill=\"#000000\" fill-rule=\"nonzero\" fill-opacity=\"1\" /><path clip-path=\"url(#clip310)\" d=\"M1354.69 14.324 L1354.69 27.2059 L1370.04 27.2059 L1370.04 32.9987 L1354.69 32.9987 L1354.69 57.6282 Q1354.69 63.1779 1356.19 64.7578 Q1357.73 66.3376 1362.39 66.3376 L1370.04 66.3376 L1370.04 72.576 L1362.39 72.576 Q1353.76 72.576 1350.48 69.3758 Q1347.2 66.1351 1347.2 57.6282 L1347.2 32.9987 L1341.73 32.9987 L1341.73 27.2059 L1347.2 27.2059 L1347.2 14.324 L1354.69 14.324 Z\" fill=\"#000000\" fill-rule=\"nonzero\" fill-opacity=\"1\" /><path clip-path=\"url(#clip310)\" d=\"M1418.65 48.0275 L1418.65 51.6733 L1384.38 51.6733 Q1384.87 59.3701 1389 63.421 Q1393.17 67.4314 1400.59 67.4314 Q1404.88 67.4314 1408.89 66.3781 Q1412.94 65.3249 1416.91 63.2184 L1416.91 70.267 Q1412.9 71.9684 1408.69 72.8596 Q1404.48 73.7508 1400.14 73.7508 Q1389.29 73.7508 1382.93 67.4314 Q1376.61 61.1119 1376.61 50.3365 Q1376.61 39.1965 1382.6 32.6746 Q1388.64 26.1121 1398.85 26.1121 Q1408 26.1121 1413.31 32.0264 Q1418.65 37.9003 1418.65 48.0275 M1411.2 45.84 Q1411.12 39.7232 1407.76 36.0774 Q1404.44 32.4315 1398.93 32.4315 Q1392.69 32.4315 1388.92 35.9558 Q1385.19 39.4801 1384.63 45.8805 L1411.2 45.84 Z\" fill=\"#000000\" fill-rule=\"nonzero\" fill-opacity=\"1\" /><path clip-path=\"url(#clip310)\" d=\"M1460.74 34.0924 L1460.74 9.54393 L1468.2 9.54393 L1468.2 72.576 L1460.74 72.576 L1460.74 65.7705 Q1458.39 69.8214 1454.79 71.8063 Q1451.22 73.7508 1446.2 73.7508 Q1437.98 73.7508 1432.79 67.1883 Q1427.65 60.6258 1427.65 49.9314 Q1427.65 39.2371 1432.79 32.6746 Q1437.98 26.1121 1446.2 26.1121 Q1451.22 26.1121 1454.79 28.0971 Q1458.39 30.0415 1460.74 34.0924 M1435.34 49.9314 Q1435.34 58.1548 1438.71 62.8538 Q1442.11 67.5124 1448.02 67.5124 Q1453.94 67.5124 1457.34 62.8538 Q1460.74 58.1548 1460.74 49.9314 Q1460.74 41.7081 1457.34 37.0496 Q1453.94 32.3505 1448.02 32.3505 Q1442.11 32.3505 1438.71 37.0496 Q1435.34 41.7081 1435.34 49.9314 Z\" fill=\"#000000\" fill-rule=\"nonzero\" fill-opacity=\"1\" /><path clip-path=\"url(#clip310)\" d=\"M1510.25 12.096 L1522.44 12.096 L1537.87 53.2532 L1553.39 12.096 L1565.58 12.096 L1565.58 72.576 L1557.6 72.576 L1557.6 19.4686 L1542 60.9499 L1533.78 60.9499 L1518.18 19.4686 L1518.18 72.576 L1510.25 72.576 L1510.25 12.096 Z\" fill=\"#000000\" fill-rule=\"nonzero\" fill-opacity=\"1\" /><path clip-path=\"url(#clip310)\" d=\"M1599.08 32.4315 Q1593.09 32.4315 1589.6 37.1306 Q1586.12 41.7891 1586.12 49.9314 Q1586.12 58.0738 1589.56 62.7728 Q1593.05 67.4314 1599.08 67.4314 Q1605.04 67.4314 1608.52 62.7323 Q1612 58.0333 1612 49.9314 Q1612 41.8701 1608.52 37.1711 Q1605.04 32.4315 1599.08 32.4315 M1599.08 26.1121 Q1608.8 26.1121 1614.35 32.4315 Q1619.9 38.7509 1619.9 49.9314 Q1619.9 61.0714 1614.35 67.4314 Q1608.8 73.7508 1599.08 73.7508 Q1589.32 73.7508 1583.77 67.4314 Q1578.26 61.0714 1578.26 49.9314 Q1578.26 38.7509 1583.77 32.4315 Q1589.32 26.1121 1599.08 26.1121 Z\" fill=\"#000000\" fill-rule=\"nonzero\" fill-opacity=\"1\" /><path clip-path=\"url(#clip310)\" d=\"M1662.11 34.0924 L1662.11 9.54393 L1669.57 9.54393 L1669.57 72.576 L1662.11 72.576 L1662.11 65.7705 Q1659.76 69.8214 1656.16 71.8063 Q1652.59 73.7508 1647.57 73.7508 Q1639.35 73.7508 1634.16 67.1883 Q1629.02 60.6258 1629.02 49.9314 Q1629.02 39.2371 1634.16 32.6746 Q1639.35 26.1121 1647.57 26.1121 Q1652.59 26.1121 1656.16 28.0971 Q1659.76 30.0415 1662.11 34.0924 M1636.71 49.9314 Q1636.71 58.1548 1640.08 62.8538 Q1643.48 67.5124 1649.39 67.5124 Q1655.31 67.5124 1658.71 62.8538 Q1662.11 58.1548 1662.11 49.9314 Q1662.11 41.7081 1658.71 37.0496 Q1655.31 32.3505 1649.39 32.3505 Q1643.48 32.3505 1640.08 37.0496 Q1636.71 41.7081 1636.71 49.9314 Z\" fill=\"#000000\" fill-rule=\"nonzero\" fill-opacity=\"1\" /><path clip-path=\"url(#clip310)\" d=\"M1723.73 48.0275 L1723.73 51.6733 L1689.46 51.6733 Q1689.94 59.3701 1694.08 63.421 Q1698.25 67.4314 1705.66 67.4314 Q1709.95 67.4314 1713.97 66.3781 Q1718.02 65.3249 1721.99 63.2184 L1721.99 70.267 Q1717.98 71.9684 1713.76 72.8596 Q1709.55 73.7508 1705.22 73.7508 Q1694.36 73.7508 1688 67.4314 Q1681.68 61.1119 1681.68 50.3365 Q1681.68 39.1965 1687.67 32.6746 Q1693.71 26.1121 1703.92 26.1121 Q1713.07 26.1121 1718.38 32.0264 Q1723.73 37.9003 1723.73 48.0275 M1716.27 45.84 Q1716.19 39.7232 1712.83 36.0774 Q1709.51 32.4315 1704 32.4315 Q1697.76 32.4315 1693.99 35.9558 Q1690.27 39.4801 1689.7 45.8805 L1716.27 45.84 Z\" fill=\"#000000\" fill-rule=\"nonzero\" fill-opacity=\"1\" /><path clip-path=\"url(#clip310)\" d=\"M1735.96 9.54393 L1743.42 9.54393 L1743.42 72.576 L1735.96 72.576 L1735.96 9.54393 Z\" fill=\"#000000\" fill-rule=\"nonzero\" fill-opacity=\"1\" /><circle clip-path=\"url(#clip312)\" cx=\"294.087\" cy=\"1386.4\" r=\"14.4\" fill=\"#009af9\" fill-rule=\"evenodd\" fill-opacity=\"1\" stroke=\"#000000\" stroke-opacity=\"1\" stroke-width=\"3.2\"/>\n",
       "<circle clip-path=\"url(#clip312)\" cx=\"516.165\" cy=\"1331.99\" r=\"14.4\" fill=\"#009af9\" fill-rule=\"evenodd\" fill-opacity=\"1\" stroke=\"#000000\" stroke-opacity=\"1\" stroke-width=\"3.2\"/>\n",
       "<circle clip-path=\"url(#clip312)\" cx=\"738.244\" cy=\"1273.65\" r=\"14.4\" fill=\"#009af9\" fill-rule=\"evenodd\" fill-opacity=\"1\" stroke=\"#000000\" stroke-opacity=\"1\" stroke-width=\"3.2\"/>\n",
       "<circle clip-path=\"url(#clip312)\" cx=\"960.323\" cy=\"1181.36\" r=\"14.4\" fill=\"#009af9\" fill-rule=\"evenodd\" fill-opacity=\"1\" stroke=\"#000000\" stroke-opacity=\"1\" stroke-width=\"3.2\"/>\n",
       "<circle clip-path=\"url(#clip312)\" cx=\"1182.4\" cy=\"1052.93\" r=\"14.4\" fill=\"#009af9\" fill-rule=\"evenodd\" fill-opacity=\"1\" stroke=\"#000000\" stroke-opacity=\"1\" stroke-width=\"3.2\"/>\n",
       "<circle clip-path=\"url(#clip312)\" cx=\"1404.48\" cy=\"933.258\" r=\"14.4\" fill=\"#009af9\" fill-rule=\"evenodd\" fill-opacity=\"1\" stroke=\"#000000\" stroke-opacity=\"1\" stroke-width=\"3.2\"/>\n",
       "<circle clip-path=\"url(#clip312)\" cx=\"1626.56\" cy=\"768.578\" r=\"14.4\" fill=\"#009af9\" fill-rule=\"evenodd\" fill-opacity=\"1\" stroke=\"#000000\" stroke-opacity=\"1\" stroke-width=\"3.2\"/>\n",
       "<circle clip-path=\"url(#clip312)\" cx=\"1848.64\" cy=\"577.854\" r=\"14.4\" fill=\"#009af9\" fill-rule=\"evenodd\" fill-opacity=\"1\" stroke=\"#000000\" stroke-opacity=\"1\" stroke-width=\"3.2\"/>\n",
       "<circle clip-path=\"url(#clip312)\" cx=\"2070.72\" cy=\"387.773\" r=\"14.4\" fill=\"#009af9\" fill-rule=\"evenodd\" fill-opacity=\"1\" stroke=\"#000000\" stroke-opacity=\"1\" stroke-width=\"3.2\"/>\n",
       "<circle clip-path=\"url(#clip312)\" cx=\"2292.79\" cy=\"161.907\" r=\"14.4\" fill=\"#009af9\" fill-rule=\"evenodd\" fill-opacity=\"1\" stroke=\"#000000\" stroke-opacity=\"1\" stroke-width=\"3.2\"/>\n",
       "<polyline clip-path=\"url(#clip312)\" style=\"stroke:#e26f46; stroke-linecap:round; stroke-linejoin:round; stroke-width:4; stroke-opacity:1; fill:none\" points=\"294.087,1385.73 516.165,1337.95 738.244,1268.07 960.323,1176.1 1182.4,1062.04 1404.48,925.875 1626.56,767.615 1848.64,587.259 2070.72,384.806 2292.79,160.256 \"/>\n",
       "<path clip-path=\"url(#clip310)\" d=\"M304.746 322.316 L798.344 322.316 L798.344 166.796 L304.746 166.796  Z\" fill=\"#ffffff\" fill-rule=\"evenodd\" fill-opacity=\"1\"/>\n",
       "<polyline clip-path=\"url(#clip310)\" style=\"stroke:#000000; stroke-linecap:round; stroke-linejoin:round; stroke-width:4; stroke-opacity:1; fill:none\" points=\"304.746,322.316 798.344,322.316 798.344,166.796 304.746,166.796 304.746,322.316 \"/>\n",
       "<circle clip-path=\"url(#clip310)\" cx=\"398.908\" cy=\"218.636\" r=\"20.48\" fill=\"#009af9\" fill-rule=\"evenodd\" fill-opacity=\"1\" stroke=\"#000000\" stroke-opacity=\"1\" stroke-width=\"4.55111\"/>\n",
       "<path clip-path=\"url(#clip310)\" d=\"M497.745 205.198 L497.745 232.073 L503.393 232.073 Q510.546 232.073 513.856 228.832 Q517.189 225.592 517.189 218.601 Q517.189 211.657 513.856 208.439 Q510.546 205.198 503.393 205.198 L497.745 205.198 M493.069 201.356 L502.676 201.356 Q512.722 201.356 517.421 205.546 Q522.12 209.712 522.12 218.601 Q522.12 227.536 517.398 231.726 Q512.676 235.916 502.676 235.916 L493.069 235.916 L493.069 201.356 Z\" fill=\"#000000\" fill-rule=\"nonzero\" fill-opacity=\"1\" /><path clip-path=\"url(#clip310)\" d=\"M541.171 222.883 Q536.009 222.883 534.018 224.064 Q532.027 225.244 532.027 228.092 Q532.027 230.36 533.509 231.703 Q535.013 233.022 537.583 233.022 Q541.124 233.022 543.254 230.522 Q545.407 227.999 545.407 223.832 L545.407 222.883 L541.171 222.883 M549.666 221.124 L549.666 235.916 L545.407 235.916 L545.407 231.981 Q543.949 234.342 541.773 235.476 Q539.597 236.587 536.449 236.587 Q532.467 236.587 530.106 234.365 Q527.768 232.119 527.768 228.369 Q527.768 223.994 530.685 221.772 Q533.625 219.55 539.435 219.55 L545.407 219.55 L545.407 219.133 Q545.407 216.194 543.462 214.596 Q541.541 212.976 538.046 212.976 Q535.824 212.976 533.717 213.508 Q531.611 214.041 529.666 215.106 L529.666 211.17 Q532.004 210.268 534.203 209.828 Q536.402 209.365 538.486 209.365 Q544.111 209.365 546.888 212.282 Q549.666 215.198 549.666 221.124 Z\" fill=\"#000000\" fill-rule=\"nonzero\" fill-opacity=\"1\" /><path clip-path=\"url(#clip310)\" d=\"M562.652 202.629 L562.652 209.99 L571.425 209.99 L571.425 213.3 L562.652 213.3 L562.652 227.374 Q562.652 230.545 563.509 231.448 Q564.388 232.351 567.05 232.351 L571.425 232.351 L571.425 235.916 L567.05 235.916 Q562.12 235.916 560.245 234.087 Q558.37 232.235 558.37 227.374 L558.37 213.3 L555.245 213.3 L555.245 209.99 L558.37 209.99 L558.37 202.629 L562.652 202.629 Z\" fill=\"#000000\" fill-rule=\"nonzero\" fill-opacity=\"1\" /><path clip-path=\"url(#clip310)\" d=\"M588.809 222.883 Q583.647 222.883 581.657 224.064 Q579.666 225.244 579.666 228.092 Q579.666 230.36 581.147 231.703 Q582.652 233.022 585.221 233.022 Q588.763 233.022 590.893 230.522 Q593.045 227.999 593.045 223.832 L593.045 222.883 L588.809 222.883 M597.305 221.124 L597.305 235.916 L593.045 235.916 L593.045 231.981 Q591.587 234.342 589.411 235.476 Q587.235 236.587 584.087 236.587 Q580.106 236.587 577.745 234.365 Q575.407 232.119 575.407 228.369 Q575.407 223.994 578.323 221.772 Q581.263 219.55 587.073 219.55 L593.045 219.55 L593.045 219.133 Q593.045 216.194 591.101 214.596 Q589.18 212.976 585.684 212.976 Q583.462 212.976 581.356 213.508 Q579.249 214.041 577.305 215.106 L577.305 211.17 Q579.643 210.268 581.842 209.828 Q584.041 209.365 586.124 209.365 Q591.749 209.365 594.527 212.282 Q597.305 215.198 597.305 221.124 Z\" fill=\"#000000\" fill-rule=\"nonzero\" fill-opacity=\"1\" /><polyline clip-path=\"url(#clip310)\" style=\"stroke:#e26f46; stroke-linecap:round; stroke-linejoin:round; stroke-width:4; stroke-opacity:1; fill:none\" points=\"328.287,270.476 469.529,270.476 \"/>\n",
       "<path clip-path=\"url(#clip310)\" d=\"M493.069 253.196 L512.93 253.196 L512.93 257.131 L497.745 257.131 L497.745 267.316 L511.449 267.316 L511.449 271.251 L497.745 271.251 L497.745 287.756 L493.069 287.756 L493.069 253.196 Z\" fill=\"#000000\" fill-rule=\"nonzero\" fill-opacity=\"1\" /><path clip-path=\"url(#clip310)\" d=\"M516.703 261.83 L520.963 261.83 L520.963 287.756 L516.703 287.756 L516.703 261.83 M516.703 251.737 L520.963 251.737 L520.963 257.131 L516.703 257.131 L516.703 251.737 Z\" fill=\"#000000\" fill-rule=\"nonzero\" fill-opacity=\"1\" /><path clip-path=\"url(#clip310)\" d=\"M534.087 254.469 L534.087 261.83 L542.861 261.83 L542.861 265.14 L534.087 265.14 L534.087 279.214 Q534.087 282.385 534.944 283.288 Q535.824 284.191 538.486 284.191 L542.861 284.191 L542.861 287.756 L538.486 287.756 Q533.555 287.756 531.68 285.927 Q529.805 284.075 529.805 279.214 L529.805 265.14 L526.68 265.14 L526.68 261.83 L529.805 261.83 L529.805 254.469 L534.087 254.469 Z\" fill=\"#000000\" fill-rule=\"nonzero\" fill-opacity=\"1\" /><path clip-path=\"url(#clip310)\" d=\"M552.675 254.469 L552.675 261.83 L561.448 261.83 L561.448 265.14 L552.675 265.14 L552.675 279.214 Q552.675 282.385 553.532 283.288 Q554.411 284.191 557.073 284.191 L561.448 284.191 L561.448 287.756 L557.073 287.756 Q552.143 287.756 550.268 285.927 Q548.393 284.075 548.393 279.214 L548.393 265.14 L545.268 265.14 L545.268 261.83 L548.393 261.83 L548.393 254.469 L552.675 254.469 Z\" fill=\"#000000\" fill-rule=\"nonzero\" fill-opacity=\"1\" /><path clip-path=\"url(#clip310)\" d=\"M589.226 273.728 L589.226 275.811 L569.643 275.811 Q569.921 280.209 572.282 282.524 Q574.666 284.816 578.902 284.816 Q581.356 284.816 583.647 284.214 Q585.962 283.612 588.231 282.409 L588.231 286.436 Q585.939 287.408 583.532 287.918 Q581.124 288.427 578.647 288.427 Q572.444 288.427 568.81 284.816 Q565.198 281.205 565.198 275.047 Q565.198 268.682 568.624 264.955 Q572.073 261.205 577.907 261.205 Q583.138 261.205 586.171 264.585 Q589.226 267.941 589.226 273.728 M584.967 272.478 Q584.921 268.983 582.999 266.899 Q581.101 264.816 577.953 264.816 Q574.388 264.816 572.235 266.83 Q570.106 268.844 569.782 272.501 L584.967 272.478 Z\" fill=\"#000000\" fill-rule=\"nonzero\" fill-opacity=\"1\" /><path clip-path=\"url(#clip310)\" d=\"M613.277 265.765 L613.277 251.737 L617.536 251.737 L617.536 287.756 L613.277 287.756 L613.277 283.867 Q611.934 286.182 609.874 287.316 Q607.837 288.427 604.967 288.427 Q600.268 288.427 597.305 284.677 Q594.365 280.927 594.365 274.816 Q594.365 268.705 597.305 264.955 Q600.268 261.205 604.967 261.205 Q607.837 261.205 609.874 262.339 Q611.934 263.45 613.277 265.765 M598.763 274.816 Q598.763 279.515 600.684 282.2 Q602.629 284.862 606.008 284.862 Q609.388 284.862 611.332 282.2 Q613.277 279.515 613.277 274.816 Q613.277 270.117 611.332 267.455 Q609.388 264.77 606.008 264.77 Q602.629 264.77 600.684 267.455 Q598.763 270.117 598.763 274.816 Z\" fill=\"#000000\" fill-rule=\"nonzero\" fill-opacity=\"1\" /><path clip-path=\"url(#clip310)\" d=\"M641.564 253.196 L648.531 253.196 L657.351 276.714 L666.216 253.196 L673.184 253.196 L673.184 287.756 L668.624 287.756 L668.624 257.409 L659.712 281.112 L655.013 281.112 L646.101 257.409 L646.101 287.756 L641.564 287.756 L641.564 253.196 Z\" fill=\"#000000\" fill-rule=\"nonzero\" fill-opacity=\"1\" /><path clip-path=\"url(#clip310)\" d=\"M692.327 264.816 Q688.901 264.816 686.911 267.501 Q684.92 270.163 684.92 274.816 Q684.92 279.469 686.888 282.154 Q688.878 284.816 692.327 284.816 Q695.73 284.816 697.721 282.131 Q699.712 279.446 699.712 274.816 Q699.712 270.21 697.721 267.524 Q695.73 264.816 692.327 264.816 M692.327 261.205 Q697.883 261.205 701.054 264.816 Q704.225 268.427 704.225 274.816 Q704.225 281.182 701.054 284.816 Q697.883 288.427 692.327 288.427 Q686.749 288.427 683.577 284.816 Q680.429 281.182 680.429 274.816 Q680.429 268.427 683.577 264.816 Q686.749 261.205 692.327 261.205 Z\" fill=\"#000000\" fill-rule=\"nonzero\" fill-opacity=\"1\" /><path clip-path=\"url(#clip310)\" d=\"M728.346 265.765 L728.346 251.737 L732.605 251.737 L732.605 287.756 L728.346 287.756 L728.346 283.867 Q727.003 286.182 724.943 287.316 Q722.906 288.427 720.036 288.427 Q715.336 288.427 712.374 284.677 Q709.434 280.927 709.434 274.816 Q709.434 268.705 712.374 264.955 Q715.336 261.205 720.036 261.205 Q722.906 261.205 724.943 262.339 Q727.003 263.45 728.346 265.765 M713.832 274.816 Q713.832 279.515 715.753 282.2 Q717.698 284.862 721.077 284.862 Q724.457 284.862 726.401 282.2 Q728.346 279.515 728.346 274.816 Q728.346 270.117 726.401 267.455 Q724.457 264.77 721.077 264.77 Q717.698 264.77 715.753 267.455 Q713.832 270.117 713.832 274.816 Z\" fill=\"#000000\" fill-rule=\"nonzero\" fill-opacity=\"1\" /><path clip-path=\"url(#clip310)\" d=\"M763.554 273.728 L763.554 275.811 L743.971 275.811 Q744.248 280.209 746.609 282.524 Q748.994 284.816 753.23 284.816 Q755.684 284.816 757.975 284.214 Q760.29 283.612 762.558 282.409 L762.558 286.436 Q760.267 287.408 757.859 287.918 Q755.452 288.427 752.975 288.427 Q746.772 288.427 743.137 284.816 Q739.526 281.205 739.526 275.047 Q739.526 268.682 742.952 264.955 Q746.401 261.205 752.234 261.205 Q757.466 261.205 760.498 264.585 Q763.554 267.941 763.554 273.728 M759.295 272.478 Q759.248 268.983 757.327 266.899 Q755.429 264.816 752.281 264.816 Q748.716 264.816 746.563 266.83 Q744.434 268.844 744.109 272.501 L759.295 272.478 Z\" fill=\"#000000\" fill-rule=\"nonzero\" fill-opacity=\"1\" /><path clip-path=\"url(#clip310)\" d=\"M770.545 251.737 L774.804 251.737 L774.804 287.756 L770.545 287.756 L770.545 251.737 Z\" fill=\"#000000\" fill-rule=\"nonzero\" fill-opacity=\"1\" /></svg>\n"
      ],
      "text/html": [
       "<?xml version=\"1.0\" encoding=\"utf-8\"?>\n",
       "<svg xmlns=\"http://www.w3.org/2000/svg\" xmlns:xlink=\"http://www.w3.org/1999/xlink\" width=\"600\" height=\"400\" viewBox=\"0 0 2400 1600\">\n",
       "<defs>\n",
       "  <clipPath id=\"clip360\">\n",
       "    <rect x=\"0\" y=\"0\" width=\"2400\" height=\"1600\"/>\n",
       "  </clipPath>\n",
       "</defs>\n",
       "<path clip-path=\"url(#clip360)\" d=\"M0 1600 L2400 1600 L2400 8.88178e-14 L0 8.88178e-14  Z\" fill=\"#ffffff\" fill-rule=\"evenodd\" fill-opacity=\"1\"/>\n",
       "<defs>\n",
       "  <clipPath id=\"clip361\">\n",
       "    <rect x=\"480\" y=\"0\" width=\"1681\" height=\"1600\"/>\n",
       "  </clipPath>\n",
       "</defs>\n",
       "<path clip-path=\"url(#clip360)\" d=\"M234.125 1423.18 L2352.76 1423.18 L2352.76 123.472 L234.125 123.472  Z\" fill=\"#ffffff\" fill-rule=\"evenodd\" fill-opacity=\"1\"/>\n",
       "<defs>\n",
       "  <clipPath id=\"clip362\">\n",
       "    <rect x=\"234\" y=\"123\" width=\"2120\" height=\"1301\"/>\n",
       "  </clipPath>\n",
       "</defs>\n",
       "<polyline clip-path=\"url(#clip362)\" style=\"stroke:#000000; stroke-linecap:round; stroke-linejoin:round; stroke-width:2; stroke-opacity:0.1; fill:none\" points=\"516.165,1423.18 516.165,123.472 \"/>\n",
       "<polyline clip-path=\"url(#clip362)\" style=\"stroke:#000000; stroke-linecap:round; stroke-linejoin:round; stroke-width:2; stroke-opacity:0.1; fill:none\" points=\"960.323,1423.18 960.323,123.472 \"/>\n",
       "<polyline clip-path=\"url(#clip362)\" style=\"stroke:#000000; stroke-linecap:round; stroke-linejoin:round; stroke-width:2; stroke-opacity:0.1; fill:none\" points=\"1404.48,1423.18 1404.48,123.472 \"/>\n",
       "<polyline clip-path=\"url(#clip362)\" style=\"stroke:#000000; stroke-linecap:round; stroke-linejoin:round; stroke-width:2; stroke-opacity:0.1; fill:none\" points=\"1848.64,1423.18 1848.64,123.472 \"/>\n",
       "<polyline clip-path=\"url(#clip362)\" style=\"stroke:#000000; stroke-linecap:round; stroke-linejoin:round; stroke-width:2; stroke-opacity:0.1; fill:none\" points=\"2292.79,1423.18 2292.79,123.472 \"/>\n",
       "<polyline clip-path=\"url(#clip360)\" style=\"stroke:#000000; stroke-linecap:round; stroke-linejoin:round; stroke-width:4; stroke-opacity:1; fill:none\" points=\"234.125,1423.18 2352.76,1423.18 \"/>\n",
       "<polyline clip-path=\"url(#clip360)\" style=\"stroke:#000000; stroke-linecap:round; stroke-linejoin:round; stroke-width:4; stroke-opacity:1; fill:none\" points=\"516.165,1423.18 516.165,1404.28 \"/>\n",
       "<polyline clip-path=\"url(#clip360)\" style=\"stroke:#000000; stroke-linecap:round; stroke-linejoin:round; stroke-width:4; stroke-opacity:1; fill:none\" points=\"960.323,1423.18 960.323,1404.28 \"/>\n",
       "<polyline clip-path=\"url(#clip360)\" style=\"stroke:#000000; stroke-linecap:round; stroke-linejoin:round; stroke-width:4; stroke-opacity:1; fill:none\" points=\"1404.48,1423.18 1404.48,1404.28 \"/>\n",
       "<polyline clip-path=\"url(#clip360)\" style=\"stroke:#000000; stroke-linecap:round; stroke-linejoin:round; stroke-width:4; stroke-opacity:1; fill:none\" points=\"1848.64,1423.18 1848.64,1404.28 \"/>\n",
       "<polyline clip-path=\"url(#clip360)\" style=\"stroke:#000000; stroke-linecap:round; stroke-linejoin:round; stroke-width:4; stroke-opacity:1; fill:none\" points=\"2292.79,1423.18 2292.79,1404.28 \"/>\n",
       "<path clip-path=\"url(#clip360)\" d=\"M510.818 1481.64 L527.138 1481.64 L527.138 1485.58 L505.193 1485.58 L505.193 1481.64 Q507.855 1478.89 512.439 1474.26 Q517.045 1469.61 518.226 1468.27 Q520.471 1465.74 521.351 1464.01 Q522.253 1462.25 522.253 1460.56 Q522.253 1457.8 520.309 1456.07 Q518.388 1454.33 515.286 1454.33 Q513.087 1454.33 510.633 1455.09 Q508.202 1455.86 505.425 1457.41 L505.425 1452.69 Q508.249 1451.55 510.702 1450.97 Q513.156 1450.39 515.193 1450.39 Q520.563 1450.39 523.758 1453.08 Q526.952 1455.77 526.952 1460.26 Q526.952 1462.39 526.142 1464.31 Q525.355 1466.2 523.249 1468.8 Q522.67 1469.47 519.568 1472.69 Q516.466 1475.88 510.818 1481.64 Z\" fill=\"#000000\" fill-rule=\"nonzero\" fill-opacity=\"1\" /><path clip-path=\"url(#clip360)\" d=\"M963.332 1455.09 L951.526 1473.54 L963.332 1473.54 L963.332 1455.09 M962.105 1451.02 L967.985 1451.02 L967.985 1473.54 L972.915 1473.54 L972.915 1477.43 L967.985 1477.43 L967.985 1485.58 L963.332 1485.58 L963.332 1477.43 L947.73 1477.43 L947.73 1472.92 L962.105 1451.02 Z\" fill=\"#000000\" fill-rule=\"nonzero\" fill-opacity=\"1\" /><path clip-path=\"url(#clip360)\" d=\"M1404.89 1466.44 Q1401.74 1466.44 1399.89 1468.59 Q1398.06 1470.74 1398.06 1474.49 Q1398.06 1478.22 1399.89 1480.39 Q1401.74 1482.55 1404.89 1482.55 Q1408.03 1482.55 1409.86 1480.39 Q1411.71 1478.22 1411.71 1474.49 Q1411.71 1470.74 1409.86 1468.59 Q1408.03 1466.44 1404.89 1466.44 M1414.17 1451.78 L1414.17 1456.04 Q1412.41 1455.21 1410.6 1454.77 Q1408.82 1454.33 1407.06 1454.33 Q1402.43 1454.33 1399.98 1457.45 Q1397.55 1460.58 1397.2 1466.9 Q1398.57 1464.89 1400.63 1463.82 Q1402.69 1462.73 1405.16 1462.73 Q1410.37 1462.73 1413.38 1465.9 Q1416.41 1469.05 1416.41 1474.49 Q1416.41 1479.82 1413.26 1483.03 Q1410.12 1486.25 1404.89 1486.25 Q1398.89 1486.25 1395.72 1481.67 Q1392.55 1477.06 1392.55 1468.33 Q1392.55 1460.14 1396.44 1455.28 Q1400.32 1450.39 1406.88 1450.39 Q1408.64 1450.39 1410.42 1450.74 Q1412.22 1451.09 1414.17 1451.78 Z\" fill=\"#000000\" fill-rule=\"nonzero\" fill-opacity=\"1\" /><path clip-path=\"url(#clip360)\" d=\"M1848.64 1469.17 Q1845.3 1469.17 1843.38 1470.95 Q1841.48 1472.73 1841.48 1475.86 Q1841.48 1478.98 1843.38 1480.77 Q1845.3 1482.55 1848.64 1482.55 Q1851.97 1482.55 1853.89 1480.77 Q1855.81 1478.96 1855.81 1475.86 Q1855.81 1472.73 1853.89 1470.95 Q1851.99 1469.17 1848.64 1469.17 M1843.96 1467.18 Q1840.95 1466.44 1839.26 1464.38 Q1837.6 1462.32 1837.6 1459.35 Q1837.6 1455.21 1840.54 1452.8 Q1843.5 1450.39 1848.64 1450.39 Q1853.8 1450.39 1856.74 1452.8 Q1859.68 1455.21 1859.68 1459.35 Q1859.68 1462.32 1857.99 1464.38 Q1856.32 1466.44 1853.34 1467.18 Q1856.72 1467.96 1858.59 1470.26 Q1860.49 1472.55 1860.49 1475.86 Q1860.49 1480.88 1857.41 1483.57 Q1854.35 1486.25 1848.64 1486.25 Q1842.92 1486.25 1839.84 1483.57 Q1836.79 1480.88 1836.79 1475.86 Q1836.79 1472.55 1838.68 1470.26 Q1840.58 1467.96 1843.96 1467.18 M1842.25 1459.79 Q1842.25 1462.48 1843.92 1463.98 Q1845.6 1465.49 1848.64 1465.49 Q1851.65 1465.49 1853.34 1463.98 Q1855.05 1462.48 1855.05 1459.79 Q1855.05 1457.11 1853.34 1455.6 Q1851.65 1454.1 1848.64 1454.1 Q1845.6 1454.1 1843.92 1455.6 Q1842.25 1457.11 1842.25 1459.79 Z\" fill=\"#000000\" fill-rule=\"nonzero\" fill-opacity=\"1\" /><path clip-path=\"url(#clip360)\" d=\"M2267.48 1481.64 L2275.12 1481.64 L2275.12 1455.28 L2266.81 1456.95 L2266.81 1452.69 L2275.07 1451.02 L2279.75 1451.02 L2279.75 1481.64 L2287.39 1481.64 L2287.39 1485.58 L2267.48 1485.58 L2267.48 1481.64 Z\" fill=\"#000000\" fill-rule=\"nonzero\" fill-opacity=\"1\" /><path clip-path=\"url(#clip360)\" d=\"M2306.83 1454.1 Q2303.22 1454.1 2301.39 1457.66 Q2299.59 1461.2 2299.59 1468.33 Q2299.59 1475.44 2301.39 1479.01 Q2303.22 1482.55 2306.83 1482.55 Q2310.47 1482.55 2312.27 1479.01 Q2314.1 1475.44 2314.1 1468.33 Q2314.1 1461.2 2312.27 1457.66 Q2310.47 1454.1 2306.83 1454.1 M2306.83 1450.39 Q2312.64 1450.39 2315.7 1455 Q2318.78 1459.58 2318.78 1468.33 Q2318.78 1477.06 2315.7 1481.67 Q2312.64 1486.25 2306.83 1486.25 Q2301.02 1486.25 2297.95 1481.67 Q2294.89 1477.06 2294.89 1468.33 Q2294.89 1459.58 2297.95 1455 Q2301.02 1450.39 2306.83 1450.39 Z\" fill=\"#000000\" fill-rule=\"nonzero\" fill-opacity=\"1\" /><path clip-path=\"url(#clip360)\" d=\"M1275.27 1520.52 L1282.17 1520.52 L1293.98 1538.19 L1305.85 1520.52 L1312.76 1520.52 L1297.48 1543.34 L1313.78 1568.04 L1306.87 1568.04 L1293.5 1547.83 L1280.04 1568.04 L1273.1 1568.04 L1290.07 1542.68 L1275.27 1520.52 Z\" fill=\"#000000\" fill-rule=\"nonzero\" fill-opacity=\"1\" /><polyline clip-path=\"url(#clip362)\" style=\"stroke:#000000; stroke-linecap:round; stroke-linejoin:round; stroke-width:2; stroke-opacity:0.1; fill:none\" points=\"234.125,1415.33 2352.76,1415.33 \"/>\n",
       "<polyline clip-path=\"url(#clip362)\" style=\"stroke:#000000; stroke-linecap:round; stroke-linejoin:round; stroke-width:2; stroke-opacity:0.1; fill:none\" points=\"234.125,1141.62 2352.76,1141.62 \"/>\n",
       "<polyline clip-path=\"url(#clip362)\" style=\"stroke:#000000; stroke-linecap:round; stroke-linejoin:round; stroke-width:2; stroke-opacity:0.1; fill:none\" points=\"234.125,867.916 2352.76,867.916 \"/>\n",
       "<polyline clip-path=\"url(#clip362)\" style=\"stroke:#000000; stroke-linecap:round; stroke-linejoin:round; stroke-width:2; stroke-opacity:0.1; fill:none\" points=\"234.125,594.209 2352.76,594.209 \"/>\n",
       "<polyline clip-path=\"url(#clip362)\" style=\"stroke:#000000; stroke-linecap:round; stroke-linejoin:round; stroke-width:2; stroke-opacity:0.1; fill:none\" points=\"234.125,320.501 2352.76,320.501 \"/>\n",
       "<polyline clip-path=\"url(#clip360)\" style=\"stroke:#000000; stroke-linecap:round; stroke-linejoin:round; stroke-width:4; stroke-opacity:1; fill:none\" points=\"234.125,1423.18 234.125,123.472 \"/>\n",
       "<polyline clip-path=\"url(#clip360)\" style=\"stroke:#000000; stroke-linecap:round; stroke-linejoin:round; stroke-width:4; stroke-opacity:1; fill:none\" points=\"234.125,1415.33 253.023,1415.33 \"/>\n",
       "<polyline clip-path=\"url(#clip360)\" style=\"stroke:#000000; stroke-linecap:round; stroke-linejoin:round; stroke-width:4; stroke-opacity:1; fill:none\" points=\"234.125,1141.62 253.023,1141.62 \"/>\n",
       "<polyline clip-path=\"url(#clip360)\" style=\"stroke:#000000; stroke-linecap:round; stroke-linejoin:round; stroke-width:4; stroke-opacity:1; fill:none\" points=\"234.125,867.916 253.023,867.916 \"/>\n",
       "<polyline clip-path=\"url(#clip360)\" style=\"stroke:#000000; stroke-linecap:round; stroke-linejoin:round; stroke-width:4; stroke-opacity:1; fill:none\" points=\"234.125,594.209 253.023,594.209 \"/>\n",
       "<polyline clip-path=\"url(#clip360)\" style=\"stroke:#000000; stroke-linecap:round; stroke-linejoin:round; stroke-width:4; stroke-opacity:1; fill:none\" points=\"234.125,320.501 253.023,320.501 \"/>\n",
       "<path clip-path=\"url(#clip360)\" d=\"M186.181 1401.13 Q182.57 1401.13 180.741 1404.7 Q178.936 1408.24 178.936 1415.37 Q178.936 1422.47 180.741 1426.04 Q182.57 1429.58 186.181 1429.58 Q189.815 1429.58 191.621 1426.04 Q193.45 1422.47 193.45 1415.37 Q193.45 1408.24 191.621 1404.7 Q189.815 1401.13 186.181 1401.13 M186.181 1397.43 Q191.991 1397.43 195.047 1402.03 Q198.125 1406.62 198.125 1415.37 Q198.125 1424.09 195.047 1428.7 Q191.991 1433.28 186.181 1433.28 Q180.371 1433.28 177.292 1428.7 Q174.237 1424.09 174.237 1415.37 Q174.237 1406.62 177.292 1402.03 Q180.371 1397.43 186.181 1397.43 Z\" fill=\"#000000\" fill-rule=\"nonzero\" fill-opacity=\"1\" /><path clip-path=\"url(#clip360)\" d=\"M146.066 1124.34 L164.422 1124.34 L164.422 1128.28 L150.348 1128.28 L150.348 1136.75 Q151.366 1136.4 152.385 1136.24 Q153.403 1136.06 154.422 1136.06 Q160.209 1136.06 163.589 1139.23 Q166.968 1142.4 166.968 1147.82 Q166.968 1153.39 163.496 1156.5 Q160.024 1159.58 153.704 1159.58 Q151.528 1159.58 149.26 1159.2 Q147.015 1158.83 144.607 1158.09 L144.607 1153.39 Q146.691 1154.53 148.913 1155.08 Q151.135 1155.64 153.612 1155.64 Q157.616 1155.64 159.954 1153.53 Q162.292 1151.43 162.292 1147.82 Q162.292 1144.2 159.954 1142.1 Q157.616 1139.99 153.612 1139.99 Q151.737 1139.99 149.862 1140.41 Q148.01 1140.83 146.066 1141.7 L146.066 1124.34 Z\" fill=\"#000000\" fill-rule=\"nonzero\" fill-opacity=\"1\" /><path clip-path=\"url(#clip360)\" d=\"M186.181 1127.42 Q182.57 1127.42 180.741 1130.99 Q178.936 1134.53 178.936 1141.66 Q178.936 1148.77 180.741 1152.33 Q182.57 1155.87 186.181 1155.87 Q189.815 1155.87 191.621 1152.33 Q193.45 1148.77 193.45 1141.66 Q193.45 1134.53 191.621 1130.99 Q189.815 1127.42 186.181 1127.42 M186.181 1123.72 Q191.991 1123.72 195.047 1128.33 Q198.125 1132.91 198.125 1141.66 Q198.125 1150.39 195.047 1154.99 Q191.991 1159.58 186.181 1159.58 Q180.371 1159.58 177.292 1154.99 Q174.237 1150.39 174.237 1141.66 Q174.237 1132.91 177.292 1128.33 Q180.371 1123.72 186.181 1123.72 Z\" fill=\"#000000\" fill-rule=\"nonzero\" fill-opacity=\"1\" /><path clip-path=\"url(#clip360)\" d=\"M116.668 881.261 L124.306 881.261 L124.306 854.895 L115.996 856.562 L115.996 852.303 L124.26 850.636 L128.936 850.636 L128.936 881.261 L136.575 881.261 L136.575 885.196 L116.668 885.196 L116.668 881.261 Z\" fill=\"#000000\" fill-rule=\"nonzero\" fill-opacity=\"1\" /><path clip-path=\"url(#clip360)\" d=\"M156.019 853.715 Q152.408 853.715 150.579 857.28 Q148.774 860.821 148.774 867.951 Q148.774 875.057 150.579 878.622 Q152.408 882.164 156.019 882.164 Q159.653 882.164 161.459 878.622 Q163.288 875.057 163.288 867.951 Q163.288 860.821 161.459 857.28 Q159.653 853.715 156.019 853.715 M156.019 850.011 Q161.829 850.011 164.885 854.618 Q167.964 859.201 167.964 867.951 Q167.964 876.678 164.885 881.284 Q161.829 885.868 156.019 885.868 Q150.209 885.868 147.13 881.284 Q144.075 876.678 144.075 867.951 Q144.075 859.201 147.13 854.618 Q150.209 850.011 156.019 850.011 Z\" fill=\"#000000\" fill-rule=\"nonzero\" fill-opacity=\"1\" /><path clip-path=\"url(#clip360)\" d=\"M186.181 853.715 Q182.57 853.715 180.741 857.28 Q178.936 860.821 178.936 867.951 Q178.936 875.057 180.741 878.622 Q182.57 882.164 186.181 882.164 Q189.815 882.164 191.621 878.622 Q193.45 875.057 193.45 867.951 Q193.45 860.821 191.621 857.28 Q189.815 853.715 186.181 853.715 M186.181 850.011 Q191.991 850.011 195.047 854.618 Q198.125 859.201 198.125 867.951 Q198.125 876.678 195.047 881.284 Q191.991 885.868 186.181 885.868 Q180.371 885.868 177.292 881.284 Q174.237 876.678 174.237 867.951 Q174.237 859.201 177.292 854.618 Q180.371 850.011 186.181 850.011 Z\" fill=\"#000000\" fill-rule=\"nonzero\" fill-opacity=\"1\" /><path clip-path=\"url(#clip360)\" d=\"M116.668 607.553 L124.306 607.553 L124.306 581.188 L115.996 582.855 L115.996 578.595 L124.26 576.929 L128.936 576.929 L128.936 607.553 L136.575 607.553 L136.575 611.489 L116.668 611.489 L116.668 607.553 Z\" fill=\"#000000\" fill-rule=\"nonzero\" fill-opacity=\"1\" /><path clip-path=\"url(#clip360)\" d=\"M146.066 576.929 L164.422 576.929 L164.422 580.864 L150.348 580.864 L150.348 589.336 Q151.366 588.989 152.385 588.827 Q153.403 588.642 154.422 588.642 Q160.209 588.642 163.589 591.813 Q166.968 594.984 166.968 600.401 Q166.968 605.979 163.496 609.081 Q160.024 612.16 153.704 612.16 Q151.528 612.16 149.26 611.79 Q147.015 611.419 144.607 610.678 L144.607 605.979 Q146.691 607.114 148.913 607.669 Q151.135 608.225 153.612 608.225 Q157.616 608.225 159.954 606.118 Q162.292 604.012 162.292 600.401 Q162.292 596.79 159.954 594.683 Q157.616 592.577 153.612 592.577 Q151.737 592.577 149.862 592.993 Q148.01 593.41 146.066 594.29 L146.066 576.929 Z\" fill=\"#000000\" fill-rule=\"nonzero\" fill-opacity=\"1\" /><path clip-path=\"url(#clip360)\" d=\"M186.181 580.007 Q182.57 580.007 180.741 583.572 Q178.936 587.114 178.936 594.243 Q178.936 601.35 180.741 604.915 Q182.57 608.456 186.181 608.456 Q189.815 608.456 191.621 604.915 Q193.45 601.35 193.45 594.243 Q193.45 587.114 191.621 583.572 Q189.815 580.007 186.181 580.007 M186.181 576.304 Q191.991 576.304 195.047 580.91 Q198.125 585.493 198.125 594.243 Q198.125 602.97 195.047 607.577 Q191.991 612.16 186.181 612.16 Q180.371 612.16 177.292 607.577 Q174.237 602.97 174.237 594.243 Q174.237 585.493 177.292 580.91 Q180.371 576.304 186.181 576.304 Z\" fill=\"#000000\" fill-rule=\"nonzero\" fill-opacity=\"1\" /><path clip-path=\"url(#clip360)\" d=\"M119.885 333.846 L136.204 333.846 L136.204 337.781 L114.26 337.781 L114.26 333.846 Q116.922 331.091 121.505 326.462 Q126.112 321.809 127.292 320.466 Q129.538 317.943 130.417 316.207 Q131.32 314.448 131.32 312.758 Q131.32 310.003 129.376 308.267 Q127.455 306.531 124.353 306.531 Q122.154 306.531 119.7 307.295 Q117.269 308.059 114.492 309.61 L114.492 304.888 Q117.316 303.753 119.769 303.175 Q122.223 302.596 124.26 302.596 Q129.63 302.596 132.825 305.281 Q136.019 307.966 136.019 312.457 Q136.019 314.587 135.209 316.508 Q134.422 318.406 132.316 320.999 Q131.737 321.67 128.635 324.888 Q125.533 328.082 119.885 333.846 Z\" fill=\"#000000\" fill-rule=\"nonzero\" fill-opacity=\"1\" /><path clip-path=\"url(#clip360)\" d=\"M156.019 306.3 Q152.408 306.3 150.579 309.864 Q148.774 313.406 148.774 320.536 Q148.774 327.642 150.579 331.207 Q152.408 334.749 156.019 334.749 Q159.653 334.749 161.459 331.207 Q163.288 327.642 163.288 320.536 Q163.288 313.406 161.459 309.864 Q159.653 306.3 156.019 306.3 M156.019 302.596 Q161.829 302.596 164.885 307.202 Q167.964 311.786 167.964 320.536 Q167.964 329.262 164.885 333.869 Q161.829 338.452 156.019 338.452 Q150.209 338.452 147.13 333.869 Q144.075 329.262 144.075 320.536 Q144.075 311.786 147.13 307.202 Q150.209 302.596 156.019 302.596 Z\" fill=\"#000000\" fill-rule=\"nonzero\" fill-opacity=\"1\" /><path clip-path=\"url(#clip360)\" d=\"M186.181 306.3 Q182.57 306.3 180.741 309.864 Q178.936 313.406 178.936 320.536 Q178.936 327.642 180.741 331.207 Q182.57 334.749 186.181 334.749 Q189.815 334.749 191.621 331.207 Q193.45 327.642 193.45 320.536 Q193.45 313.406 191.621 309.864 Q189.815 306.3 186.181 306.3 M186.181 302.596 Q191.991 302.596 195.047 307.202 Q198.125 311.786 198.125 320.536 Q198.125 329.262 195.047 333.869 Q191.991 338.452 186.181 338.452 Q180.371 338.452 177.292 333.869 Q174.237 329.262 174.237 320.536 Q174.237 311.786 177.292 307.202 Q180.371 302.596 186.181 302.596 Z\" fill=\"#000000\" fill-rule=\"nonzero\" fill-opacity=\"1\" /><path clip-path=\"url(#clip360)\" d=\"M16.4842 793.362 L16.4842 786.455 L36.0269 773.278 L16.4842 760.197 L16.4842 753.29 L41.3741 770.095 L64.0042 770.095 L64.0042 776.557 L41.3741 776.557 L16.4842 793.362 Z\" fill=\"#000000\" fill-rule=\"nonzero\" fill-opacity=\"1\" /><path clip-path=\"url(#clip360)\" d=\"M851.649 18.8205 L851.649 65.8515 L861.533 65.8515 Q874.051 65.8515 879.843 60.1802 Q885.677 54.509 885.677 42.2752 Q885.677 30.1225 879.843 24.4918 Q874.051 18.8205 861.533 18.8205 L851.649 18.8205 M843.466 12.096 L860.277 12.096 Q877.858 12.096 886.082 19.4281 Q894.305 26.7198 894.305 42.2752 Q894.305 57.9117 886.041 65.2439 Q877.777 72.576 860.277 72.576 L843.466 72.576 L843.466 12.096 Z\" fill=\"#000000\" fill-rule=\"nonzero\" fill-opacity=\"1\" /><path clip-path=\"url(#clip360)\" d=\"M927.644 49.7694 Q918.611 49.7694 915.127 51.8354 Q911.643 53.9013 911.643 58.8839 Q911.643 62.8538 914.236 65.2034 Q916.869 67.5124 921.365 67.5124 Q927.563 67.5124 931.29 63.1374 Q935.057 58.7219 935.057 51.4303 L935.057 49.7694 L927.644 49.7694 M942.511 46.6907 L942.511 72.576 L935.057 72.576 L935.057 65.6895 Q932.505 69.8214 928.697 71.8063 Q924.889 73.7508 919.38 73.7508 Q912.413 73.7508 908.281 69.8619 Q904.189 65.9325 904.189 59.3701 Q904.189 51.7138 909.293 47.825 Q914.438 43.9361 924.606 43.9361 L935.057 43.9361 L935.057 43.2069 Q935.057 38.0623 931.654 35.2672 Q928.292 32.4315 922.175 32.4315 Q918.286 32.4315 914.6 33.3632 Q910.914 34.295 907.511 36.1584 L907.511 29.2718 Q911.602 27.692 915.451 26.9223 Q919.299 26.1121 922.945 26.1121 Q932.789 26.1121 937.65 31.2163 Q942.511 36.3204 942.511 46.6907 Z\" fill=\"#000000\" fill-rule=\"nonzero\" fill-opacity=\"1\" /><path clip-path=\"url(#clip360)\" d=\"M965.236 14.324 L965.236 27.2059 L980.589 27.2059 L980.589 32.9987 L965.236 32.9987 L965.236 57.6282 Q965.236 63.1779 966.735 64.7578 Q968.275 66.3376 972.933 66.3376 L980.589 66.3376 L980.589 72.576 L972.933 72.576 Q964.305 72.576 961.023 69.3758 Q957.742 66.1351 957.742 57.6282 L957.742 32.9987 L952.274 32.9987 L952.274 27.2059 L957.742 27.2059 L957.742 14.324 L965.236 14.324 Z\" fill=\"#000000\" fill-rule=\"nonzero\" fill-opacity=\"1\" /><path clip-path=\"url(#clip360)\" d=\"M1011.01 49.7694 Q1001.98 49.7694 998.494 51.8354 Q995.011 53.9013 995.011 58.8839 Q995.011 62.8538 997.603 65.2034 Q1000.24 67.5124 1004.73 67.5124 Q1010.93 67.5124 1014.66 63.1374 Q1018.42 58.7219 1018.42 51.4303 L1018.42 49.7694 L1011.01 49.7694 M1025.88 46.6907 L1025.88 72.576 L1018.42 72.576 L1018.42 65.6895 Q1015.87 69.8214 1012.06 71.8063 Q1008.26 73.7508 1002.75 73.7508 Q995.78 73.7508 991.648 69.8619 Q987.557 65.9325 987.557 59.3701 Q987.557 51.7138 992.661 47.825 Q997.806 43.9361 1007.97 43.9361 L1018.42 43.9361 L1018.42 43.2069 Q1018.42 38.0623 1015.02 35.2672 Q1011.66 32.4315 1005.54 32.4315 Q1001.65 32.4315 997.968 33.3632 Q994.281 34.295 990.879 36.1584 L990.879 29.2718 Q994.97 27.692 998.818 26.9223 Q1002.67 26.1121 1006.31 26.1121 Q1016.16 26.1121 1021.02 31.2163 Q1025.88 36.3204 1025.88 46.6907 Z\" fill=\"#000000\" fill-rule=\"nonzero\" fill-opacity=\"1\" /><path clip-path=\"url(#clip360)\" d=\"M1088.22 49.7694 Q1079.19 49.7694 1075.7 51.8354 Q1072.22 53.9013 1072.22 58.8839 Q1072.22 62.8538 1074.81 65.2034 Q1077.45 67.5124 1081.94 67.5124 Q1088.14 67.5124 1091.87 63.1374 Q1095.64 58.7219 1095.64 51.4303 L1095.64 49.7694 L1088.22 49.7694 M1103.09 46.6907 L1103.09 72.576 L1095.64 72.576 L1095.64 65.6895 Q1093.08 69.8214 1089.28 71.8063 Q1085.47 73.7508 1079.96 73.7508 Q1072.99 73.7508 1068.86 69.8619 Q1064.77 65.9325 1064.77 59.3701 Q1064.77 51.7138 1069.87 47.825 Q1075.02 43.9361 1085.18 43.9361 L1095.64 43.9361 L1095.64 43.2069 Q1095.64 38.0623 1092.23 35.2672 Q1088.87 32.4315 1082.75 32.4315 Q1078.86 32.4315 1075.18 33.3632 Q1071.49 34.295 1068.09 36.1584 L1068.09 29.2718 Q1072.18 27.692 1076.03 26.9223 Q1079.88 26.1121 1083.52 26.1121 Q1093.37 26.1121 1098.23 31.2163 Q1103.09 36.3204 1103.09 46.6907 Z\" fill=\"#000000\" fill-rule=\"nonzero\" fill-opacity=\"1\" /><path clip-path=\"url(#clip360)\" d=\"M1156.16 45.1919 L1156.16 72.576 L1148.7 72.576 L1148.7 45.4349 Q1148.7 38.994 1146.19 35.7938 Q1143.68 32.5936 1138.66 32.5936 Q1132.62 32.5936 1129.14 36.4419 Q1125.65 40.2903 1125.65 46.9338 L1125.65 72.576 L1118.16 72.576 L1118.16 27.2059 L1125.65 27.2059 L1125.65 34.2544 Q1128.33 30.163 1131.93 28.1376 Q1135.58 26.1121 1140.32 26.1121 Q1148.13 26.1121 1152.15 30.9732 Q1156.16 35.7938 1156.16 45.1919 Z\" fill=\"#000000\" fill-rule=\"nonzero\" fill-opacity=\"1\" /><path clip-path=\"url(#clip360)\" d=\"M1200.88 34.0924 L1200.88 9.54393 L1208.33 9.54393 L1208.33 72.576 L1200.88 72.576 L1200.88 65.7705 Q1198.53 69.8214 1194.92 71.8063 Q1191.36 73.7508 1186.33 73.7508 Q1178.11 73.7508 1172.93 67.1883 Q1167.78 60.6258 1167.78 49.9314 Q1167.78 39.2371 1172.93 32.6746 Q1178.11 26.1121 1186.33 26.1121 Q1191.36 26.1121 1194.92 28.0971 Q1198.53 30.0415 1200.88 34.0924 M1175.48 49.9314 Q1175.48 58.1548 1178.84 62.8538 Q1182.24 67.5124 1188.16 67.5124 Q1194.07 67.5124 1197.47 62.8538 Q1200.88 58.1548 1200.88 49.9314 Q1200.88 41.7081 1197.47 37.0496 Q1194.07 32.3505 1188.16 32.3505 Q1182.24 32.3505 1178.84 37.0496 Q1175.48 41.7081 1175.48 49.9314 Z\" fill=\"#000000\" fill-rule=\"nonzero\" fill-opacity=\"1\" /><path clip-path=\"url(#clip360)\" d=\"M1250.38 12.096 L1285.14 12.096 L1285.14 18.9825 L1258.56 18.9825 L1258.56 36.8065 L1282.54 36.8065 L1282.54 43.6931 L1258.56 43.6931 L1258.56 72.576 L1250.38 72.576 L1250.38 12.096 Z\" fill=\"#000000\" fill-rule=\"nonzero\" fill-opacity=\"1\" /><path clip-path=\"url(#clip360)\" d=\"M1291.74 27.2059 L1299.19 27.2059 L1299.19 72.576 L1291.74 72.576 L1291.74 27.2059 M1291.74 9.54393 L1299.19 9.54393 L1299.19 18.9825 L1291.74 18.9825 L1291.74 9.54393 Z\" fill=\"#000000\" fill-rule=\"nonzero\" fill-opacity=\"1\" /><path clip-path=\"url(#clip360)\" d=\"M1322.16 14.324 L1322.16 27.2059 L1337.51 27.2059 L1337.51 32.9987 L1322.16 32.9987 L1322.16 57.6282 Q1322.16 63.1779 1323.66 64.7578 Q1325.2 66.3376 1329.86 66.3376 L1337.51 66.3376 L1337.51 72.576 L1329.86 72.576 Q1321.23 72.576 1317.95 69.3758 Q1314.67 66.1351 1314.67 57.6282 L1314.67 32.9987 L1309.2 32.9987 L1309.2 27.2059 L1314.67 27.2059 L1314.67 14.324 L1322.16 14.324 Z\" fill=\"#000000\" fill-rule=\"nonzero\" fill-opacity=\"1\" /><path clip-path=\"url(#clip360)\" d=\"M1354.69 14.324 L1354.69 27.2059 L1370.04 27.2059 L1370.04 32.9987 L1354.69 32.9987 L1354.69 57.6282 Q1354.69 63.1779 1356.19 64.7578 Q1357.73 66.3376 1362.39 66.3376 L1370.04 66.3376 L1370.04 72.576 L1362.39 72.576 Q1353.76 72.576 1350.48 69.3758 Q1347.2 66.1351 1347.2 57.6282 L1347.2 32.9987 L1341.73 32.9987 L1341.73 27.2059 L1347.2 27.2059 L1347.2 14.324 L1354.69 14.324 Z\" fill=\"#000000\" fill-rule=\"nonzero\" fill-opacity=\"1\" /><path clip-path=\"url(#clip360)\" d=\"M1418.65 48.0275 L1418.65 51.6733 L1384.38 51.6733 Q1384.87 59.3701 1389 63.421 Q1393.17 67.4314 1400.59 67.4314 Q1404.88 67.4314 1408.89 66.3781 Q1412.94 65.3249 1416.91 63.2184 L1416.91 70.267 Q1412.9 71.9684 1408.69 72.8596 Q1404.48 73.7508 1400.14 73.7508 Q1389.29 73.7508 1382.93 67.4314 Q1376.61 61.1119 1376.61 50.3365 Q1376.61 39.1965 1382.6 32.6746 Q1388.64 26.1121 1398.85 26.1121 Q1408 26.1121 1413.31 32.0264 Q1418.65 37.9003 1418.65 48.0275 M1411.2 45.84 Q1411.12 39.7232 1407.76 36.0774 Q1404.44 32.4315 1398.93 32.4315 Q1392.69 32.4315 1388.92 35.9558 Q1385.19 39.4801 1384.63 45.8805 L1411.2 45.84 Z\" fill=\"#000000\" fill-rule=\"nonzero\" fill-opacity=\"1\" /><path clip-path=\"url(#clip360)\" d=\"M1460.74 34.0924 L1460.74 9.54393 L1468.2 9.54393 L1468.2 72.576 L1460.74 72.576 L1460.74 65.7705 Q1458.39 69.8214 1454.79 71.8063 Q1451.22 73.7508 1446.2 73.7508 Q1437.98 73.7508 1432.79 67.1883 Q1427.65 60.6258 1427.65 49.9314 Q1427.65 39.2371 1432.79 32.6746 Q1437.98 26.1121 1446.2 26.1121 Q1451.22 26.1121 1454.79 28.0971 Q1458.39 30.0415 1460.74 34.0924 M1435.34 49.9314 Q1435.34 58.1548 1438.71 62.8538 Q1442.11 67.5124 1448.02 67.5124 Q1453.94 67.5124 1457.34 62.8538 Q1460.74 58.1548 1460.74 49.9314 Q1460.74 41.7081 1457.34 37.0496 Q1453.94 32.3505 1448.02 32.3505 Q1442.11 32.3505 1438.71 37.0496 Q1435.34 41.7081 1435.34 49.9314 Z\" fill=\"#000000\" fill-rule=\"nonzero\" fill-opacity=\"1\" /><path clip-path=\"url(#clip360)\" d=\"M1510.25 12.096 L1522.44 12.096 L1537.87 53.2532 L1553.39 12.096 L1565.58 12.096 L1565.58 72.576 L1557.6 72.576 L1557.6 19.4686 L1542 60.9499 L1533.78 60.9499 L1518.18 19.4686 L1518.18 72.576 L1510.25 72.576 L1510.25 12.096 Z\" fill=\"#000000\" fill-rule=\"nonzero\" fill-opacity=\"1\" /><path clip-path=\"url(#clip360)\" d=\"M1599.08 32.4315 Q1593.09 32.4315 1589.6 37.1306 Q1586.12 41.7891 1586.12 49.9314 Q1586.12 58.0738 1589.56 62.7728 Q1593.05 67.4314 1599.08 67.4314 Q1605.04 67.4314 1608.52 62.7323 Q1612 58.0333 1612 49.9314 Q1612 41.8701 1608.52 37.1711 Q1605.04 32.4315 1599.08 32.4315 M1599.08 26.1121 Q1608.8 26.1121 1614.35 32.4315 Q1619.9 38.7509 1619.9 49.9314 Q1619.9 61.0714 1614.35 67.4314 Q1608.8 73.7508 1599.08 73.7508 Q1589.32 73.7508 1583.77 67.4314 Q1578.26 61.0714 1578.26 49.9314 Q1578.26 38.7509 1583.77 32.4315 Q1589.32 26.1121 1599.08 26.1121 Z\" fill=\"#000000\" fill-rule=\"nonzero\" fill-opacity=\"1\" /><path clip-path=\"url(#clip360)\" d=\"M1662.11 34.0924 L1662.11 9.54393 L1669.57 9.54393 L1669.57 72.576 L1662.11 72.576 L1662.11 65.7705 Q1659.76 69.8214 1656.16 71.8063 Q1652.59 73.7508 1647.57 73.7508 Q1639.35 73.7508 1634.16 67.1883 Q1629.02 60.6258 1629.02 49.9314 Q1629.02 39.2371 1634.16 32.6746 Q1639.35 26.1121 1647.57 26.1121 Q1652.59 26.1121 1656.16 28.0971 Q1659.76 30.0415 1662.11 34.0924 M1636.71 49.9314 Q1636.71 58.1548 1640.08 62.8538 Q1643.48 67.5124 1649.39 67.5124 Q1655.31 67.5124 1658.71 62.8538 Q1662.11 58.1548 1662.11 49.9314 Q1662.11 41.7081 1658.71 37.0496 Q1655.31 32.3505 1649.39 32.3505 Q1643.48 32.3505 1640.08 37.0496 Q1636.71 41.7081 1636.71 49.9314 Z\" fill=\"#000000\" fill-rule=\"nonzero\" fill-opacity=\"1\" /><path clip-path=\"url(#clip360)\" d=\"M1723.73 48.0275 L1723.73 51.6733 L1689.46 51.6733 Q1689.94 59.3701 1694.08 63.421 Q1698.25 67.4314 1705.66 67.4314 Q1709.95 67.4314 1713.97 66.3781 Q1718.02 65.3249 1721.99 63.2184 L1721.99 70.267 Q1717.98 71.9684 1713.76 72.8596 Q1709.55 73.7508 1705.22 73.7508 Q1694.36 73.7508 1688 67.4314 Q1681.68 61.1119 1681.68 50.3365 Q1681.68 39.1965 1687.67 32.6746 Q1693.71 26.1121 1703.92 26.1121 Q1713.07 26.1121 1718.38 32.0264 Q1723.73 37.9003 1723.73 48.0275 M1716.27 45.84 Q1716.19 39.7232 1712.83 36.0774 Q1709.51 32.4315 1704 32.4315 Q1697.76 32.4315 1693.99 35.9558 Q1690.27 39.4801 1689.7 45.8805 L1716.27 45.84 Z\" fill=\"#000000\" fill-rule=\"nonzero\" fill-opacity=\"1\" /><path clip-path=\"url(#clip360)\" d=\"M1735.96 9.54393 L1743.42 9.54393 L1743.42 72.576 L1735.96 72.576 L1735.96 9.54393 Z\" fill=\"#000000\" fill-rule=\"nonzero\" fill-opacity=\"1\" /><circle clip-path=\"url(#clip362)\" cx=\"294.087\" cy=\"1386.4\" r=\"14.4\" fill=\"#009af9\" fill-rule=\"evenodd\" fill-opacity=\"1\" stroke=\"#000000\" stroke-opacity=\"1\" stroke-width=\"3.2\"/>\n",
       "<circle clip-path=\"url(#clip362)\" cx=\"516.165\" cy=\"1331.99\" r=\"14.4\" fill=\"#009af9\" fill-rule=\"evenodd\" fill-opacity=\"1\" stroke=\"#000000\" stroke-opacity=\"1\" stroke-width=\"3.2\"/>\n",
       "<circle clip-path=\"url(#clip362)\" cx=\"738.244\" cy=\"1273.65\" r=\"14.4\" fill=\"#009af9\" fill-rule=\"evenodd\" fill-opacity=\"1\" stroke=\"#000000\" stroke-opacity=\"1\" stroke-width=\"3.2\"/>\n",
       "<circle clip-path=\"url(#clip362)\" cx=\"960.323\" cy=\"1181.36\" r=\"14.4\" fill=\"#009af9\" fill-rule=\"evenodd\" fill-opacity=\"1\" stroke=\"#000000\" stroke-opacity=\"1\" stroke-width=\"3.2\"/>\n",
       "<circle clip-path=\"url(#clip362)\" cx=\"1182.4\" cy=\"1052.93\" r=\"14.4\" fill=\"#009af9\" fill-rule=\"evenodd\" fill-opacity=\"1\" stroke=\"#000000\" stroke-opacity=\"1\" stroke-width=\"3.2\"/>\n",
       "<circle clip-path=\"url(#clip362)\" cx=\"1404.48\" cy=\"933.258\" r=\"14.4\" fill=\"#009af9\" fill-rule=\"evenodd\" fill-opacity=\"1\" stroke=\"#000000\" stroke-opacity=\"1\" stroke-width=\"3.2\"/>\n",
       "<circle clip-path=\"url(#clip362)\" cx=\"1626.56\" cy=\"768.578\" r=\"14.4\" fill=\"#009af9\" fill-rule=\"evenodd\" fill-opacity=\"1\" stroke=\"#000000\" stroke-opacity=\"1\" stroke-width=\"3.2\"/>\n",
       "<circle clip-path=\"url(#clip362)\" cx=\"1848.64\" cy=\"577.854\" r=\"14.4\" fill=\"#009af9\" fill-rule=\"evenodd\" fill-opacity=\"1\" stroke=\"#000000\" stroke-opacity=\"1\" stroke-width=\"3.2\"/>\n",
       "<circle clip-path=\"url(#clip362)\" cx=\"2070.72\" cy=\"387.773\" r=\"14.4\" fill=\"#009af9\" fill-rule=\"evenodd\" fill-opacity=\"1\" stroke=\"#000000\" stroke-opacity=\"1\" stroke-width=\"3.2\"/>\n",
       "<circle clip-path=\"url(#clip362)\" cx=\"2292.79\" cy=\"161.907\" r=\"14.4\" fill=\"#009af9\" fill-rule=\"evenodd\" fill-opacity=\"1\" stroke=\"#000000\" stroke-opacity=\"1\" stroke-width=\"3.2\"/>\n",
       "<polyline clip-path=\"url(#clip362)\" style=\"stroke:#e26f46; stroke-linecap:round; stroke-linejoin:round; stroke-width:4; stroke-opacity:1; fill:none\" points=\"294.087,1385.73 516.165,1337.95 738.244,1268.07 960.323,1176.1 1182.4,1062.04 1404.48,925.875 1626.56,767.615 1848.64,587.259 2070.72,384.806 2292.79,160.256 \"/>\n",
       "<path clip-path=\"url(#clip360)\" d=\"M304.746 322.316 L798.344 322.316 L798.344 166.796 L304.746 166.796  Z\" fill=\"#ffffff\" fill-rule=\"evenodd\" fill-opacity=\"1\"/>\n",
       "<polyline clip-path=\"url(#clip360)\" style=\"stroke:#000000; stroke-linecap:round; stroke-linejoin:round; stroke-width:4; stroke-opacity:1; fill:none\" points=\"304.746,322.316 798.344,322.316 798.344,166.796 304.746,166.796 304.746,322.316 \"/>\n",
       "<circle clip-path=\"url(#clip360)\" cx=\"398.908\" cy=\"218.636\" r=\"20.48\" fill=\"#009af9\" fill-rule=\"evenodd\" fill-opacity=\"1\" stroke=\"#000000\" stroke-opacity=\"1\" stroke-width=\"4.55111\"/>\n",
       "<path clip-path=\"url(#clip360)\" d=\"M497.745 205.198 L497.745 232.073 L503.393 232.073 Q510.546 232.073 513.856 228.832 Q517.189 225.592 517.189 218.601 Q517.189 211.657 513.856 208.439 Q510.546 205.198 503.393 205.198 L497.745 205.198 M493.069 201.356 L502.676 201.356 Q512.722 201.356 517.421 205.546 Q522.12 209.712 522.12 218.601 Q522.12 227.536 517.398 231.726 Q512.676 235.916 502.676 235.916 L493.069 235.916 L493.069 201.356 Z\" fill=\"#000000\" fill-rule=\"nonzero\" fill-opacity=\"1\" /><path clip-path=\"url(#clip360)\" d=\"M541.171 222.883 Q536.009 222.883 534.018 224.064 Q532.027 225.244 532.027 228.092 Q532.027 230.36 533.509 231.703 Q535.013 233.022 537.583 233.022 Q541.124 233.022 543.254 230.522 Q545.407 227.999 545.407 223.832 L545.407 222.883 L541.171 222.883 M549.666 221.124 L549.666 235.916 L545.407 235.916 L545.407 231.981 Q543.949 234.342 541.773 235.476 Q539.597 236.587 536.449 236.587 Q532.467 236.587 530.106 234.365 Q527.768 232.119 527.768 228.369 Q527.768 223.994 530.685 221.772 Q533.625 219.55 539.435 219.55 L545.407 219.55 L545.407 219.133 Q545.407 216.194 543.462 214.596 Q541.541 212.976 538.046 212.976 Q535.824 212.976 533.717 213.508 Q531.611 214.041 529.666 215.106 L529.666 211.17 Q532.004 210.268 534.203 209.828 Q536.402 209.365 538.486 209.365 Q544.111 209.365 546.888 212.282 Q549.666 215.198 549.666 221.124 Z\" fill=\"#000000\" fill-rule=\"nonzero\" fill-opacity=\"1\" /><path clip-path=\"url(#clip360)\" d=\"M562.652 202.629 L562.652 209.99 L571.425 209.99 L571.425 213.3 L562.652 213.3 L562.652 227.374 Q562.652 230.545 563.509 231.448 Q564.388 232.351 567.05 232.351 L571.425 232.351 L571.425 235.916 L567.05 235.916 Q562.12 235.916 560.245 234.087 Q558.37 232.235 558.37 227.374 L558.37 213.3 L555.245 213.3 L555.245 209.99 L558.37 209.99 L558.37 202.629 L562.652 202.629 Z\" fill=\"#000000\" fill-rule=\"nonzero\" fill-opacity=\"1\" /><path clip-path=\"url(#clip360)\" d=\"M588.809 222.883 Q583.647 222.883 581.657 224.064 Q579.666 225.244 579.666 228.092 Q579.666 230.36 581.147 231.703 Q582.652 233.022 585.221 233.022 Q588.763 233.022 590.893 230.522 Q593.045 227.999 593.045 223.832 L593.045 222.883 L588.809 222.883 M597.305 221.124 L597.305 235.916 L593.045 235.916 L593.045 231.981 Q591.587 234.342 589.411 235.476 Q587.235 236.587 584.087 236.587 Q580.106 236.587 577.745 234.365 Q575.407 232.119 575.407 228.369 Q575.407 223.994 578.323 221.772 Q581.263 219.55 587.073 219.55 L593.045 219.55 L593.045 219.133 Q593.045 216.194 591.101 214.596 Q589.18 212.976 585.684 212.976 Q583.462 212.976 581.356 213.508 Q579.249 214.041 577.305 215.106 L577.305 211.17 Q579.643 210.268 581.842 209.828 Q584.041 209.365 586.124 209.365 Q591.749 209.365 594.527 212.282 Q597.305 215.198 597.305 221.124 Z\" fill=\"#000000\" fill-rule=\"nonzero\" fill-opacity=\"1\" /><polyline clip-path=\"url(#clip360)\" style=\"stroke:#e26f46; stroke-linecap:round; stroke-linejoin:round; stroke-width:4; stroke-opacity:1; fill:none\" points=\"328.287,270.476 469.529,270.476 \"/>\n",
       "<path clip-path=\"url(#clip360)\" d=\"M493.069 253.196 L512.93 253.196 L512.93 257.131 L497.745 257.131 L497.745 267.316 L511.449 267.316 L511.449 271.251 L497.745 271.251 L497.745 287.756 L493.069 287.756 L493.069 253.196 Z\" fill=\"#000000\" fill-rule=\"nonzero\" fill-opacity=\"1\" /><path clip-path=\"url(#clip360)\" d=\"M516.703 261.83 L520.963 261.83 L520.963 287.756 L516.703 287.756 L516.703 261.83 M516.703 251.737 L520.963 251.737 L520.963 257.131 L516.703 257.131 L516.703 251.737 Z\" fill=\"#000000\" fill-rule=\"nonzero\" fill-opacity=\"1\" /><path clip-path=\"url(#clip360)\" d=\"M534.087 254.469 L534.087 261.83 L542.861 261.83 L542.861 265.14 L534.087 265.14 L534.087 279.214 Q534.087 282.385 534.944 283.288 Q535.824 284.191 538.486 284.191 L542.861 284.191 L542.861 287.756 L538.486 287.756 Q533.555 287.756 531.68 285.927 Q529.805 284.075 529.805 279.214 L529.805 265.14 L526.68 265.14 L526.68 261.83 L529.805 261.83 L529.805 254.469 L534.087 254.469 Z\" fill=\"#000000\" fill-rule=\"nonzero\" fill-opacity=\"1\" /><path clip-path=\"url(#clip360)\" d=\"M552.675 254.469 L552.675 261.83 L561.448 261.83 L561.448 265.14 L552.675 265.14 L552.675 279.214 Q552.675 282.385 553.532 283.288 Q554.411 284.191 557.073 284.191 L561.448 284.191 L561.448 287.756 L557.073 287.756 Q552.143 287.756 550.268 285.927 Q548.393 284.075 548.393 279.214 L548.393 265.14 L545.268 265.14 L545.268 261.83 L548.393 261.83 L548.393 254.469 L552.675 254.469 Z\" fill=\"#000000\" fill-rule=\"nonzero\" fill-opacity=\"1\" /><path clip-path=\"url(#clip360)\" d=\"M589.226 273.728 L589.226 275.811 L569.643 275.811 Q569.921 280.209 572.282 282.524 Q574.666 284.816 578.902 284.816 Q581.356 284.816 583.647 284.214 Q585.962 283.612 588.231 282.409 L588.231 286.436 Q585.939 287.408 583.532 287.918 Q581.124 288.427 578.647 288.427 Q572.444 288.427 568.81 284.816 Q565.198 281.205 565.198 275.047 Q565.198 268.682 568.624 264.955 Q572.073 261.205 577.907 261.205 Q583.138 261.205 586.171 264.585 Q589.226 267.941 589.226 273.728 M584.967 272.478 Q584.921 268.983 582.999 266.899 Q581.101 264.816 577.953 264.816 Q574.388 264.816 572.235 266.83 Q570.106 268.844 569.782 272.501 L584.967 272.478 Z\" fill=\"#000000\" fill-rule=\"nonzero\" fill-opacity=\"1\" /><path clip-path=\"url(#clip360)\" d=\"M613.277 265.765 L613.277 251.737 L617.536 251.737 L617.536 287.756 L613.277 287.756 L613.277 283.867 Q611.934 286.182 609.874 287.316 Q607.837 288.427 604.967 288.427 Q600.268 288.427 597.305 284.677 Q594.365 280.927 594.365 274.816 Q594.365 268.705 597.305 264.955 Q600.268 261.205 604.967 261.205 Q607.837 261.205 609.874 262.339 Q611.934 263.45 613.277 265.765 M598.763 274.816 Q598.763 279.515 600.684 282.2 Q602.629 284.862 606.008 284.862 Q609.388 284.862 611.332 282.2 Q613.277 279.515 613.277 274.816 Q613.277 270.117 611.332 267.455 Q609.388 264.77 606.008 264.77 Q602.629 264.77 600.684 267.455 Q598.763 270.117 598.763 274.816 Z\" fill=\"#000000\" fill-rule=\"nonzero\" fill-opacity=\"1\" /><path clip-path=\"url(#clip360)\" d=\"M641.564 253.196 L648.531 253.196 L657.351 276.714 L666.216 253.196 L673.184 253.196 L673.184 287.756 L668.624 287.756 L668.624 257.409 L659.712 281.112 L655.013 281.112 L646.101 257.409 L646.101 287.756 L641.564 287.756 L641.564 253.196 Z\" fill=\"#000000\" fill-rule=\"nonzero\" fill-opacity=\"1\" /><path clip-path=\"url(#clip360)\" d=\"M692.327 264.816 Q688.901 264.816 686.911 267.501 Q684.92 270.163 684.92 274.816 Q684.92 279.469 686.888 282.154 Q688.878 284.816 692.327 284.816 Q695.73 284.816 697.721 282.131 Q699.712 279.446 699.712 274.816 Q699.712 270.21 697.721 267.524 Q695.73 264.816 692.327 264.816 M692.327 261.205 Q697.883 261.205 701.054 264.816 Q704.225 268.427 704.225 274.816 Q704.225 281.182 701.054 284.816 Q697.883 288.427 692.327 288.427 Q686.749 288.427 683.577 284.816 Q680.429 281.182 680.429 274.816 Q680.429 268.427 683.577 264.816 Q686.749 261.205 692.327 261.205 Z\" fill=\"#000000\" fill-rule=\"nonzero\" fill-opacity=\"1\" /><path clip-path=\"url(#clip360)\" d=\"M728.346 265.765 L728.346 251.737 L732.605 251.737 L732.605 287.756 L728.346 287.756 L728.346 283.867 Q727.003 286.182 724.943 287.316 Q722.906 288.427 720.036 288.427 Q715.336 288.427 712.374 284.677 Q709.434 280.927 709.434 274.816 Q709.434 268.705 712.374 264.955 Q715.336 261.205 720.036 261.205 Q722.906 261.205 724.943 262.339 Q727.003 263.45 728.346 265.765 M713.832 274.816 Q713.832 279.515 715.753 282.2 Q717.698 284.862 721.077 284.862 Q724.457 284.862 726.401 282.2 Q728.346 279.515 728.346 274.816 Q728.346 270.117 726.401 267.455 Q724.457 264.77 721.077 264.77 Q717.698 264.77 715.753 267.455 Q713.832 270.117 713.832 274.816 Z\" fill=\"#000000\" fill-rule=\"nonzero\" fill-opacity=\"1\" /><path clip-path=\"url(#clip360)\" d=\"M763.554 273.728 L763.554 275.811 L743.971 275.811 Q744.248 280.209 746.609 282.524 Q748.994 284.816 753.23 284.816 Q755.684 284.816 757.975 284.214 Q760.29 283.612 762.558 282.409 L762.558 286.436 Q760.267 287.408 757.859 287.918 Q755.452 288.427 752.975 288.427 Q746.772 288.427 743.137 284.816 Q739.526 281.205 739.526 275.047 Q739.526 268.682 742.952 264.955 Q746.401 261.205 752.234 261.205 Q757.466 261.205 760.498 264.585 Q763.554 267.941 763.554 273.728 M759.295 272.478 Q759.248 268.983 757.327 266.899 Q755.429 264.816 752.281 264.816 Q748.716 264.816 746.563 266.83 Q744.434 268.844 744.109 272.501 L759.295 272.478 Z\" fill=\"#000000\" fill-rule=\"nonzero\" fill-opacity=\"1\" /><path clip-path=\"url(#clip360)\" d=\"M770.545 251.737 L774.804 251.737 L774.804 287.756 L770.545 287.756 L770.545 251.737 Z\" fill=\"#000000\" fill-rule=\"nonzero\" fill-opacity=\"1\" /></svg>\n"
      ]
     },
     "execution_count": 29,
     "metadata": {},
     "output_type": "execute_result"
    }
   ],
   "source": [
    "# Extract fitted parameters\n",
    "fit_params = coef(fit)\n",
    "\n",
    "# Generate fitted curve using fitted parameters\n",
    "y_fit = model(x_data, fit_params)\n",
    "\n",
    "# Plot data points\n",
    "scatter(x_data, y_data, label=\"Data\")\n",
    "\n",
    "# Plot fitted curve\n",
    "plot!(x_data, y_fit, label=\"Fitted Model\")\n",
    "xlabel!(\"X\")\n",
    "ylabel!(\"Y\")\n",
    "title!(\"Data and Fitted Model\")\n",
    "\n"
   ]
  },
  {
   "cell_type": "code",
   "execution_count": 30,
   "metadata": {},
   "outputs": [
    {
     "data": {
      "text/plain": [
       "11-element Vector{Int64}:\n",
       " -125\n",
       "  -64\n",
       "  -27\n",
       "   -8\n",
       "   -1\n",
       "    0\n",
       "    1\n",
       "    8\n",
       "   27\n",
       "   64\n",
       "  125"
      ]
     },
     "execution_count": 30,
     "metadata": {},
     "output_type": "execute_result"
    }
   ],
   "source": [
    "x = [i for i in -5:5]\n",
    "y = f2.(x)"
   ]
  },
  {
   "cell_type": "code",
   "execution_count": 31,
   "metadata": {},
   "outputs": [
    {
     "data": {
      "image/png": "[encoded data removed]",
      "image/svg+xml": [
       "<?xml version=\"1.0\" encoding=\"utf-8\"?>\n",
       "<svg xmlns=\"http://www.w3.org/2000/svg\" xmlns:xlink=\"http://www.w3.org/1999/xlink\" width=\"600\" height=\"400\" viewBox=\"0 0 2400 1600\">\n",
       "<defs>\n",
       "  <clipPath id=\"clip400\">\n",
       "    <rect x=\"0\" y=\"0\" width=\"2400\" height=\"1600\"/>\n",
       "  </clipPath>\n",
       "</defs>\n",
       "<path clip-path=\"url(#clip400)\" d=\"M0 1600 L2400 1600 L2400 8.88178e-14 L0 8.88178e-14  Z\" fill=\"#ffffff\" fill-rule=\"evenodd\" fill-opacity=\"1\"/>\n",
       "<defs>\n",
       "  <clipPath id=\"clip401\">\n",
       "    <rect x=\"480\" y=\"0\" width=\"1681\" height=\"1600\"/>\n",
       "  </clipPath>\n",
       "</defs>\n",
       "<path clip-path=\"url(#clip400)\" d=\"M209.029 1486.45 L2352.76 1486.45 L2352.76 47.2441 L209.029 47.2441  Z\" fill=\"#ffffff\" fill-rule=\"evenodd\" fill-opacity=\"1\"/>\n",
       "<defs>\n",
       "  <clipPath id=\"clip402\">\n",
       "    <rect x=\"209\" y=\"47\" width=\"2145\" height=\"1440\"/>\n",
       "  </clipPath>\n",
       "</defs>\n",
       "<polyline clip-path=\"url(#clip402)\" style=\"stroke:#000000; stroke-linecap:round; stroke-linejoin:round; stroke-width:2; stroke-opacity:0.1; fill:none\" points=\"471.938,1486.45 471.938,47.2441 \"/>\n",
       "<polyline clip-path=\"url(#clip402)\" style=\"stroke:#000000; stroke-linecap:round; stroke-linejoin:round; stroke-width:2; stroke-opacity:0.1; fill:none\" points=\"876.415,1486.45 876.415,47.2441 \"/>\n",
       "<polyline clip-path=\"url(#clip402)\" style=\"stroke:#000000; stroke-linecap:round; stroke-linejoin:round; stroke-width:2; stroke-opacity:0.1; fill:none\" points=\"1280.89,1486.45 1280.89,47.2441 \"/>\n",
       "<polyline clip-path=\"url(#clip402)\" style=\"stroke:#000000; stroke-linecap:round; stroke-linejoin:round; stroke-width:2; stroke-opacity:0.1; fill:none\" points=\"1685.37,1486.45 1685.37,47.2441 \"/>\n",
       "<polyline clip-path=\"url(#clip402)\" style=\"stroke:#000000; stroke-linecap:round; stroke-linejoin:round; stroke-width:2; stroke-opacity:0.1; fill:none\" points=\"2089.85,1486.45 2089.85,47.2441 \"/>\n",
       "<polyline clip-path=\"url(#clip400)\" style=\"stroke:#000000; stroke-linecap:round; stroke-linejoin:round; stroke-width:4; stroke-opacity:1; fill:none\" points=\"209.029,1486.45 2352.76,1486.45 \"/>\n",
       "<polyline clip-path=\"url(#clip400)\" style=\"stroke:#000000; stroke-linecap:round; stroke-linejoin:round; stroke-width:4; stroke-opacity:1; fill:none\" points=\"471.938,1486.45 471.938,1467.55 \"/>\n",
       "<polyline clip-path=\"url(#clip400)\" style=\"stroke:#000000; stroke-linecap:round; stroke-linejoin:round; stroke-width:4; stroke-opacity:1; fill:none\" points=\"876.415,1486.45 876.415,1467.55 \"/>\n",
       "<polyline clip-path=\"url(#clip400)\" style=\"stroke:#000000; stroke-linecap:round; stroke-linejoin:round; stroke-width:4; stroke-opacity:1; fill:none\" points=\"1280.89,1486.45 1280.89,1467.55 \"/>\n",
       "<polyline clip-path=\"url(#clip400)\" style=\"stroke:#000000; stroke-linecap:round; stroke-linejoin:round; stroke-width:4; stroke-opacity:1; fill:none\" points=\"1685.37,1486.45 1685.37,1467.55 \"/>\n",
       "<polyline clip-path=\"url(#clip400)\" style=\"stroke:#000000; stroke-linecap:round; stroke-linejoin:round; stroke-width:4; stroke-opacity:1; fill:none\" points=\"2089.85,1486.45 2089.85,1467.55 \"/>\n",
       "<path clip-path=\"url(#clip400)\" d=\"M440.839 1532.02 L470.515 1532.02 L470.515 1535.95 L440.839 1535.95 L440.839 1532.02 Z\" fill=\"#000000\" fill-rule=\"nonzero\" fill-opacity=\"1\" /><path clip-path=\"url(#clip400)\" d=\"M493.455 1518.36 L481.649 1536.81 L493.455 1536.81 L493.455 1518.36 M492.228 1514.29 L498.107 1514.29 L498.107 1536.81 L503.038 1536.81 L503.038 1540.7 L498.107 1540.7 L498.107 1548.85 L493.455 1548.85 L493.455 1540.7 L477.853 1540.7 L477.853 1536.19 L492.228 1514.29 Z\" fill=\"#000000\" fill-rule=\"nonzero\" fill-opacity=\"1\" /><path clip-path=\"url(#clip400)\" d=\"M846.358 1532.02 L876.033 1532.02 L876.033 1535.95 L846.358 1535.95 L846.358 1532.02 Z\" fill=\"#000000\" fill-rule=\"nonzero\" fill-opacity=\"1\" /><path clip-path=\"url(#clip400)\" d=\"M890.154 1544.91 L906.473 1544.91 L906.473 1548.85 L884.529 1548.85 L884.529 1544.91 Q887.191 1542.16 891.774 1537.53 Q896.381 1532.88 897.561 1531.53 Q899.806 1529.01 900.686 1527.27 Q901.589 1525.51 901.589 1523.82 Q901.589 1521.07 899.644 1519.33 Q897.723 1517.6 894.621 1517.6 Q892.422 1517.6 889.969 1518.36 Q887.538 1519.13 884.76 1520.68 L884.76 1515.95 Q887.584 1514.82 890.038 1514.24 Q892.492 1513.66 894.529 1513.66 Q899.899 1513.66 903.093 1516.35 Q906.288 1519.03 906.288 1523.52 Q906.288 1525.65 905.478 1527.57 Q904.691 1529.47 902.584 1532.07 Q902.005 1532.74 898.904 1535.95 Q895.802 1539.15 890.154 1544.91 Z\" fill=\"#000000\" fill-rule=\"nonzero\" fill-opacity=\"1\" /><path clip-path=\"url(#clip400)\" d=\"M1280.89 1517.37 Q1277.28 1517.37 1275.45 1520.93 Q1273.65 1524.47 1273.65 1531.6 Q1273.65 1538.71 1275.45 1542.27 Q1277.28 1545.82 1280.89 1545.82 Q1284.53 1545.82 1286.33 1542.27 Q1288.16 1538.71 1288.16 1531.6 Q1288.16 1524.47 1286.33 1520.93 Q1284.53 1517.37 1280.89 1517.37 M1280.89 1513.66 Q1286.7 1513.66 1289.76 1518.27 Q1292.84 1522.85 1292.84 1531.6 Q1292.84 1540.33 1289.76 1544.94 Q1286.7 1549.52 1280.89 1549.52 Q1275.08 1549.52 1272 1544.94 Q1268.95 1540.33 1268.95 1531.6 Q1268.95 1522.85 1272 1518.27 Q1275.08 1513.66 1280.89 1513.66 Z\" fill=\"#000000\" fill-rule=\"nonzero\" fill-opacity=\"1\" /><path clip-path=\"url(#clip400)\" d=\"M1680.02 1544.91 L1696.34 1544.91 L1696.34 1548.85 L1674.4 1548.85 L1674.4 1544.91 Q1677.06 1542.16 1681.64 1537.53 Q1686.25 1532.88 1687.43 1531.53 Q1689.67 1529.01 1690.55 1527.27 Q1691.46 1525.51 1691.46 1523.82 Q1691.46 1521.07 1689.51 1519.33 Q1687.59 1517.6 1684.49 1517.6 Q1682.29 1517.6 1679.84 1518.36 Q1677.41 1519.13 1674.63 1520.68 L1674.63 1515.95 Q1677.45 1514.82 1679.91 1514.24 Q1682.36 1513.66 1684.4 1513.66 Q1689.77 1513.66 1692.96 1516.35 Q1696.16 1519.03 1696.16 1523.52 Q1696.16 1525.65 1695.35 1527.57 Q1694.56 1529.47 1692.45 1532.07 Q1691.87 1532.74 1688.77 1535.95 Q1685.67 1539.15 1680.02 1544.91 Z\" fill=\"#000000\" fill-rule=\"nonzero\" fill-opacity=\"1\" /><path clip-path=\"url(#clip400)\" d=\"M2092.86 1518.36 L2081.05 1536.81 L2092.86 1536.81 L2092.86 1518.36 M2091.63 1514.29 L2097.51 1514.29 L2097.51 1536.81 L2102.44 1536.81 L2102.44 1540.7 L2097.51 1540.7 L2097.51 1548.85 L2092.86 1548.85 L2092.86 1540.7 L2077.25 1540.7 L2077.25 1536.19 L2091.63 1514.29 Z\" fill=\"#000000\" fill-rule=\"nonzero\" fill-opacity=\"1\" /><polyline clip-path=\"url(#clip402)\" style=\"stroke:#000000; stroke-linecap:round; stroke-linejoin:round; stroke-width:2; stroke-opacity:0.1; fill:none\" points=\"209.029,1309.94 2352.76,1309.94 \"/>\n",
       "<polyline clip-path=\"url(#clip402)\" style=\"stroke:#000000; stroke-linecap:round; stroke-linejoin:round; stroke-width:2; stroke-opacity:0.1; fill:none\" points=\"209.029,1038.39 2352.76,1038.39 \"/>\n",
       "<polyline clip-path=\"url(#clip402)\" style=\"stroke:#000000; stroke-linecap:round; stroke-linejoin:round; stroke-width:2; stroke-opacity:0.1; fill:none\" points=\"209.029,766.846 2352.76,766.846 \"/>\n",
       "<polyline clip-path=\"url(#clip402)\" style=\"stroke:#000000; stroke-linecap:round; stroke-linejoin:round; stroke-width:2; stroke-opacity:0.1; fill:none\" points=\"209.029,495.298 2352.76,495.298 \"/>\n",
       "<polyline clip-path=\"url(#clip402)\" style=\"stroke:#000000; stroke-linecap:round; stroke-linejoin:round; stroke-width:2; stroke-opacity:0.1; fill:none\" points=\"209.029,223.75 2352.76,223.75 \"/>\n",
       "<polyline clip-path=\"url(#clip400)\" style=\"stroke:#000000; stroke-linecap:round; stroke-linejoin:round; stroke-width:4; stroke-opacity:1; fill:none\" points=\"209.029,1486.45 209.029,47.2441 \"/>\n",
       "<polyline clip-path=\"url(#clip400)\" style=\"stroke:#000000; stroke-linecap:round; stroke-linejoin:round; stroke-width:4; stroke-opacity:1; fill:none\" points=\"209.029,1309.94 227.926,1309.94 \"/>\n",
       "<polyline clip-path=\"url(#clip400)\" style=\"stroke:#000000; stroke-linecap:round; stroke-linejoin:round; stroke-width:4; stroke-opacity:1; fill:none\" points=\"209.029,1038.39 227.926,1038.39 \"/>\n",
       "<polyline clip-path=\"url(#clip400)\" style=\"stroke:#000000; stroke-linecap:round; stroke-linejoin:round; stroke-width:4; stroke-opacity:1; fill:none\" points=\"209.029,766.846 227.926,766.846 \"/>\n",
       "<polyline clip-path=\"url(#clip400)\" style=\"stroke:#000000; stroke-linecap:round; stroke-linejoin:round; stroke-width:4; stroke-opacity:1; fill:none\" points=\"209.029,495.298 227.926,495.298 \"/>\n",
       "<polyline clip-path=\"url(#clip400)\" style=\"stroke:#000000; stroke-linecap:round; stroke-linejoin:round; stroke-width:4; stroke-opacity:1; fill:none\" points=\"209.029,223.75 227.926,223.75 \"/>\n",
       "<path clip-path=\"url(#clip400)\" d=\"M50.9921 1310.39 L80.6679 1310.39 L80.6679 1314.33 L50.9921 1314.33 L50.9921 1310.39 Z\" fill=\"#000000\" fill-rule=\"nonzero\" fill-opacity=\"1\" /><path clip-path=\"url(#clip400)\" d=\"M91.5706 1323.29 L99.2095 1323.29 L99.2095 1296.92 L90.8993 1298.59 L90.8993 1294.33 L99.1632 1292.66 L103.839 1292.66 L103.839 1323.29 L111.478 1323.29 L111.478 1327.22 L91.5706 1327.22 L91.5706 1323.29 Z\" fill=\"#000000\" fill-rule=\"nonzero\" fill-opacity=\"1\" /><path clip-path=\"url(#clip400)\" d=\"M130.922 1295.74 Q127.311 1295.74 125.482 1299.31 Q123.677 1302.85 123.677 1309.98 Q123.677 1317.08 125.482 1320.65 Q127.311 1324.19 130.922 1324.19 Q134.556 1324.19 136.362 1320.65 Q138.191 1317.08 138.191 1309.98 Q138.191 1302.85 136.362 1299.31 Q134.556 1295.74 130.922 1295.74 M130.922 1292.04 Q136.732 1292.04 139.788 1296.64 Q142.867 1301.23 142.867 1309.98 Q142.867 1318.7 139.788 1323.31 Q136.732 1327.89 130.922 1327.89 Q125.112 1327.89 122.033 1323.31 Q118.978 1318.7 118.978 1309.98 Q118.978 1301.23 122.033 1296.64 Q125.112 1292.04 130.922 1292.04 Z\" fill=\"#000000\" fill-rule=\"nonzero\" fill-opacity=\"1\" /><path clip-path=\"url(#clip400)\" d=\"M161.084 1295.74 Q157.473 1295.74 155.644 1299.31 Q153.839 1302.85 153.839 1309.98 Q153.839 1317.08 155.644 1320.65 Q157.473 1324.19 161.084 1324.19 Q164.718 1324.19 166.524 1320.65 Q168.353 1317.08 168.353 1309.98 Q168.353 1302.85 166.524 1299.31 Q164.718 1295.74 161.084 1295.74 M161.084 1292.04 Q166.894 1292.04 169.95 1296.64 Q173.029 1301.23 173.029 1309.98 Q173.029 1318.7 169.95 1323.31 Q166.894 1327.89 161.084 1327.89 Q155.274 1327.89 152.195 1323.31 Q149.14 1318.7 149.14 1309.98 Q149.14 1301.23 152.195 1296.64 Q155.274 1292.04 161.084 1292.04 Z\" fill=\"#000000\" fill-rule=\"nonzero\" fill-opacity=\"1\" /><path clip-path=\"url(#clip400)\" d=\"M81.154 1038.85 L110.83 1038.85 L110.83 1042.78 L81.154 1042.78 L81.154 1038.85 Z\" fill=\"#000000\" fill-rule=\"nonzero\" fill-opacity=\"1\" /><path clip-path=\"url(#clip400)\" d=\"M120.969 1021.11 L139.325 1021.11 L139.325 1025.05 L125.251 1025.05 L125.251 1033.52 Q126.27 1033.17 127.288 1033.01 Q128.307 1032.83 129.325 1032.83 Q135.112 1032.83 138.492 1036 Q141.871 1039.17 141.871 1044.59 Q141.871 1050.16 138.399 1053.27 Q134.927 1056.35 128.607 1056.35 Q126.432 1056.35 124.163 1055.97 Q121.918 1055.6 119.51 1054.86 L119.51 1050.16 Q121.594 1051.3 123.816 1051.85 Q126.038 1052.41 128.515 1052.41 Q132.519 1052.41 134.857 1050.3 Q137.195 1048.2 137.195 1044.59 Q137.195 1040.97 134.857 1038.87 Q132.519 1036.76 128.515 1036.76 Q126.64 1036.76 124.765 1037.18 Q122.913 1037.6 120.969 1038.47 L120.969 1021.11 Z\" fill=\"#000000\" fill-rule=\"nonzero\" fill-opacity=\"1\" /><path clip-path=\"url(#clip400)\" d=\"M161.084 1024.19 Q157.473 1024.19 155.644 1027.76 Q153.839 1031.3 153.839 1038.43 Q153.839 1045.54 155.644 1049.1 Q157.473 1052.64 161.084 1052.64 Q164.718 1052.64 166.524 1049.1 Q168.353 1045.54 168.353 1038.43 Q168.353 1031.3 166.524 1027.76 Q164.718 1024.19 161.084 1024.19 M161.084 1020.49 Q166.894 1020.49 169.95 1025.1 Q173.029 1029.68 173.029 1038.43 Q173.029 1047.16 169.95 1051.76 Q166.894 1056.35 161.084 1056.35 Q155.274 1056.35 152.195 1051.76 Q149.14 1047.16 149.14 1038.43 Q149.14 1029.68 152.195 1025.1 Q155.274 1020.49 161.084 1020.49 Z\" fill=\"#000000\" fill-rule=\"nonzero\" fill-opacity=\"1\" /><path clip-path=\"url(#clip400)\" d=\"M161.084 752.645 Q157.473 752.645 155.644 756.209 Q153.839 759.751 153.839 766.881 Q153.839 773.987 155.644 777.552 Q157.473 781.094 161.084 781.094 Q164.718 781.094 166.524 777.552 Q168.353 773.987 168.353 766.881 Q168.353 759.751 166.524 756.209 Q164.718 752.645 161.084 752.645 M161.084 748.941 Q166.894 748.941 169.95 753.547 Q173.029 758.131 173.029 766.881 Q173.029 775.608 169.95 780.214 Q166.894 784.797 161.084 784.797 Q155.274 784.797 152.195 780.214 Q149.14 775.608 149.14 766.881 Q149.14 758.131 152.195 753.547 Q155.274 748.941 161.084 748.941 Z\" fill=\"#000000\" fill-rule=\"nonzero\" fill-opacity=\"1\" /><path clip-path=\"url(#clip400)\" d=\"M120.969 478.018 L139.325 478.018 L139.325 481.953 L125.251 481.953 L125.251 490.425 Q126.27 490.078 127.288 489.916 Q128.307 489.731 129.325 489.731 Q135.112 489.731 138.492 492.902 Q141.871 496.074 141.871 501.49 Q141.871 507.069 138.399 510.171 Q134.927 513.249 128.607 513.249 Q126.432 513.249 124.163 512.879 Q121.918 512.509 119.51 511.768 L119.51 507.069 Q121.594 508.203 123.816 508.759 Q126.038 509.314 128.515 509.314 Q132.519 509.314 134.857 507.208 Q137.195 505.101 137.195 501.49 Q137.195 497.879 134.857 495.773 Q132.519 493.666 128.515 493.666 Q126.64 493.666 124.765 494.083 Q122.913 494.499 120.969 495.379 L120.969 478.018 Z\" fill=\"#000000\" fill-rule=\"nonzero\" fill-opacity=\"1\" /><path clip-path=\"url(#clip400)\" d=\"M161.084 481.097 Q157.473 481.097 155.644 484.662 Q153.839 488.203 153.839 495.333 Q153.839 502.439 155.644 506.004 Q157.473 509.546 161.084 509.546 Q164.718 509.546 166.524 506.004 Q168.353 502.439 168.353 495.333 Q168.353 488.203 166.524 484.662 Q164.718 481.097 161.084 481.097 M161.084 477.393 Q166.894 477.393 169.95 482 Q173.029 486.583 173.029 495.333 Q173.029 504.06 169.95 508.666 Q166.894 513.249 161.084 513.249 Q155.274 513.249 152.195 508.666 Q149.14 504.06 149.14 495.333 Q149.14 486.583 152.195 482 Q155.274 477.393 161.084 477.393 Z\" fill=\"#000000\" fill-rule=\"nonzero\" fill-opacity=\"1\" /><path clip-path=\"url(#clip400)\" d=\"M91.5706 237.095 L99.2095 237.095 L99.2095 210.729 L90.8993 212.396 L90.8993 208.137 L99.1632 206.47 L103.839 206.47 L103.839 237.095 L111.478 237.095 L111.478 241.03 L91.5706 241.03 L91.5706 237.095 Z\" fill=\"#000000\" fill-rule=\"nonzero\" fill-opacity=\"1\" /><path clip-path=\"url(#clip400)\" d=\"M130.922 209.549 Q127.311 209.549 125.482 213.114 Q123.677 216.655 123.677 223.785 Q123.677 230.891 125.482 234.456 Q127.311 237.998 130.922 237.998 Q134.556 237.998 136.362 234.456 Q138.191 230.891 138.191 223.785 Q138.191 216.655 136.362 213.114 Q134.556 209.549 130.922 209.549 M130.922 205.845 Q136.732 205.845 139.788 210.452 Q142.867 215.035 142.867 223.785 Q142.867 232.512 139.788 237.118 Q136.732 241.702 130.922 241.702 Q125.112 241.702 122.033 237.118 Q118.978 232.512 118.978 223.785 Q118.978 215.035 122.033 210.452 Q125.112 205.845 130.922 205.845 Z\" fill=\"#000000\" fill-rule=\"nonzero\" fill-opacity=\"1\" /><path clip-path=\"url(#clip400)\" d=\"M161.084 209.549 Q157.473 209.549 155.644 213.114 Q153.839 216.655 153.839 223.785 Q153.839 230.891 155.644 234.456 Q157.473 237.998 161.084 237.998 Q164.718 237.998 166.524 234.456 Q168.353 230.891 168.353 223.785 Q168.353 216.655 166.524 213.114 Q164.718 209.549 161.084 209.549 M161.084 205.845 Q166.894 205.845 169.95 210.452 Q173.029 215.035 173.029 223.785 Q173.029 232.512 169.95 237.118 Q166.894 241.702 161.084 241.702 Q155.274 241.702 152.195 237.118 Q149.14 232.512 149.14 223.785 Q149.14 215.035 152.195 210.452 Q155.274 205.845 161.084 205.845 Z\" fill=\"#000000\" fill-rule=\"nonzero\" fill-opacity=\"1\" /><circle clip-path=\"url(#clip402)\" cx=\"269.7\" cy=\"1445.72\" r=\"14.4\" fill=\"#009af9\" fill-rule=\"evenodd\" fill-opacity=\"1\" stroke=\"#000000\" stroke-opacity=\"1\" stroke-width=\"3.2\"/>\n",
       "<circle clip-path=\"url(#clip402)\" cx=\"471.938\" cy=\"1114.43\" r=\"14.4\" fill=\"#009af9\" fill-rule=\"evenodd\" fill-opacity=\"1\" stroke=\"#000000\" stroke-opacity=\"1\" stroke-width=\"3.2\"/>\n",
       "<circle clip-path=\"url(#clip402)\" cx=\"674.177\" cy=\"913.482\" r=\"14.4\" fill=\"#009af9\" fill-rule=\"evenodd\" fill-opacity=\"1\" stroke=\"#000000\" stroke-opacity=\"1\" stroke-width=\"3.2\"/>\n",
       "<circle clip-path=\"url(#clip402)\" cx=\"876.415\" cy=\"810.294\" r=\"14.4\" fill=\"#009af9\" fill-rule=\"evenodd\" fill-opacity=\"1\" stroke=\"#000000\" stroke-opacity=\"1\" stroke-width=\"3.2\"/>\n",
       "<circle clip-path=\"url(#clip402)\" cx=\"1078.65\" cy=\"772.277\" r=\"14.4\" fill=\"#009af9\" fill-rule=\"evenodd\" fill-opacity=\"1\" stroke=\"#000000\" stroke-opacity=\"1\" stroke-width=\"3.2\"/>\n",
       "<circle clip-path=\"url(#clip402)\" cx=\"1280.89\" cy=\"766.846\" r=\"14.4\" fill=\"#009af9\" fill-rule=\"evenodd\" fill-opacity=\"1\" stroke=\"#000000\" stroke-opacity=\"1\" stroke-width=\"3.2\"/>\n",
       "<circle clip-path=\"url(#clip402)\" cx=\"1483.13\" cy=\"761.415\" r=\"14.4\" fill=\"#009af9\" fill-rule=\"evenodd\" fill-opacity=\"1\" stroke=\"#000000\" stroke-opacity=\"1\" stroke-width=\"3.2\"/>\n",
       "<circle clip-path=\"url(#clip402)\" cx=\"1685.37\" cy=\"723.398\" r=\"14.4\" fill=\"#009af9\" fill-rule=\"evenodd\" fill-opacity=\"1\" stroke=\"#000000\" stroke-opacity=\"1\" stroke-width=\"3.2\"/>\n",
       "<circle clip-path=\"url(#clip402)\" cx=\"1887.61\" cy=\"620.21\" r=\"14.4\" fill=\"#009af9\" fill-rule=\"evenodd\" fill-opacity=\"1\" stroke=\"#000000\" stroke-opacity=\"1\" stroke-width=\"3.2\"/>\n",
       "<circle clip-path=\"url(#clip402)\" cx=\"2089.85\" cy=\"419.265\" r=\"14.4\" fill=\"#009af9\" fill-rule=\"evenodd\" fill-opacity=\"1\" stroke=\"#000000\" stroke-opacity=\"1\" stroke-width=\"3.2\"/>\n",
       "<circle clip-path=\"url(#clip402)\" cx=\"2292.08\" cy=\"87.9763\" r=\"14.4\" fill=\"#009af9\" fill-rule=\"evenodd\" fill-opacity=\"1\" stroke=\"#000000\" stroke-opacity=\"1\" stroke-width=\"3.2\"/>\n",
       "<polyline clip-path=\"url(#clip402)\" style=\"stroke:#e26f46; stroke-linecap:round; stroke-linejoin:round; stroke-width:4; stroke-opacity:1; fill:none\" points=\"269.7,1445.72 471.938,1114.43 674.177,913.482 876.415,810.294 1078.65,772.277 1280.89,766.846 1483.13,761.415 1685.37,723.398 1887.61,620.21 2089.85,419.265 2292.08,87.9763 \"/>\n",
       "<path clip-path=\"url(#clip400)\" d=\"M280.486 250.738 L547.289 250.738 L547.289 95.2176 L280.486 95.2176  Z\" fill=\"#ffffff\" fill-rule=\"evenodd\" fill-opacity=\"1\"/>\n",
       "<polyline clip-path=\"url(#clip400)\" style=\"stroke:#000000; stroke-linecap:round; stroke-linejoin:round; stroke-width:4; stroke-opacity:1; fill:none\" points=\"280.486,250.738 547.289,250.738 547.289,95.2176 280.486,95.2176 280.486,250.738 \"/>\n",
       "<circle clip-path=\"url(#clip400)\" cx=\"375.763\" cy=\"147.058\" r=\"20.48\" fill=\"#009af9\" fill-rule=\"evenodd\" fill-opacity=\"1\" stroke=\"#000000\" stroke-opacity=\"1\" stroke-width=\"4.55111\"/>\n",
       "<path clip-path=\"url(#clip400)\" d=\"M484.882 166.745 Q483.077 171.375 481.364 172.787 Q479.651 174.199 476.78 174.199 L473.378 174.199 L473.378 170.634 L475.878 170.634 Q477.637 170.634 478.609 169.8 Q479.581 168.967 480.762 165.865 L481.526 163.921 L471.04 138.412 L475.554 138.412 L483.655 158.689 L491.757 138.412 L496.271 138.412 L484.882 166.745 Z\" fill=\"#000000\" fill-rule=\"nonzero\" fill-opacity=\"1\" /><path clip-path=\"url(#clip400)\" d=\"M503.563 160.402 L511.201 160.402 L511.201 134.037 L502.891 135.703 L502.891 131.444 L511.155 129.778 L515.831 129.778 L515.831 160.402 L523.47 160.402 L523.47 164.338 L503.563 164.338 L503.563 160.402 Z\" fill=\"#000000\" fill-rule=\"nonzero\" fill-opacity=\"1\" /><polyline clip-path=\"url(#clip400)\" style=\"stroke:#e26f46; stroke-linecap:round; stroke-linejoin:round; stroke-width:4; stroke-opacity:1; fill:none\" points=\"304.305,198.898 447.22,198.898 \"/>\n",
       "<path clip-path=\"url(#clip400)\" d=\"M484.882 218.585 Q483.077 223.215 481.364 224.627 Q479.651 226.039 476.78 226.039 L473.378 226.039 L473.378 222.474 L475.878 222.474 Q477.637 222.474 478.609 221.64 Q479.581 220.807 480.762 217.705 L481.526 215.761 L471.04 190.252 L475.554 190.252 L483.655 210.529 L491.757 190.252 L496.271 190.252 L484.882 218.585 Z\" fill=\"#000000\" fill-rule=\"nonzero\" fill-opacity=\"1\" /><path clip-path=\"url(#clip400)\" d=\"M506.78 212.242 L523.1 212.242 L523.1 216.178 L501.155 216.178 L501.155 212.242 Q503.817 209.488 508.401 204.858 Q513.007 200.205 514.188 198.863 Q516.433 196.34 517.313 194.604 Q518.215 192.844 518.215 191.155 Q518.215 188.4 516.271 186.664 Q514.35 184.928 511.248 184.928 Q509.049 184.928 506.595 185.692 Q504.164 186.455 501.387 188.006 L501.387 183.284 Q504.211 182.15 506.664 181.571 Q509.118 180.993 511.155 180.993 Q516.526 180.993 519.72 183.678 Q522.914 186.363 522.914 190.854 Q522.914 192.983 522.104 194.905 Q521.317 196.803 519.211 199.395 Q518.632 200.067 515.53 203.284 Q512.428 206.479 506.78 212.242 Z\" fill=\"#000000\" fill-rule=\"nonzero\" fill-opacity=\"1\" /></svg>\n"
      ],
      "text/html": [
       "<?xml version=\"1.0\" encoding=\"utf-8\"?>\n",
       "<svg xmlns=\"http://www.w3.org/2000/svg\" xmlns:xlink=\"http://www.w3.org/1999/xlink\" width=\"600\" height=\"400\" viewBox=\"0 0 2400 1600\">\n",
       "<defs>\n",
       "  <clipPath id=\"clip450\">\n",
       "    <rect x=\"0\" y=\"0\" width=\"2400\" height=\"1600\"/>\n",
       "  </clipPath>\n",
       "</defs>\n",
       "<path clip-path=\"url(#clip450)\" d=\"M0 1600 L2400 1600 L2400 8.88178e-14 L0 8.88178e-14  Z\" fill=\"#ffffff\" fill-rule=\"evenodd\" fill-opacity=\"1\"/>\n",
       "<defs>\n",
       "  <clipPath id=\"clip451\">\n",
       "    <rect x=\"480\" y=\"0\" width=\"1681\" height=\"1600\"/>\n",
       "  </clipPath>\n",
       "</defs>\n",
       "<path clip-path=\"url(#clip450)\" d=\"M209.029 1486.45 L2352.76 1486.45 L2352.76 47.2441 L209.029 47.2441  Z\" fill=\"#ffffff\" fill-rule=\"evenodd\" fill-opacity=\"1\"/>\n",
       "<defs>\n",
       "  <clipPath id=\"clip452\">\n",
       "    <rect x=\"209\" y=\"47\" width=\"2145\" height=\"1440\"/>\n",
       "  </clipPath>\n",
       "</defs>\n",
       "<polyline clip-path=\"url(#clip452)\" style=\"stroke:#000000; stroke-linecap:round; stroke-linejoin:round; stroke-width:2; stroke-opacity:0.1; fill:none\" points=\"471.938,1486.45 471.938,47.2441 \"/>\n",
       "<polyline clip-path=\"url(#clip452)\" style=\"stroke:#000000; stroke-linecap:round; stroke-linejoin:round; stroke-width:2; stroke-opacity:0.1; fill:none\" points=\"876.415,1486.45 876.415,47.2441 \"/>\n",
       "<polyline clip-path=\"url(#clip452)\" style=\"stroke:#000000; stroke-linecap:round; stroke-linejoin:round; stroke-width:2; stroke-opacity:0.1; fill:none\" points=\"1280.89,1486.45 1280.89,47.2441 \"/>\n",
       "<polyline clip-path=\"url(#clip452)\" style=\"stroke:#000000; stroke-linecap:round; stroke-linejoin:round; stroke-width:2; stroke-opacity:0.1; fill:none\" points=\"1685.37,1486.45 1685.37,47.2441 \"/>\n",
       "<polyline clip-path=\"url(#clip452)\" style=\"stroke:#000000; stroke-linecap:round; stroke-linejoin:round; stroke-width:2; stroke-opacity:0.1; fill:none\" points=\"2089.85,1486.45 2089.85,47.2441 \"/>\n",
       "<polyline clip-path=\"url(#clip450)\" style=\"stroke:#000000; stroke-linecap:round; stroke-linejoin:round; stroke-width:4; stroke-opacity:1; fill:none\" points=\"209.029,1486.45 2352.76,1486.45 \"/>\n",
       "<polyline clip-path=\"url(#clip450)\" style=\"stroke:#000000; stroke-linecap:round; stroke-linejoin:round; stroke-width:4; stroke-opacity:1; fill:none\" points=\"471.938,1486.45 471.938,1467.55 \"/>\n",
       "<polyline clip-path=\"url(#clip450)\" style=\"stroke:#000000; stroke-linecap:round; stroke-linejoin:round; stroke-width:4; stroke-opacity:1; fill:none\" points=\"876.415,1486.45 876.415,1467.55 \"/>\n",
       "<polyline clip-path=\"url(#clip450)\" style=\"stroke:#000000; stroke-linecap:round; stroke-linejoin:round; stroke-width:4; stroke-opacity:1; fill:none\" points=\"1280.89,1486.45 1280.89,1467.55 \"/>\n",
       "<polyline clip-path=\"url(#clip450)\" style=\"stroke:#000000; stroke-linecap:round; stroke-linejoin:round; stroke-width:4; stroke-opacity:1; fill:none\" points=\"1685.37,1486.45 1685.37,1467.55 \"/>\n",
       "<polyline clip-path=\"url(#clip450)\" style=\"stroke:#000000; stroke-linecap:round; stroke-linejoin:round; stroke-width:4; stroke-opacity:1; fill:none\" points=\"2089.85,1486.45 2089.85,1467.55 \"/>\n",
       "<path clip-path=\"url(#clip450)\" d=\"M440.839 1532.02 L470.515 1532.02 L470.515 1535.95 L440.839 1535.95 L440.839 1532.02 Z\" fill=\"#000000\" fill-rule=\"nonzero\" fill-opacity=\"1\" /><path clip-path=\"url(#clip450)\" d=\"M493.455 1518.36 L481.649 1536.81 L493.455 1536.81 L493.455 1518.36 M492.228 1514.29 L498.107 1514.29 L498.107 1536.81 L503.038 1536.81 L503.038 1540.7 L498.107 1540.7 L498.107 1548.85 L493.455 1548.85 L493.455 1540.7 L477.853 1540.7 L477.853 1536.19 L492.228 1514.29 Z\" fill=\"#000000\" fill-rule=\"nonzero\" fill-opacity=\"1\" /><path clip-path=\"url(#clip450)\" d=\"M846.358 1532.02 L876.033 1532.02 L876.033 1535.95 L846.358 1535.95 L846.358 1532.02 Z\" fill=\"#000000\" fill-rule=\"nonzero\" fill-opacity=\"1\" /><path clip-path=\"url(#clip450)\" d=\"M890.154 1544.91 L906.473 1544.91 L906.473 1548.85 L884.529 1548.85 L884.529 1544.91 Q887.191 1542.16 891.774 1537.53 Q896.381 1532.88 897.561 1531.53 Q899.806 1529.01 900.686 1527.27 Q901.589 1525.51 901.589 1523.82 Q901.589 1521.07 899.644 1519.33 Q897.723 1517.6 894.621 1517.6 Q892.422 1517.6 889.969 1518.36 Q887.538 1519.13 884.76 1520.68 L884.76 1515.95 Q887.584 1514.82 890.038 1514.24 Q892.492 1513.66 894.529 1513.66 Q899.899 1513.66 903.093 1516.35 Q906.288 1519.03 906.288 1523.52 Q906.288 1525.65 905.478 1527.57 Q904.691 1529.47 902.584 1532.07 Q902.005 1532.74 898.904 1535.95 Q895.802 1539.15 890.154 1544.91 Z\" fill=\"#000000\" fill-rule=\"nonzero\" fill-opacity=\"1\" /><path clip-path=\"url(#clip450)\" d=\"M1280.89 1517.37 Q1277.28 1517.37 1275.45 1520.93 Q1273.65 1524.47 1273.65 1531.6 Q1273.65 1538.71 1275.45 1542.27 Q1277.28 1545.82 1280.89 1545.82 Q1284.53 1545.82 1286.33 1542.27 Q1288.16 1538.71 1288.16 1531.6 Q1288.16 1524.47 1286.33 1520.93 Q1284.53 1517.37 1280.89 1517.37 M1280.89 1513.66 Q1286.7 1513.66 1289.76 1518.27 Q1292.84 1522.85 1292.84 1531.6 Q1292.84 1540.33 1289.76 1544.94 Q1286.7 1549.52 1280.89 1549.52 Q1275.08 1549.52 1272 1544.94 Q1268.95 1540.33 1268.95 1531.6 Q1268.95 1522.85 1272 1518.27 Q1275.08 1513.66 1280.89 1513.66 Z\" fill=\"#000000\" fill-rule=\"nonzero\" fill-opacity=\"1\" /><path clip-path=\"url(#clip450)\" d=\"M1680.02 1544.91 L1696.34 1544.91 L1696.34 1548.85 L1674.4 1548.85 L1674.4 1544.91 Q1677.06 1542.16 1681.64 1537.53 Q1686.25 1532.88 1687.43 1531.53 Q1689.67 1529.01 1690.55 1527.27 Q1691.46 1525.51 1691.46 1523.82 Q1691.46 1521.07 1689.51 1519.33 Q1687.59 1517.6 1684.49 1517.6 Q1682.29 1517.6 1679.84 1518.36 Q1677.41 1519.13 1674.63 1520.68 L1674.63 1515.95 Q1677.45 1514.82 1679.91 1514.24 Q1682.36 1513.66 1684.4 1513.66 Q1689.77 1513.66 1692.96 1516.35 Q1696.16 1519.03 1696.16 1523.52 Q1696.16 1525.65 1695.35 1527.57 Q1694.56 1529.47 1692.45 1532.07 Q1691.87 1532.74 1688.77 1535.95 Q1685.67 1539.15 1680.02 1544.91 Z\" fill=\"#000000\" fill-rule=\"nonzero\" fill-opacity=\"1\" /><path clip-path=\"url(#clip450)\" d=\"M2092.86 1518.36 L2081.05 1536.81 L2092.86 1536.81 L2092.86 1518.36 M2091.63 1514.29 L2097.51 1514.29 L2097.51 1536.81 L2102.44 1536.81 L2102.44 1540.7 L2097.51 1540.7 L2097.51 1548.85 L2092.86 1548.85 L2092.86 1540.7 L2077.25 1540.7 L2077.25 1536.19 L2091.63 1514.29 Z\" fill=\"#000000\" fill-rule=\"nonzero\" fill-opacity=\"1\" /><polyline clip-path=\"url(#clip452)\" style=\"stroke:#000000; stroke-linecap:round; stroke-linejoin:round; stroke-width:2; stroke-opacity:0.1; fill:none\" points=\"209.029,1309.94 2352.76,1309.94 \"/>\n",
       "<polyline clip-path=\"url(#clip452)\" style=\"stroke:#000000; stroke-linecap:round; stroke-linejoin:round; stroke-width:2; stroke-opacity:0.1; fill:none\" points=\"209.029,1038.39 2352.76,1038.39 \"/>\n",
       "<polyline clip-path=\"url(#clip452)\" style=\"stroke:#000000; stroke-linecap:round; stroke-linejoin:round; stroke-width:2; stroke-opacity:0.1; fill:none\" points=\"209.029,766.846 2352.76,766.846 \"/>\n",
       "<polyline clip-path=\"url(#clip452)\" style=\"stroke:#000000; stroke-linecap:round; stroke-linejoin:round; stroke-width:2; stroke-opacity:0.1; fill:none\" points=\"209.029,495.298 2352.76,495.298 \"/>\n",
       "<polyline clip-path=\"url(#clip452)\" style=\"stroke:#000000; stroke-linecap:round; stroke-linejoin:round; stroke-width:2; stroke-opacity:0.1; fill:none\" points=\"209.029,223.75 2352.76,223.75 \"/>\n",
       "<polyline clip-path=\"url(#clip450)\" style=\"stroke:#000000; stroke-linecap:round; stroke-linejoin:round; stroke-width:4; stroke-opacity:1; fill:none\" points=\"209.029,1486.45 209.029,47.2441 \"/>\n",
       "<polyline clip-path=\"url(#clip450)\" style=\"stroke:#000000; stroke-linecap:round; stroke-linejoin:round; stroke-width:4; stroke-opacity:1; fill:none\" points=\"209.029,1309.94 227.926,1309.94 \"/>\n",
       "<polyline clip-path=\"url(#clip450)\" style=\"stroke:#000000; stroke-linecap:round; stroke-linejoin:round; stroke-width:4; stroke-opacity:1; fill:none\" points=\"209.029,1038.39 227.926,1038.39 \"/>\n",
       "<polyline clip-path=\"url(#clip450)\" style=\"stroke:#000000; stroke-linecap:round; stroke-linejoin:round; stroke-width:4; stroke-opacity:1; fill:none\" points=\"209.029,766.846 227.926,766.846 \"/>\n",
       "<polyline clip-path=\"url(#clip450)\" style=\"stroke:#000000; stroke-linecap:round; stroke-linejoin:round; stroke-width:4; stroke-opacity:1; fill:none\" points=\"209.029,495.298 227.926,495.298 \"/>\n",
       "<polyline clip-path=\"url(#clip450)\" style=\"stroke:#000000; stroke-linecap:round; stroke-linejoin:round; stroke-width:4; stroke-opacity:1; fill:none\" points=\"209.029,223.75 227.926,223.75 \"/>\n",
       "<path clip-path=\"url(#clip450)\" d=\"M50.9921 1310.39 L80.6679 1310.39 L80.6679 1314.33 L50.9921 1314.33 L50.9921 1310.39 Z\" fill=\"#000000\" fill-rule=\"nonzero\" fill-opacity=\"1\" /><path clip-path=\"url(#clip450)\" d=\"M91.5706 1323.29 L99.2095 1323.29 L99.2095 1296.92 L90.8993 1298.59 L90.8993 1294.33 L99.1632 1292.66 L103.839 1292.66 L103.839 1323.29 L111.478 1323.29 L111.478 1327.22 L91.5706 1327.22 L91.5706 1323.29 Z\" fill=\"#000000\" fill-rule=\"nonzero\" fill-opacity=\"1\" /><path clip-path=\"url(#clip450)\" d=\"M130.922 1295.74 Q127.311 1295.74 125.482 1299.31 Q123.677 1302.85 123.677 1309.98 Q123.677 1317.08 125.482 1320.65 Q127.311 1324.19 130.922 1324.19 Q134.556 1324.19 136.362 1320.65 Q138.191 1317.08 138.191 1309.98 Q138.191 1302.85 136.362 1299.31 Q134.556 1295.74 130.922 1295.74 M130.922 1292.04 Q136.732 1292.04 139.788 1296.64 Q142.867 1301.23 142.867 1309.98 Q142.867 1318.7 139.788 1323.31 Q136.732 1327.89 130.922 1327.89 Q125.112 1327.89 122.033 1323.31 Q118.978 1318.7 118.978 1309.98 Q118.978 1301.23 122.033 1296.64 Q125.112 1292.04 130.922 1292.04 Z\" fill=\"#000000\" fill-rule=\"nonzero\" fill-opacity=\"1\" /><path clip-path=\"url(#clip450)\" d=\"M161.084 1295.74 Q157.473 1295.74 155.644 1299.31 Q153.839 1302.85 153.839 1309.98 Q153.839 1317.08 155.644 1320.65 Q157.473 1324.19 161.084 1324.19 Q164.718 1324.19 166.524 1320.65 Q168.353 1317.08 168.353 1309.98 Q168.353 1302.85 166.524 1299.31 Q164.718 1295.74 161.084 1295.74 M161.084 1292.04 Q166.894 1292.04 169.95 1296.64 Q173.029 1301.23 173.029 1309.98 Q173.029 1318.7 169.95 1323.31 Q166.894 1327.89 161.084 1327.89 Q155.274 1327.89 152.195 1323.31 Q149.14 1318.7 149.14 1309.98 Q149.14 1301.23 152.195 1296.64 Q155.274 1292.04 161.084 1292.04 Z\" fill=\"#000000\" fill-rule=\"nonzero\" fill-opacity=\"1\" /><path clip-path=\"url(#clip450)\" d=\"M81.154 1038.85 L110.83 1038.85 L110.83 1042.78 L81.154 1042.78 L81.154 1038.85 Z\" fill=\"#000000\" fill-rule=\"nonzero\" fill-opacity=\"1\" /><path clip-path=\"url(#clip450)\" d=\"M120.969 1021.11 L139.325 1021.11 L139.325 1025.05 L125.251 1025.05 L125.251 1033.52 Q126.27 1033.17 127.288 1033.01 Q128.307 1032.83 129.325 1032.83 Q135.112 1032.83 138.492 1036 Q141.871 1039.17 141.871 1044.59 Q141.871 1050.16 138.399 1053.27 Q134.927 1056.35 128.607 1056.35 Q126.432 1056.35 124.163 1055.97 Q121.918 1055.6 119.51 1054.86 L119.51 1050.16 Q121.594 1051.3 123.816 1051.85 Q126.038 1052.41 128.515 1052.41 Q132.519 1052.41 134.857 1050.3 Q137.195 1048.2 137.195 1044.59 Q137.195 1040.97 134.857 1038.87 Q132.519 1036.76 128.515 1036.76 Q126.64 1036.76 124.765 1037.18 Q122.913 1037.6 120.969 1038.47 L120.969 1021.11 Z\" fill=\"#000000\" fill-rule=\"nonzero\" fill-opacity=\"1\" /><path clip-path=\"url(#clip450)\" d=\"M161.084 1024.19 Q157.473 1024.19 155.644 1027.76 Q153.839 1031.3 153.839 1038.43 Q153.839 1045.54 155.644 1049.1 Q157.473 1052.64 161.084 1052.64 Q164.718 1052.64 166.524 1049.1 Q168.353 1045.54 168.353 1038.43 Q168.353 1031.3 166.524 1027.76 Q164.718 1024.19 161.084 1024.19 M161.084 1020.49 Q166.894 1020.49 169.95 1025.1 Q173.029 1029.68 173.029 1038.43 Q173.029 1047.16 169.95 1051.76 Q166.894 1056.35 161.084 1056.35 Q155.274 1056.35 152.195 1051.76 Q149.14 1047.16 149.14 1038.43 Q149.14 1029.68 152.195 1025.1 Q155.274 1020.49 161.084 1020.49 Z\" fill=\"#000000\" fill-rule=\"nonzero\" fill-opacity=\"1\" /><path clip-path=\"url(#clip450)\" d=\"M161.084 752.645 Q157.473 752.645 155.644 756.209 Q153.839 759.751 153.839 766.881 Q153.839 773.987 155.644 777.552 Q157.473 781.094 161.084 781.094 Q164.718 781.094 166.524 777.552 Q168.353 773.987 168.353 766.881 Q168.353 759.751 166.524 756.209 Q164.718 752.645 161.084 752.645 M161.084 748.941 Q166.894 748.941 169.95 753.547 Q173.029 758.131 173.029 766.881 Q173.029 775.608 169.95 780.214 Q166.894 784.797 161.084 784.797 Q155.274 784.797 152.195 780.214 Q149.14 775.608 149.14 766.881 Q149.14 758.131 152.195 753.547 Q155.274 748.941 161.084 748.941 Z\" fill=\"#000000\" fill-rule=\"nonzero\" fill-opacity=\"1\" /><path clip-path=\"url(#clip450)\" d=\"M120.969 478.018 L139.325 478.018 L139.325 481.953 L125.251 481.953 L125.251 490.425 Q126.27 490.078 127.288 489.916 Q128.307 489.731 129.325 489.731 Q135.112 489.731 138.492 492.902 Q141.871 496.074 141.871 501.49 Q141.871 507.069 138.399 510.171 Q134.927 513.249 128.607 513.249 Q126.432 513.249 124.163 512.879 Q121.918 512.509 119.51 511.768 L119.51 507.069 Q121.594 508.203 123.816 508.759 Q126.038 509.314 128.515 509.314 Q132.519 509.314 134.857 507.208 Q137.195 505.101 137.195 501.49 Q137.195 497.879 134.857 495.773 Q132.519 493.666 128.515 493.666 Q126.64 493.666 124.765 494.083 Q122.913 494.499 120.969 495.379 L120.969 478.018 Z\" fill=\"#000000\" fill-rule=\"nonzero\" fill-opacity=\"1\" /><path clip-path=\"url(#clip450)\" d=\"M161.084 481.097 Q157.473 481.097 155.644 484.662 Q153.839 488.203 153.839 495.333 Q153.839 502.439 155.644 506.004 Q157.473 509.546 161.084 509.546 Q164.718 509.546 166.524 506.004 Q168.353 502.439 168.353 495.333 Q168.353 488.203 166.524 484.662 Q164.718 481.097 161.084 481.097 M161.084 477.393 Q166.894 477.393 169.95 482 Q173.029 486.583 173.029 495.333 Q173.029 504.06 169.95 508.666 Q166.894 513.249 161.084 513.249 Q155.274 513.249 152.195 508.666 Q149.14 504.06 149.14 495.333 Q149.14 486.583 152.195 482 Q155.274 477.393 161.084 477.393 Z\" fill=\"#000000\" fill-rule=\"nonzero\" fill-opacity=\"1\" /><path clip-path=\"url(#clip450)\" d=\"M91.5706 237.095 L99.2095 237.095 L99.2095 210.729 L90.8993 212.396 L90.8993 208.137 L99.1632 206.47 L103.839 206.47 L103.839 237.095 L111.478 237.095 L111.478 241.03 L91.5706 241.03 L91.5706 237.095 Z\" fill=\"#000000\" fill-rule=\"nonzero\" fill-opacity=\"1\" /><path clip-path=\"url(#clip450)\" d=\"M130.922 209.549 Q127.311 209.549 125.482 213.114 Q123.677 216.655 123.677 223.785 Q123.677 230.891 125.482 234.456 Q127.311 237.998 130.922 237.998 Q134.556 237.998 136.362 234.456 Q138.191 230.891 138.191 223.785 Q138.191 216.655 136.362 213.114 Q134.556 209.549 130.922 209.549 M130.922 205.845 Q136.732 205.845 139.788 210.452 Q142.867 215.035 142.867 223.785 Q142.867 232.512 139.788 237.118 Q136.732 241.702 130.922 241.702 Q125.112 241.702 122.033 237.118 Q118.978 232.512 118.978 223.785 Q118.978 215.035 122.033 210.452 Q125.112 205.845 130.922 205.845 Z\" fill=\"#000000\" fill-rule=\"nonzero\" fill-opacity=\"1\" /><path clip-path=\"url(#clip450)\" d=\"M161.084 209.549 Q157.473 209.549 155.644 213.114 Q153.839 216.655 153.839 223.785 Q153.839 230.891 155.644 234.456 Q157.473 237.998 161.084 237.998 Q164.718 237.998 166.524 234.456 Q168.353 230.891 168.353 223.785 Q168.353 216.655 166.524 213.114 Q164.718 209.549 161.084 209.549 M161.084 205.845 Q166.894 205.845 169.95 210.452 Q173.029 215.035 173.029 223.785 Q173.029 232.512 169.95 237.118 Q166.894 241.702 161.084 241.702 Q155.274 241.702 152.195 237.118 Q149.14 232.512 149.14 223.785 Q149.14 215.035 152.195 210.452 Q155.274 205.845 161.084 205.845 Z\" fill=\"#000000\" fill-rule=\"nonzero\" fill-opacity=\"1\" /><circle clip-path=\"url(#clip452)\" cx=\"269.7\" cy=\"1445.72\" r=\"14.4\" fill=\"#009af9\" fill-rule=\"evenodd\" fill-opacity=\"1\" stroke=\"#000000\" stroke-opacity=\"1\" stroke-width=\"3.2\"/>\n",
       "<circle clip-path=\"url(#clip452)\" cx=\"471.938\" cy=\"1114.43\" r=\"14.4\" fill=\"#009af9\" fill-rule=\"evenodd\" fill-opacity=\"1\" stroke=\"#000000\" stroke-opacity=\"1\" stroke-width=\"3.2\"/>\n",
       "<circle clip-path=\"url(#clip452)\" cx=\"674.177\" cy=\"913.482\" r=\"14.4\" fill=\"#009af9\" fill-rule=\"evenodd\" fill-opacity=\"1\" stroke=\"#000000\" stroke-opacity=\"1\" stroke-width=\"3.2\"/>\n",
       "<circle clip-path=\"url(#clip452)\" cx=\"876.415\" cy=\"810.294\" r=\"14.4\" fill=\"#009af9\" fill-rule=\"evenodd\" fill-opacity=\"1\" stroke=\"#000000\" stroke-opacity=\"1\" stroke-width=\"3.2\"/>\n",
       "<circle clip-path=\"url(#clip452)\" cx=\"1078.65\" cy=\"772.277\" r=\"14.4\" fill=\"#009af9\" fill-rule=\"evenodd\" fill-opacity=\"1\" stroke=\"#000000\" stroke-opacity=\"1\" stroke-width=\"3.2\"/>\n",
       "<circle clip-path=\"url(#clip452)\" cx=\"1280.89\" cy=\"766.846\" r=\"14.4\" fill=\"#009af9\" fill-rule=\"evenodd\" fill-opacity=\"1\" stroke=\"#000000\" stroke-opacity=\"1\" stroke-width=\"3.2\"/>\n",
       "<circle clip-path=\"url(#clip452)\" cx=\"1483.13\" cy=\"761.415\" r=\"14.4\" fill=\"#009af9\" fill-rule=\"evenodd\" fill-opacity=\"1\" stroke=\"#000000\" stroke-opacity=\"1\" stroke-width=\"3.2\"/>\n",
       "<circle clip-path=\"url(#clip452)\" cx=\"1685.37\" cy=\"723.398\" r=\"14.4\" fill=\"#009af9\" fill-rule=\"evenodd\" fill-opacity=\"1\" stroke=\"#000000\" stroke-opacity=\"1\" stroke-width=\"3.2\"/>\n",
       "<circle clip-path=\"url(#clip452)\" cx=\"1887.61\" cy=\"620.21\" r=\"14.4\" fill=\"#009af9\" fill-rule=\"evenodd\" fill-opacity=\"1\" stroke=\"#000000\" stroke-opacity=\"1\" stroke-width=\"3.2\"/>\n",
       "<circle clip-path=\"url(#clip452)\" cx=\"2089.85\" cy=\"419.265\" r=\"14.4\" fill=\"#009af9\" fill-rule=\"evenodd\" fill-opacity=\"1\" stroke=\"#000000\" stroke-opacity=\"1\" stroke-width=\"3.2\"/>\n",
       "<circle clip-path=\"url(#clip452)\" cx=\"2292.08\" cy=\"87.9763\" r=\"14.4\" fill=\"#009af9\" fill-rule=\"evenodd\" fill-opacity=\"1\" stroke=\"#000000\" stroke-opacity=\"1\" stroke-width=\"3.2\"/>\n",
       "<polyline clip-path=\"url(#clip452)\" style=\"stroke:#e26f46; stroke-linecap:round; stroke-linejoin:round; stroke-width:4; stroke-opacity:1; fill:none\" points=\"269.7,1445.72 471.938,1114.43 674.177,913.482 876.415,810.294 1078.65,772.277 1280.89,766.846 1483.13,761.415 1685.37,723.398 1887.61,620.21 2089.85,419.265 2292.08,87.9763 \"/>\n",
       "<path clip-path=\"url(#clip450)\" d=\"M280.486 250.738 L547.289 250.738 L547.289 95.2176 L280.486 95.2176  Z\" fill=\"#ffffff\" fill-rule=\"evenodd\" fill-opacity=\"1\"/>\n",
       "<polyline clip-path=\"url(#clip450)\" style=\"stroke:#000000; stroke-linecap:round; stroke-linejoin:round; stroke-width:4; stroke-opacity:1; fill:none\" points=\"280.486,250.738 547.289,250.738 547.289,95.2176 280.486,95.2176 280.486,250.738 \"/>\n",
       "<circle clip-path=\"url(#clip450)\" cx=\"375.763\" cy=\"147.058\" r=\"20.48\" fill=\"#009af9\" fill-rule=\"evenodd\" fill-opacity=\"1\" stroke=\"#000000\" stroke-opacity=\"1\" stroke-width=\"4.55111\"/>\n",
       "<path clip-path=\"url(#clip450)\" d=\"M484.882 166.745 Q483.077 171.375 481.364 172.787 Q479.651 174.199 476.78 174.199 L473.378 174.199 L473.378 170.634 L475.878 170.634 Q477.637 170.634 478.609 169.8 Q479.581 168.967 480.762 165.865 L481.526 163.921 L471.04 138.412 L475.554 138.412 L483.655 158.689 L491.757 138.412 L496.271 138.412 L484.882 166.745 Z\" fill=\"#000000\" fill-rule=\"nonzero\" fill-opacity=\"1\" /><path clip-path=\"url(#clip450)\" d=\"M503.563 160.402 L511.201 160.402 L511.201 134.037 L502.891 135.703 L502.891 131.444 L511.155 129.778 L515.831 129.778 L515.831 160.402 L523.47 160.402 L523.47 164.338 L503.563 164.338 L503.563 160.402 Z\" fill=\"#000000\" fill-rule=\"nonzero\" fill-opacity=\"1\" /><polyline clip-path=\"url(#clip450)\" style=\"stroke:#e26f46; stroke-linecap:round; stroke-linejoin:round; stroke-width:4; stroke-opacity:1; fill:none\" points=\"304.305,198.898 447.22,198.898 \"/>\n",
       "<path clip-path=\"url(#clip450)\" d=\"M484.882 218.585 Q483.077 223.215 481.364 224.627 Q479.651 226.039 476.78 226.039 L473.378 226.039 L473.378 222.474 L475.878 222.474 Q477.637 222.474 478.609 221.64 Q479.581 220.807 480.762 217.705 L481.526 215.761 L471.04 190.252 L475.554 190.252 L483.655 210.529 L491.757 190.252 L496.271 190.252 L484.882 218.585 Z\" fill=\"#000000\" fill-rule=\"nonzero\" fill-opacity=\"1\" /><path clip-path=\"url(#clip450)\" d=\"M506.78 212.242 L523.1 212.242 L523.1 216.178 L501.155 216.178 L501.155 212.242 Q503.817 209.488 508.401 204.858 Q513.007 200.205 514.188 198.863 Q516.433 196.34 517.313 194.604 Q518.215 192.844 518.215 191.155 Q518.215 188.4 516.271 186.664 Q514.35 184.928 511.248 184.928 Q509.049 184.928 506.595 185.692 Q504.164 186.455 501.387 188.006 L501.387 183.284 Q504.211 182.15 506.664 181.571 Q509.118 180.993 511.155 180.993 Q516.526 180.993 519.72 183.678 Q522.914 186.363 522.914 190.854 Q522.914 192.983 522.104 194.905 Q521.317 196.803 519.211 199.395 Q518.632 200.067 515.53 203.284 Q512.428 206.479 506.78 212.242 Z\" fill=\"#000000\" fill-rule=\"nonzero\" fill-opacity=\"1\" /></svg>\n"
      ]
     },
     "execution_count": 31,
     "metadata": {},
     "output_type": "execute_result"
    }
   ],
   "source": [
    "scatter(x, y)\n",
    "plot!(x, y)"
   ]
  },
  {
   "cell_type": "markdown",
   "metadata": {},
   "source": [
    "___\n",
    "## Calling C Functions in Julia\n",
    "___ \n",
    "Just like Python, Julia also _support interoperability with other languages_, allowing developers to easily integrate code written in languages like **C, C++, and Fortran**.\\\n",
    "\n",
    "The following  example demonstrates how to call a simple C function from within Julia.\\\n",
    "The C code written in a file named `mylib.c` and compiled as `gcc -fPIC -shared -o mylib.so mylib.c `"
   ]
  },
  {
   "cell_type": "code",
   "execution_count": 32,
   "metadata": {},
   "outputs": [
    {
     "data": {
      "text/plain": [
       "15"
      ]
     },
     "execution_count": 32,
     "metadata": {},
     "output_type": "execute_result"
    }
   ],
   "source": [
    "@ccall \"./mylib.so\".jSum(5::Cint, 10::Cint)::Cint\n"
   ]
  }
 ],
 "metadata": {
  "kernelspec": {
   "display_name": "Julia 1.10.0",
   "language": "julia",
   "name": "julia-1.10"
  },
  "language_info": {
   "file_extension": ".jl",
   "mimetype": "application/julia",
   "name": "julia",
   "version": "1.10.0"
  }
 },
 "nbformat": 4,
 "nbformat_minor": 2
}
