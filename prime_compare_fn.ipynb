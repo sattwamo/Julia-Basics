{
 "cells": [
  {
   "attachments": {},
   "cell_type": "markdown",
   "metadata": {},
   "source": [
    "#### First function, directly copied from python and translated to julia"
   ]
  },
  {
   "cell_type": "code",
   "execution_count": 7,
   "metadata": {},
   "outputs": [
    {
     "name": "stdout",
     "output_type": "stream",
     "text": [
      "238.363645 seconds (4.82 G allocations: 98.116 GiB, 20.23% gc time)\n",
      "(664579,)"
     ]
    }
   ],
   "source": [
    "lower = 1\n",
    "upper = 10^7\n",
    "\n",
    "primes = []\n",
    "\n",
    "@time for num=lower:upper\n",
    "    if num > 1\n",
    "        n = 0\n",
    "        for i=2:floor(Int, sqrt(num))\n",
    "            \n",
    "            if (num % i) == 0\n",
    "                n += 1\n",
    "                break\n",
    "            end\n",
    "        end\n",
    "        if n == 0\n",
    "            push!(primes,num)\n",
    "        end\n",
    "    end \n",
    "end\n",
    "\n",
    "print(size(primes))\n",
    "\n",
    "#238.363645 seconds (4.82 G allocations: 98.116 GiB, 20.23% gc time)\n",
    "#(664579,)"
   ]
  },
  {
   "attachments": {},
   "cell_type": "markdown",
   "metadata": {},
   "source": [
    "#### Enclose the above given loop in a function. This drastically changes the performance "
   ]
  },
  {
   "cell_type": "code",
   "execution_count": 2,
   "metadata": {},
   "outputs": [
    {
     "name": "stdout",
     "output_type": "stream",
     "text": [
      " 11.318827 seconds (3.00 M allocations: 82.961 MiB, 0.49% gc time)\n"
     ]
    },
    {
     "data": {
      "text/plain": [
       "3001134-element Vector{Any}:\n",
       "        2\n",
       "        3\n",
       "        5\n",
       "        7\n",
       "       11\n",
       "       13\n",
       "       17\n",
       "       19\n",
       "       23\n",
       "       29\n",
       "       31\n",
       "       37\n",
       "       41\n",
       "        ⋮\n",
       " 49999783\n",
       " 49999801\n",
       " 49999819\n",
       " 49999843\n",
       " 49999847\n",
       " 49999853\n",
       " 49999877\n",
       " 49999883\n",
       " 49999897\n",
       " 49999903\n",
       " 49999921\n",
       " 49999991"
      ]
     },
     "execution_count": 2,
     "metadata": {},
     "output_type": "execute_result"
    }
   ],
   "source": [
    "function primes_find()\n",
    "    lower = 1\n",
    "    upper = 5*10^7\n",
    "\n",
    "    primes = []\n",
    "\n",
    "\n",
    "\n",
    "    for num=lower:upper\n",
    "        if num > 1\n",
    "            n = 0\n",
    "            for i=2:floor(Int, sqrt(num))\n",
    "                \n",
    "                if (num % i) == 0\n",
    "                    n += 1\n",
    "                    break\n",
    "                end\n",
    "            end\n",
    "            if n == 0\n",
    "                push!(primes,num)\n",
    "            end\n",
    "        end \n",
    "    end\n",
    "\n",
    "    return primes\n",
    "end\n",
    "\n",
    "@time primes_find()\n",
    "\n",
    "# This time also includes the time of printing/returning the array to the screen\n",
    "# 1.184180 seconds (664.50 k allocations: 19.921 MiB) #for 10^7\n",
    "#664579-element Vector{Any}:\n",
    "\n",
    "# 11.318827 seconds (3.00 M allocations: 82.961 MiB, 0.49% gc time) #for 5*10^7\n",
    "# 3001134-element Vector{Any}:"
   ]
  },
  {
   "attachments": {},
   "cell_type": "markdown",
   "metadata": {},
   "source": [
    "#### Let's now change the way our function looks a bit. Bit more cleaner"
   ]
  },
  {
   "cell_type": "code",
   "execution_count": 3,
   "metadata": {},
   "outputs": [
    {
     "data": {
      "text/plain": [
       "prime_check (generic function with 1 method)"
      ]
     },
     "execution_count": 3,
     "metadata": {},
     "output_type": "execute_result"
    }
   ],
   "source": [
    "function prime_check(num)\n",
    "    if num > 1\n",
    "        for i=2:floor(Int, sqrt(num))\n",
    "            if (num % i) == 0\n",
    "                return false\n",
    "            end\n",
    "        end\n",
    "        return true    \n",
    "    end \n",
    "end"
   ]
  },
  {
   "cell_type": "code",
   "execution_count": 4,
   "metadata": {},
   "outputs": [
    {
     "name": "stdout",
     "output_type": "stream",
     "text": [
      "false true"
     ]
    }
   ],
   "source": [
    "print(prime_check(4),\" \",prime_check(13)) # It works!"
   ]
  },
  {
   "cell_type": "code",
   "execution_count": 6,
   "metadata": {},
   "outputs": [
    {
     "name": "stdout",
     "output_type": "stream",
     "text": [
      "  1.178618 seconds (664.50 k allocations: 19.921 MiB)\n"
     ]
    }
   ],
   "source": [
    "function list_primes(lower,upper)\n",
    "    primes = []\n",
    "    for i=lower:upper\n",
    "        if prime_check(i) == true\n",
    "            push!(primes,i)\n",
    "        end\n",
    "    end\n",
    "    #return primes\n",
    "end\n",
    "\n",
    "@time list_primes(1,10^7)\n",
    "\n",
    "# 1.178618 seconds (664.50 k allocations: 19.921 MiB) #10^7\n",
    "# 664579-element Vector{Any}:"
   ]
  },
  {
   "cell_type": "code",
   "execution_count": 15,
   "metadata": {},
   "outputs": [
    {
     "data": {
      "text/plain": [
       "8-element Vector{Float64}:\n",
       "  3.0e-6\n",
       "  2.0e-6\n",
       "  1.6e-5\n",
       "  0.000191\n",
       "  0.003107\n",
       "  0.053882\n",
       "  1.173683\n",
       " 11.315682"
      ]
     },
     "execution_count": 15,
     "metadata": {},
     "output_type": "execute_result"
    }
   ],
   "source": [
    "num = [10^i for i=1:7]\n",
    "push!(num,5*10^7)\n",
    "# time = [@time list_primes(1,i) for i in num]\n",
    "time = [0.000003, 0.000002, 0.000016 , 0.000191 ,0.003107 ,0.053882,1.173683,11.315682]  "
   ]
  },
  {
   "cell_type": "code",
   "execution_count": 16,
   "metadata": {},
   "outputs": [],
   "source": [
    "using Plots"
   ]
  },
  {
   "cell_type": "code",
   "execution_count": 17,
   "metadata": {},
   "outputs": [
    {
     "data": {
      "image/png": "[encoded data removed]",
      "image/svg+xml": [
       "<?xml version=\"1.0\" encoding=\"utf-8\"?>\n",
       "<svg xmlns=\"http://www.w3.org/2000/svg\" xmlns:xlink=\"http://www.w3.org/1999/xlink\" width=\"1000\" height=\"500\" viewBox=\"0 0 4000 2000\">\n",
       "<defs>\n",
       "  <clipPath id=\"clip370\">\n",
       "    <rect x=\"0\" y=\"0\" width=\"4000\" height=\"2000\"/>\n",
       "  </clipPath>\n",
       "</defs>\n",
       "<path clip-path=\"url(#clip370)\" d=\"M0 2000 L4000 2000 L4000 0 L0 0  Z\" fill=\"#ffffff\" fill-rule=\"evenodd\" fill-opacity=\"1\"/>\n",
       "<defs>\n",
       "  <clipPath id=\"clip371\">\n",
       "    <rect x=\"800\" y=\"0\" width=\"2801\" height=\"2000\"/>\n",
       "  </clipPath>\n",
       "</defs>\n",
       "<path clip-path=\"url(#clip370)\" d=\"M200.191 1881.88 L3952.76 1881.88 L3952.76 47.2441 L200.191 47.2441  Z\" fill=\"#ffffff\" fill-rule=\"evenodd\" fill-opacity=\"1\"/>\n",
       "<defs>\n",
       "  <clipPath id=\"clip372\">\n",
       "    <rect x=\"200\" y=\"47\" width=\"3754\" height=\"1836\"/>\n",
       "  </clipPath>\n",
       "</defs>\n",
       "<polyline clip-path=\"url(#clip372)\" style=\"stroke:#000000; stroke-linecap:round; stroke-linejoin:round; stroke-width:2; stroke-opacity:0.1; fill:none\" points=\"306.395,1881.88 306.395,47.2441 \"/>\n",
       "<polyline clip-path=\"url(#clip372)\" style=\"stroke:#000000; stroke-linecap:round; stroke-linejoin:round; stroke-width:2; stroke-opacity:0.1; fill:none\" points=\"1014.43,1881.88 1014.43,47.2441 \"/>\n",
       "<polyline clip-path=\"url(#clip372)\" style=\"stroke:#000000; stroke-linecap:round; stroke-linejoin:round; stroke-width:2; stroke-opacity:0.1; fill:none\" points=\"1722.46,1881.88 1722.46,47.2441 \"/>\n",
       "<polyline clip-path=\"url(#clip372)\" style=\"stroke:#000000; stroke-linecap:round; stroke-linejoin:round; stroke-width:2; stroke-opacity:0.1; fill:none\" points=\"2430.49,1881.88 2430.49,47.2441 \"/>\n",
       "<polyline clip-path=\"url(#clip372)\" style=\"stroke:#000000; stroke-linecap:round; stroke-linejoin:round; stroke-width:2; stroke-opacity:0.1; fill:none\" points=\"3138.52,1881.88 3138.52,47.2441 \"/>\n",
       "<polyline clip-path=\"url(#clip372)\" style=\"stroke:#000000; stroke-linecap:round; stroke-linejoin:round; stroke-width:2; stroke-opacity:0.1; fill:none\" points=\"3846.55,1881.88 3846.55,47.2441 \"/>\n",
       "<polyline clip-path=\"url(#clip370)\" style=\"stroke:#000000; stroke-linecap:round; stroke-linejoin:round; stroke-width:4; stroke-opacity:1; fill:none\" points=\"200.191,1881.88 3952.76,1881.88 \"/>\n",
       "<polyline clip-path=\"url(#clip370)\" style=\"stroke:#000000; stroke-linecap:round; stroke-linejoin:round; stroke-width:4; stroke-opacity:1; fill:none\" points=\"306.395,1881.88 306.395,1862.98 \"/>\n",
       "<polyline clip-path=\"url(#clip370)\" style=\"stroke:#000000; stroke-linecap:round; stroke-linejoin:round; stroke-width:4; stroke-opacity:1; fill:none\" points=\"1014.43,1881.88 1014.43,1862.98 \"/>\n",
       "<polyline clip-path=\"url(#clip370)\" style=\"stroke:#000000; stroke-linecap:round; stroke-linejoin:round; stroke-width:4; stroke-opacity:1; fill:none\" points=\"1722.46,1881.88 1722.46,1862.98 \"/>\n",
       "<polyline clip-path=\"url(#clip370)\" style=\"stroke:#000000; stroke-linecap:round; stroke-linejoin:round; stroke-width:4; stroke-opacity:1; fill:none\" points=\"2430.49,1881.88 2430.49,1862.98 \"/>\n",
       "<polyline clip-path=\"url(#clip370)\" style=\"stroke:#000000; stroke-linecap:round; stroke-linejoin:round; stroke-width:4; stroke-opacity:1; fill:none\" points=\"3138.52,1881.88 3138.52,1862.98 \"/>\n",
       "<polyline clip-path=\"url(#clip370)\" style=\"stroke:#000000; stroke-linecap:round; stroke-linejoin:round; stroke-width:4; stroke-opacity:1; fill:none\" points=\"3846.55,1881.88 3846.55,1862.98 \"/>\n",
       "<path clip-path=\"url(#clip370)\" d=\"M306.395 1925.59 Q302.784 1925.59 300.955 1929.16 Q299.149 1932.7 299.149 1939.83 Q299.149 1946.94 300.955 1950.5 Q302.784 1954.04 306.395 1954.04 Q310.029 1954.04 311.834 1950.5 Q313.663 1946.94 313.663 1939.83 Q313.663 1932.7 311.834 1929.16 Q310.029 1925.59 306.395 1925.59 M306.395 1921.89 Q312.205 1921.89 315.26 1926.5 Q318.339 1931.08 318.339 1939.83 Q318.339 1948.56 315.26 1953.16 Q312.205 1957.75 306.395 1957.75 Q300.584 1957.75 297.506 1953.16 Q294.45 1948.56 294.45 1939.83 Q294.45 1931.08 297.506 1926.5 Q300.584 1921.89 306.395 1921.89 Z\" fill=\"#000000\" fill-rule=\"nonzero\" fill-opacity=\"1\" /><path clip-path=\"url(#clip370)\" d=\"M922.528 1968.8 L930.167 1968.8 L930.167 1942.43 L921.857 1944.1 L921.857 1939.84 L930.121 1938.18 L934.797 1938.18 L934.797 1968.8 L942.436 1968.8 L942.436 1972.74 L922.528 1972.74 L922.528 1968.8 Z\" fill=\"#000000\" fill-rule=\"nonzero\" fill-opacity=\"1\" /><path clip-path=\"url(#clip370)\" d=\"M951.88 1966.86 L956.764 1966.86 L956.764 1972.74 L951.88 1972.74 L951.88 1966.86 Z\" fill=\"#000000\" fill-rule=\"nonzero\" fill-opacity=\"1\" /><path clip-path=\"url(#clip370)\" d=\"M976.949 1941.25 Q973.338 1941.25 971.51 1944.82 Q969.704 1948.36 969.704 1955.49 Q969.704 1962.6 971.51 1966.16 Q973.338 1969.7 976.949 1969.7 Q980.584 1969.7 982.389 1966.16 Q984.218 1962.6 984.218 1955.49 Q984.218 1948.36 982.389 1944.82 Q980.584 1941.25 976.949 1941.25 M976.949 1937.55 Q982.759 1937.55 985.815 1942.16 Q988.894 1946.74 988.894 1955.49 Q988.894 1964.22 985.815 1968.82 Q982.759 1973.41 976.949 1973.41 Q971.139 1973.41 968.06 1968.82 Q965.005 1964.22 965.005 1955.49 Q965.005 1946.74 968.06 1942.16 Q971.139 1937.55 976.949 1937.55 Z\" fill=\"#000000\" fill-rule=\"nonzero\" fill-opacity=\"1\" /><path clip-path=\"url(#clip370)\" d=\"M1025.28 1947.27 L1014.7 1957.9 L1025.28 1968.48 L1022.53 1971.28 L1011.9 1960.65 L1001.28 1971.28 L998.546 1968.48 L1009.1 1957.9 L998.546 1947.27 L1001.28 1944.47 L1011.9 1955.1 L1022.53 1944.47 L1025.28 1947.27 Z\" fill=\"#000000\" fill-rule=\"nonzero\" fill-opacity=\"1\" /><path clip-path=\"url(#clip370)\" d=\"M1037.64 1968.8 L1045.28 1968.8 L1045.28 1942.43 L1036.97 1944.1 L1036.97 1939.84 L1045.24 1938.18 L1049.91 1938.18 L1049.91 1968.8 L1057.55 1968.8 L1057.55 1972.74 L1037.64 1972.74 L1037.64 1968.8 Z\" fill=\"#000000\" fill-rule=\"nonzero\" fill-opacity=\"1\" /><path clip-path=\"url(#clip370)\" d=\"M1077 1941.25 Q1073.38 1941.25 1071.56 1944.82 Q1069.75 1948.36 1069.75 1955.49 Q1069.75 1962.6 1071.56 1966.16 Q1073.38 1969.7 1077 1969.7 Q1080.63 1969.7 1082.43 1966.16 Q1084.26 1962.6 1084.26 1955.49 Q1084.26 1948.36 1082.43 1944.82 Q1080.63 1941.25 1077 1941.25 M1077 1937.55 Q1082.81 1937.55 1085.86 1942.16 Q1088.94 1946.74 1088.94 1955.49 Q1088.94 1964.22 1085.86 1968.82 Q1082.81 1973.41 1077 1973.41 Q1071.18 1973.41 1068.11 1968.82 Q1065.05 1964.22 1065.05 1955.49 Q1065.05 1946.74 1068.11 1942.16 Q1071.18 1937.55 1077 1937.55 Z\" fill=\"#000000\" fill-rule=\"nonzero\" fill-opacity=\"1\" /><path clip-path=\"url(#clip370)\" d=\"M1088.94 1917.25 L1106.99 1917.25 L1106.99 1918.86 L1096.8 1945.33 L1092.83 1945.33 L1102.42 1920.44 L1088.94 1920.44 L1088.94 1917.25 Z\" fill=\"#000000\" fill-rule=\"nonzero\" fill-opacity=\"1\" /><path clip-path=\"url(#clip370)\" d=\"M1634.65 1968.8 L1650.96 1968.8 L1650.96 1972.74 L1629.02 1972.74 L1629.02 1968.8 Q1631.68 1966.05 1636.27 1961.42 Q1640.87 1956.76 1642.05 1955.42 Q1644.3 1952.9 1645.18 1951.16 Q1646.08 1949.4 1646.08 1947.71 Q1646.08 1944.96 1644.14 1943.22 Q1642.21 1941.49 1639.11 1941.49 Q1636.91 1941.49 1634.46 1942.25 Q1632.03 1943.01 1629.25 1944.56 L1629.25 1939.84 Q1632.08 1938.71 1634.53 1938.13 Q1636.98 1937.55 1639.02 1937.55 Q1644.39 1937.55 1647.58 1940.24 Q1650.78 1942.92 1650.78 1947.41 Q1650.78 1949.54 1649.97 1951.46 Q1649.18 1953.36 1647.08 1955.95 Q1646.5 1956.62 1643.4 1959.84 Q1640.29 1963.04 1634.65 1968.8 Z\" fill=\"#000000\" fill-rule=\"nonzero\" fill-opacity=\"1\" /><path clip-path=\"url(#clip370)\" d=\"M1660.78 1966.86 L1665.66 1966.86 L1665.66 1972.74 L1660.78 1972.74 L1660.78 1966.86 Z\" fill=\"#000000\" fill-rule=\"nonzero\" fill-opacity=\"1\" /><path clip-path=\"url(#clip370)\" d=\"M1685.85 1941.25 Q1682.24 1941.25 1680.41 1944.82 Q1678.6 1948.36 1678.6 1955.49 Q1678.6 1962.6 1680.41 1966.16 Q1682.24 1969.7 1685.85 1969.7 Q1689.48 1969.7 1691.29 1966.16 Q1693.12 1962.6 1693.12 1955.49 Q1693.12 1948.36 1691.29 1944.82 Q1689.48 1941.25 1685.85 1941.25 M1685.85 1937.55 Q1691.66 1937.55 1694.71 1942.16 Q1697.79 1946.74 1697.79 1955.49 Q1697.79 1964.22 1694.71 1968.82 Q1691.66 1973.41 1685.85 1973.41 Q1680.04 1973.41 1676.96 1968.82 Q1673.9 1964.22 1673.9 1955.49 Q1673.9 1946.74 1676.96 1942.16 Q1680.04 1937.55 1685.85 1937.55 Z\" fill=\"#000000\" fill-rule=\"nonzero\" fill-opacity=\"1\" /><path clip-path=\"url(#clip370)\" d=\"M1734.18 1947.27 L1723.6 1957.9 L1734.18 1968.48 L1731.43 1971.28 L1720.8 1960.65 L1710.18 1971.28 L1707.45 1968.48 L1718 1957.9 L1707.45 1947.27 L1710.18 1944.47 L1720.8 1955.1 L1731.43 1944.47 L1734.18 1947.27 Z\" fill=\"#000000\" fill-rule=\"nonzero\" fill-opacity=\"1\" /><path clip-path=\"url(#clip370)\" d=\"M1746.54 1968.8 L1754.18 1968.8 L1754.18 1942.43 L1745.87 1944.1 L1745.87 1939.84 L1754.14 1938.18 L1758.81 1938.18 L1758.81 1968.8 L1766.45 1968.8 L1766.45 1972.74 L1746.54 1972.74 L1746.54 1968.8 Z\" fill=\"#000000\" fill-rule=\"nonzero\" fill-opacity=\"1\" /><path clip-path=\"url(#clip370)\" d=\"M1785.89 1941.25 Q1782.28 1941.25 1780.45 1944.82 Q1778.65 1948.36 1778.65 1955.49 Q1778.65 1962.6 1780.45 1966.16 Q1782.28 1969.7 1785.89 1969.7 Q1789.53 1969.7 1791.33 1966.16 Q1793.16 1962.6 1793.16 1955.49 Q1793.16 1948.36 1791.33 1944.82 Q1789.53 1941.25 1785.89 1941.25 M1785.89 1937.55 Q1791.7 1937.55 1794.76 1942.16 Q1797.84 1946.74 1797.84 1955.49 Q1797.84 1964.22 1794.76 1968.82 Q1791.7 1973.41 1785.89 1973.41 Q1780.08 1973.41 1777.01 1968.82 Q1773.95 1964.22 1773.95 1955.49 Q1773.95 1946.74 1777.01 1942.16 Q1780.08 1937.55 1785.89 1937.55 Z\" fill=\"#000000\" fill-rule=\"nonzero\" fill-opacity=\"1\" /><path clip-path=\"url(#clip370)\" d=\"M1797.84 1917.25 L1815.89 1917.25 L1815.89 1918.86 L1805.7 1945.33 L1801.73 1945.33 L1811.32 1920.44 L1797.84 1920.44 L1797.84 1917.25 Z\" fill=\"#000000\" fill-rule=\"nonzero\" fill-opacity=\"1\" /><path clip-path=\"url(#clip370)\" d=\"M2352.75 1954.1 Q2356.1 1954.82 2357.98 1957.09 Q2359.88 1959.36 2359.88 1962.69 Q2359.88 1967.8 2356.36 1970.61 Q2352.84 1973.41 2346.36 1973.41 Q2344.18 1973.41 2341.87 1972.97 Q2339.57 1972.55 2337.12 1971.69 L2337.12 1967.18 Q2339.07 1968.31 2341.38 1968.89 Q2343.7 1969.47 2346.22 1969.47 Q2350.62 1969.47 2352.91 1967.74 Q2355.22 1966 2355.22 1962.69 Q2355.22 1959.63 2353.07 1957.92 Q2350.94 1956.18 2347.12 1956.18 L2343.09 1956.18 L2343.09 1952.34 L2347.31 1952.34 Q2350.76 1952.34 2352.58 1950.98 Q2354.41 1949.59 2354.41 1946.99 Q2354.41 1944.33 2352.51 1942.92 Q2350.64 1941.49 2347.12 1941.49 Q2345.2 1941.49 2343 1941.9 Q2340.8 1942.32 2338.16 1943.2 L2338.16 1939.03 Q2340.82 1938.29 2343.14 1937.92 Q2345.48 1937.55 2347.54 1937.55 Q2352.86 1937.55 2355.96 1939.98 Q2359.07 1942.39 2359.07 1946.51 Q2359.07 1949.38 2357.42 1951.37 Q2355.78 1953.34 2352.75 1954.1 Z\" fill=\"#000000\" fill-rule=\"nonzero\" fill-opacity=\"1\" /><path clip-path=\"url(#clip370)\" d=\"M2368.74 1966.86 L2373.63 1966.86 L2373.63 1972.74 L2368.74 1972.74 L2368.74 1966.86 Z\" fill=\"#000000\" fill-rule=\"nonzero\" fill-opacity=\"1\" /><path clip-path=\"url(#clip370)\" d=\"M2393.81 1941.25 Q2390.2 1941.25 2388.37 1944.82 Q2386.57 1948.36 2386.57 1955.49 Q2386.57 1962.6 2388.37 1966.16 Q2390.2 1969.7 2393.81 1969.7 Q2397.44 1969.7 2399.25 1966.16 Q2401.08 1962.6 2401.08 1955.49 Q2401.08 1948.36 2399.25 1944.82 Q2397.44 1941.25 2393.81 1941.25 M2393.81 1937.55 Q2399.62 1937.55 2402.68 1942.16 Q2405.75 1946.74 2405.75 1955.49 Q2405.75 1964.22 2402.68 1968.82 Q2399.62 1973.41 2393.81 1973.41 Q2388 1973.41 2384.92 1968.82 Q2381.87 1964.22 2381.87 1955.49 Q2381.87 1946.74 2384.92 1942.16 Q2388 1937.55 2393.81 1937.55 Z\" fill=\"#000000\" fill-rule=\"nonzero\" fill-opacity=\"1\" /><path clip-path=\"url(#clip370)\" d=\"M2442.14 1947.27 L2431.56 1957.9 L2442.14 1968.48 L2439.39 1971.28 L2428.76 1960.65 L2418.14 1971.28 L2415.41 1968.48 L2425.96 1957.9 L2415.41 1947.27 L2418.14 1944.47 L2428.76 1955.1 L2439.39 1944.47 L2442.14 1947.27 Z\" fill=\"#000000\" fill-rule=\"nonzero\" fill-opacity=\"1\" /><path clip-path=\"url(#clip370)\" d=\"M2454.5 1968.8 L2462.14 1968.8 L2462.14 1942.43 L2453.83 1944.1 L2453.83 1939.84 L2462.1 1938.18 L2466.77 1938.18 L2466.77 1968.8 L2474.41 1968.8 L2474.41 1972.74 L2454.5 1972.74 L2454.5 1968.8 Z\" fill=\"#000000\" fill-rule=\"nonzero\" fill-opacity=\"1\" /><path clip-path=\"url(#clip370)\" d=\"M2493.86 1941.25 Q2490.25 1941.25 2488.42 1944.82 Q2486.61 1948.36 2486.61 1955.49 Q2486.61 1962.6 2488.42 1966.16 Q2490.25 1969.7 2493.86 1969.7 Q2497.49 1969.7 2499.3 1966.16 Q2501.12 1962.6 2501.12 1955.49 Q2501.12 1948.36 2499.3 1944.82 Q2497.49 1941.25 2493.86 1941.25 M2493.86 1937.55 Q2499.67 1937.55 2502.72 1942.16 Q2505.8 1946.74 2505.8 1955.49 Q2505.8 1964.22 2502.72 1968.82 Q2499.67 1973.41 2493.86 1973.41 Q2488.05 1973.41 2484.97 1968.82 Q2481.91 1964.22 2481.91 1955.49 Q2481.91 1946.74 2484.97 1942.16 Q2488.05 1937.55 2493.86 1937.55 Z\" fill=\"#000000\" fill-rule=\"nonzero\" fill-opacity=\"1\" /><path clip-path=\"url(#clip370)\" d=\"M2505.8 1917.25 L2523.86 1917.25 L2523.86 1918.86 L2513.66 1945.33 L2509.69 1945.33 L2519.29 1920.44 L2505.8 1920.44 L2505.8 1917.25 Z\" fill=\"#000000\" fill-rule=\"nonzero\" fill-opacity=\"1\" /><path clip-path=\"url(#clip370)\" d=\"M3060.11 1942.25 L3048.3 1960.7 L3060.11 1960.7 L3060.11 1942.25 M3058.88 1938.18 L3064.76 1938.18 L3064.76 1960.7 L3069.69 1960.7 L3069.69 1964.59 L3064.76 1964.59 L3064.76 1972.74 L3060.11 1972.74 L3060.11 1964.59 L3044.5 1964.59 L3044.5 1960.07 L3058.88 1938.18 Z\" fill=\"#000000\" fill-rule=\"nonzero\" fill-opacity=\"1\" /><path clip-path=\"url(#clip370)\" d=\"M3077.42 1966.86 L3082.3 1966.86 L3082.3 1972.74 L3077.42 1972.74 L3077.42 1966.86 Z\" fill=\"#000000\" fill-rule=\"nonzero\" fill-opacity=\"1\" /><path clip-path=\"url(#clip370)\" d=\"M3102.49 1941.25 Q3098.88 1941.25 3097.05 1944.82 Q3095.24 1948.36 3095.24 1955.49 Q3095.24 1962.6 3097.05 1966.16 Q3098.88 1969.7 3102.49 1969.7 Q3106.12 1969.7 3107.93 1966.16 Q3109.76 1962.6 3109.76 1955.49 Q3109.76 1948.36 3107.93 1944.82 Q3106.12 1941.25 3102.49 1941.25 M3102.49 1937.55 Q3108.3 1937.55 3111.36 1942.16 Q3114.43 1946.74 3114.43 1955.49 Q3114.43 1964.22 3111.36 1968.82 Q3108.3 1973.41 3102.49 1973.41 Q3096.68 1973.41 3093.6 1968.82 Q3090.55 1964.22 3090.55 1955.49 Q3090.55 1946.74 3093.6 1942.16 Q3096.68 1937.55 3102.49 1937.55 Z\" fill=\"#000000\" fill-rule=\"nonzero\" fill-opacity=\"1\" /><path clip-path=\"url(#clip370)\" d=\"M3150.82 1947.27 L3140.24 1957.9 L3150.82 1968.48 L3148.07 1971.28 L3137.44 1960.65 L3126.82 1971.28 L3124.09 1968.48 L3134.64 1957.9 L3124.09 1947.27 L3126.82 1944.47 L3137.44 1955.1 L3148.07 1944.47 L3150.82 1947.27 Z\" fill=\"#000000\" fill-rule=\"nonzero\" fill-opacity=\"1\" /><path clip-path=\"url(#clip370)\" d=\"M3163.18 1968.8 L3170.82 1968.8 L3170.82 1942.43 L3162.51 1944.1 L3162.51 1939.84 L3170.78 1938.18 L3175.45 1938.18 L3175.45 1968.8 L3183.09 1968.8 L3183.09 1972.74 L3163.18 1972.74 L3163.18 1968.8 Z\" fill=\"#000000\" fill-rule=\"nonzero\" fill-opacity=\"1\" /><path clip-path=\"url(#clip370)\" d=\"M3202.54 1941.25 Q3198.92 1941.25 3197.1 1944.82 Q3195.29 1948.36 3195.29 1955.49 Q3195.29 1962.6 3197.1 1966.16 Q3198.92 1969.7 3202.54 1969.7 Q3206.17 1969.7 3207.98 1966.16 Q3209.8 1962.6 3209.8 1955.49 Q3209.8 1948.36 3207.98 1944.82 Q3206.17 1941.25 3202.54 1941.25 M3202.54 1937.55 Q3208.35 1937.55 3211.4 1942.16 Q3214.48 1946.74 3214.48 1955.49 Q3214.48 1964.22 3211.4 1968.82 Q3208.35 1973.41 3202.54 1973.41 Q3196.73 1973.41 3193.65 1968.82 Q3190.59 1964.22 3190.59 1955.49 Q3190.59 1946.74 3193.65 1942.16 Q3196.73 1937.55 3202.54 1937.55 Z\" fill=\"#000000\" fill-rule=\"nonzero\" fill-opacity=\"1\" /><path clip-path=\"url(#clip370)\" d=\"M3214.48 1917.25 L3232.54 1917.25 L3232.54 1918.86 L3222.34 1945.33 L3218.37 1945.33 L3227.97 1920.44 L3214.48 1920.44 L3214.48 1917.25 Z\" fill=\"#000000\" fill-rule=\"nonzero\" fill-opacity=\"1\" /><path clip-path=\"url(#clip370)\" d=\"M3754.67 1938.18 L3773.02 1938.18 L3773.02 1942.11 L3758.95 1942.11 L3758.95 1950.58 Q3759.97 1950.24 3760.98 1950.07 Q3762 1949.89 3763.02 1949.89 Q3768.81 1949.89 3772.19 1953.06 Q3775.57 1956.23 3775.57 1961.65 Q3775.57 1967.23 3772.1 1970.33 Q3768.62 1973.41 3762.3 1973.41 Q3760.13 1973.41 3757.86 1973.04 Q3755.61 1972.67 3753.21 1971.93 L3753.21 1967.23 Q3755.29 1968.36 3757.51 1968.92 Q3759.73 1969.47 3762.21 1969.47 Q3766.22 1969.47 3768.55 1967.37 Q3770.89 1965.26 3770.89 1961.65 Q3770.89 1958.04 3768.55 1955.93 Q3766.22 1953.82 3762.21 1953.82 Q3760.34 1953.82 3758.46 1954.24 Q3756.61 1954.66 3754.67 1955.54 L3754.67 1938.18 Z\" fill=\"#000000\" fill-rule=\"nonzero\" fill-opacity=\"1\" /><path clip-path=\"url(#clip370)\" d=\"M3784.78 1966.86 L3789.66 1966.86 L3789.66 1972.74 L3784.78 1972.74 L3784.78 1966.86 Z\" fill=\"#000000\" fill-rule=\"nonzero\" fill-opacity=\"1\" /><path clip-path=\"url(#clip370)\" d=\"M3809.85 1941.25 Q3806.24 1941.25 3804.41 1944.82 Q3802.6 1948.36 3802.6 1955.49 Q3802.6 1962.6 3804.41 1966.16 Q3806.24 1969.7 3809.85 1969.7 Q3813.48 1969.7 3815.29 1966.16 Q3817.12 1962.6 3817.12 1955.49 Q3817.12 1948.36 3815.29 1944.82 Q3813.48 1941.25 3809.85 1941.25 M3809.85 1937.55 Q3815.66 1937.55 3818.72 1942.16 Q3821.79 1946.74 3821.79 1955.49 Q3821.79 1964.22 3818.72 1968.82 Q3815.66 1973.41 3809.85 1973.41 Q3804.04 1973.41 3800.96 1968.82 Q3797.91 1964.22 3797.91 1955.49 Q3797.91 1946.74 3800.96 1942.16 Q3804.04 1937.55 3809.85 1937.55 Z\" fill=\"#000000\" fill-rule=\"nonzero\" fill-opacity=\"1\" /><path clip-path=\"url(#clip370)\" d=\"M3858.18 1947.27 L3847.6 1957.9 L3858.18 1968.48 L3855.43 1971.28 L3844.8 1960.65 L3834.18 1971.28 L3831.45 1968.48 L3842 1957.9 L3831.45 1947.27 L3834.18 1944.47 L3844.8 1955.1 L3855.43 1944.47 L3858.18 1947.27 Z\" fill=\"#000000\" fill-rule=\"nonzero\" fill-opacity=\"1\" /><path clip-path=\"url(#clip370)\" d=\"M3870.54 1968.8 L3878.18 1968.8 L3878.18 1942.43 L3869.87 1944.1 L3869.87 1939.84 L3878.14 1938.18 L3882.81 1938.18 L3882.81 1968.8 L3890.45 1968.8 L3890.45 1972.74 L3870.54 1972.74 L3870.54 1968.8 Z\" fill=\"#000000\" fill-rule=\"nonzero\" fill-opacity=\"1\" /><path clip-path=\"url(#clip370)\" d=\"M3909.9 1941.25 Q3906.28 1941.25 3904.46 1944.82 Q3902.65 1948.36 3902.65 1955.49 Q3902.65 1962.6 3904.46 1966.16 Q3906.28 1969.7 3909.9 1969.7 Q3913.53 1969.7 3915.34 1966.16 Q3917.16 1962.6 3917.16 1955.49 Q3917.16 1948.36 3915.34 1944.82 Q3913.53 1941.25 3909.9 1941.25 M3909.9 1937.55 Q3915.71 1937.55 3918.76 1942.16 Q3921.84 1946.74 3921.84 1955.49 Q3921.84 1964.22 3918.76 1968.82 Q3915.71 1973.41 3909.9 1973.41 Q3904.09 1973.41 3901.01 1968.82 Q3897.95 1964.22 3897.95 1955.49 Q3897.95 1946.74 3901.01 1942.16 Q3904.09 1937.55 3909.9 1937.55 Z\" fill=\"#000000\" fill-rule=\"nonzero\" fill-opacity=\"1\" /><path clip-path=\"url(#clip370)\" d=\"M3921.84 1917.25 L3939.9 1917.25 L3939.9 1918.86 L3929.7 1945.33 L3925.73 1945.33 L3935.33 1920.44 L3921.84 1920.44 L3921.84 1917.25 Z\" fill=\"#000000\" fill-rule=\"nonzero\" fill-opacity=\"1\" /><polyline clip-path=\"url(#clip372)\" style=\"stroke:#000000; stroke-linecap:round; stroke-linejoin:round; stroke-width:2; stroke-opacity:0.1; fill:none\" points=\"200.191,1829.95 3952.76,1829.95 \"/>\n",
       "<polyline clip-path=\"url(#clip372)\" style=\"stroke:#000000; stroke-linecap:round; stroke-linejoin:round; stroke-width:2; stroke-opacity:0.1; fill:none\" points=\"200.191,1447.57 3952.76,1447.57 \"/>\n",
       "<polyline clip-path=\"url(#clip372)\" style=\"stroke:#000000; stroke-linecap:round; stroke-linejoin:round; stroke-width:2; stroke-opacity:0.1; fill:none\" points=\"200.191,1065.18 3952.76,1065.18 \"/>\n",
       "<polyline clip-path=\"url(#clip372)\" style=\"stroke:#000000; stroke-linecap:round; stroke-linejoin:round; stroke-width:2; stroke-opacity:0.1; fill:none\" points=\"200.191,682.793 3952.76,682.793 \"/>\n",
       "<polyline clip-path=\"url(#clip372)\" style=\"stroke:#000000; stroke-linecap:round; stroke-linejoin:round; stroke-width:2; stroke-opacity:0.1; fill:none\" points=\"200.191,300.407 3952.76,300.407 \"/>\n",
       "<polyline clip-path=\"url(#clip370)\" style=\"stroke:#000000; stroke-linecap:round; stroke-linejoin:round; stroke-width:4; stroke-opacity:1; fill:none\" points=\"200.191,1881.88 200.191,47.2441 \"/>\n",
       "<polyline clip-path=\"url(#clip370)\" style=\"stroke:#000000; stroke-linecap:round; stroke-linejoin:round; stroke-width:4; stroke-opacity:1; fill:none\" points=\"200.191,1829.95 219.088,1829.95 \"/>\n",
       "<polyline clip-path=\"url(#clip370)\" style=\"stroke:#000000; stroke-linecap:round; stroke-linejoin:round; stroke-width:4; stroke-opacity:1; fill:none\" points=\"200.191,1447.57 219.088,1447.57 \"/>\n",
       "<polyline clip-path=\"url(#clip370)\" style=\"stroke:#000000; stroke-linecap:round; stroke-linejoin:round; stroke-width:4; stroke-opacity:1; fill:none\" points=\"200.191,1065.18 219.088,1065.18 \"/>\n",
       "<polyline clip-path=\"url(#clip370)\" style=\"stroke:#000000; stroke-linecap:round; stroke-linejoin:round; stroke-width:4; stroke-opacity:1; fill:none\" points=\"200.191,682.793 219.088,682.793 \"/>\n",
       "<polyline clip-path=\"url(#clip370)\" style=\"stroke:#000000; stroke-linecap:round; stroke-linejoin:round; stroke-width:4; stroke-opacity:1; fill:none\" points=\"200.191,300.407 219.088,300.407 \"/>\n",
       "<path clip-path=\"url(#clip370)\" d=\"M83.0151 1815.75 Q79.404 1815.75 77.5753 1819.32 Q75.7697 1822.86 75.7697 1829.99 Q75.7697 1837.09 77.5753 1840.66 Q79.404 1844.2 83.0151 1844.2 Q86.6493 1844.2 88.4548 1840.66 Q90.2835 1837.09 90.2835 1829.99 Q90.2835 1822.86 88.4548 1819.32 Q86.6493 1815.75 83.0151 1815.75 M83.0151 1812.05 Q88.8252 1812.05 91.8808 1816.65 Q94.9594 1821.24 94.9594 1829.99 Q94.9594 1838.71 91.8808 1843.32 Q88.8252 1847.9 83.0151 1847.9 Q77.2049 1847.9 74.1262 1843.32 Q71.0707 1838.71 71.0707 1829.99 Q71.0707 1821.24 74.1262 1816.65 Q77.2049 1812.05 83.0151 1812.05 Z\" fill=\"#000000\" fill-rule=\"nonzero\" fill-opacity=\"1\" /><path clip-path=\"url(#clip370)\" d=\"M103.177 1841.35 L108.061 1841.35 L108.061 1847.23 L103.177 1847.23 L103.177 1841.35 Z\" fill=\"#000000\" fill-rule=\"nonzero\" fill-opacity=\"1\" /><path clip-path=\"url(#clip370)\" d=\"M128.246 1815.75 Q124.635 1815.75 122.807 1819.32 Q121.001 1822.86 121.001 1829.99 Q121.001 1837.09 122.807 1840.66 Q124.635 1844.2 128.246 1844.2 Q131.881 1844.2 133.686 1840.66 Q135.515 1837.09 135.515 1829.99 Q135.515 1822.86 133.686 1819.32 Q131.881 1815.75 128.246 1815.75 M128.246 1812.05 Q134.056 1812.05 137.112 1816.65 Q140.191 1821.24 140.191 1829.99 Q140.191 1838.71 137.112 1843.32 Q134.056 1847.9 128.246 1847.9 Q122.436 1847.9 119.357 1843.32 Q116.302 1838.71 116.302 1829.99 Q116.302 1821.24 119.357 1816.65 Q122.436 1812.05 128.246 1812.05 Z\" fill=\"#000000\" fill-rule=\"nonzero\" fill-opacity=\"1\" /><path clip-path=\"url(#clip370)\" d=\"M78.0382 1460.91 L94.3576 1460.91 L94.3576 1464.85 L72.4133 1464.85 L72.4133 1460.91 Q75.0753 1458.16 79.6586 1453.53 Q84.2651 1448.87 85.4456 1447.53 Q87.691 1445.01 88.5706 1443.27 Q89.4734 1441.51 89.4734 1439.82 Q89.4734 1437.07 87.5289 1435.33 Q85.6076 1433.6 82.5058 1433.6 Q80.3067 1433.6 77.8531 1434.36 Q75.4225 1435.12 72.6447 1436.67 L72.6447 1431.95 Q75.4688 1430.82 77.9225 1430.24 Q80.3762 1429.66 82.4132 1429.66 Q87.7836 1429.66 90.978 1432.35 Q94.1724 1435.03 94.1724 1439.52 Q94.1724 1441.65 93.3622 1443.57 Q92.5752 1445.47 90.4687 1448.06 Q89.89 1448.73 86.7882 1451.95 Q83.6864 1455.15 78.0382 1460.91 Z\" fill=\"#000000\" fill-rule=\"nonzero\" fill-opacity=\"1\" /><path clip-path=\"url(#clip370)\" d=\"M104.172 1458.97 L109.057 1458.97 L109.057 1464.85 L104.172 1464.85 L104.172 1458.97 Z\" fill=\"#000000\" fill-rule=\"nonzero\" fill-opacity=\"1\" /><path clip-path=\"url(#clip370)\" d=\"M119.288 1430.29 L137.644 1430.29 L137.644 1434.22 L123.57 1434.22 L123.57 1442.69 Q124.589 1442.35 125.607 1442.18 Q126.626 1442 127.644 1442 Q133.431 1442 136.811 1445.17 Q140.191 1448.34 140.191 1453.76 Q140.191 1459.34 136.718 1462.44 Q133.246 1465.52 126.927 1465.52 Q124.751 1465.52 122.482 1465.15 Q120.237 1464.78 117.83 1464.04 L117.83 1459.34 Q119.913 1460.47 122.135 1461.03 Q124.357 1461.58 126.834 1461.58 Q130.839 1461.58 133.177 1459.48 Q135.515 1457.37 135.515 1453.76 Q135.515 1450.15 133.177 1448.04 Q130.839 1445.93 126.834 1445.93 Q124.959 1445.93 123.084 1446.35 Q121.232 1446.77 119.288 1447.65 L119.288 1430.29 Z\" fill=\"#000000\" fill-rule=\"nonzero\" fill-opacity=\"1\" /><path clip-path=\"url(#clip370)\" d=\"M73.0614 1047.9 L91.4178 1047.9 L91.4178 1051.83 L77.3438 1051.83 L77.3438 1060.31 Q78.3623 1059.96 79.3808 1059.8 Q80.3993 1059.61 81.4178 1059.61 Q87.2049 1059.61 90.5845 1062.78 Q93.9641 1065.96 93.9641 1071.37 Q93.9641 1076.95 90.4919 1080.05 Q87.0197 1083.13 80.7003 1083.13 Q78.5243 1083.13 76.2558 1082.76 Q74.0105 1082.39 71.6031 1081.65 L71.6031 1076.95 Q73.6864 1078.08 75.9086 1078.64 Q78.1308 1079.2 80.6077 1079.2 Q84.6123 1079.2 86.9502 1077.09 Q89.2882 1074.98 89.2882 1071.37 Q89.2882 1067.76 86.9502 1065.65 Q84.6123 1063.55 80.6077 1063.55 Q78.7327 1063.55 76.8577 1063.96 Q75.0058 1064.38 73.0614 1065.26 L73.0614 1047.9 Z\" fill=\"#000000\" fill-rule=\"nonzero\" fill-opacity=\"1\" /><path clip-path=\"url(#clip370)\" d=\"M103.177 1076.58 L108.061 1076.58 L108.061 1082.46 L103.177 1082.46 L103.177 1076.58 Z\" fill=\"#000000\" fill-rule=\"nonzero\" fill-opacity=\"1\" /><path clip-path=\"url(#clip370)\" d=\"M128.246 1050.98 Q124.635 1050.98 122.807 1054.54 Q121.001 1058.08 121.001 1065.21 Q121.001 1072.32 122.807 1075.89 Q124.635 1079.43 128.246 1079.43 Q131.881 1079.43 133.686 1075.89 Q135.515 1072.32 135.515 1065.21 Q135.515 1058.08 133.686 1054.54 Q131.881 1050.98 128.246 1050.98 M128.246 1047.27 Q134.056 1047.27 137.112 1051.88 Q140.191 1056.46 140.191 1065.21 Q140.191 1073.94 137.112 1078.55 Q134.056 1083.13 128.246 1083.13 Q122.436 1083.13 119.357 1078.55 Q116.302 1073.94 116.302 1065.21 Q116.302 1056.46 119.357 1051.88 Q122.436 1047.27 128.246 1047.27 Z\" fill=\"#000000\" fill-rule=\"nonzero\" fill-opacity=\"1\" /><path clip-path=\"url(#clip370)\" d=\"M72.8299 665.513 L95.052 665.513 L95.052 667.504 L82.5058 700.073 L77.6216 700.073 L89.4271 669.449 L72.8299 669.449 L72.8299 665.513 Z\" fill=\"#000000\" fill-rule=\"nonzero\" fill-opacity=\"1\" /><path clip-path=\"url(#clip370)\" d=\"M104.172 694.194 L109.057 694.194 L109.057 700.073 L104.172 700.073 L104.172 694.194 Z\" fill=\"#000000\" fill-rule=\"nonzero\" fill-opacity=\"1\" /><path clip-path=\"url(#clip370)\" d=\"M119.288 665.513 L137.644 665.513 L137.644 669.449 L123.57 669.449 L123.57 677.921 Q124.589 677.574 125.607 677.411 Q126.626 677.226 127.644 677.226 Q133.431 677.226 136.811 680.398 Q140.191 683.569 140.191 688.986 Q140.191 694.564 136.718 697.666 Q133.246 700.745 126.927 700.745 Q124.751 700.745 122.482 700.374 Q120.237 700.004 117.83 699.263 L117.83 694.564 Q119.913 695.698 122.135 696.254 Q124.357 696.81 126.834 696.81 Q130.839 696.81 133.177 694.703 Q135.515 692.597 135.515 688.986 Q135.515 685.374 133.177 683.268 Q130.839 681.161 126.834 681.161 Q124.959 681.161 123.084 681.578 Q121.232 681.995 119.288 682.874 L119.288 665.513 Z\" fill=\"#000000\" fill-rule=\"nonzero\" fill-opacity=\"1\" /><path clip-path=\"url(#clip370)\" d=\"M43.6634 313.752 L51.3023 313.752 L51.3023 287.386 L42.9921 289.053 L42.9921 284.794 L51.256 283.127 L55.9319 283.127 L55.9319 313.752 L63.5707 313.752 L63.5707 317.687 L43.6634 317.687 L43.6634 313.752 Z\" fill=\"#000000\" fill-rule=\"nonzero\" fill-opacity=\"1\" /><path clip-path=\"url(#clip370)\" d=\"M83.0151 286.206 Q79.404 286.206 77.5753 289.771 Q75.7697 293.312 75.7697 300.442 Q75.7697 307.548 77.5753 311.113 Q79.404 314.655 83.0151 314.655 Q86.6493 314.655 88.4548 311.113 Q90.2835 307.548 90.2835 300.442 Q90.2835 293.312 88.4548 289.771 Q86.6493 286.206 83.0151 286.206 M83.0151 282.502 Q88.8252 282.502 91.8808 287.109 Q94.9594 291.692 94.9594 300.442 Q94.9594 309.169 91.8808 313.775 Q88.8252 318.358 83.0151 318.358 Q77.2049 318.358 74.1262 313.775 Q71.0707 309.169 71.0707 300.442 Q71.0707 291.692 74.1262 287.109 Q77.2049 282.502 83.0151 282.502 Z\" fill=\"#000000\" fill-rule=\"nonzero\" fill-opacity=\"1\" /><path clip-path=\"url(#clip370)\" d=\"M103.177 311.808 L108.061 311.808 L108.061 317.687 L103.177 317.687 L103.177 311.808 Z\" fill=\"#000000\" fill-rule=\"nonzero\" fill-opacity=\"1\" /><path clip-path=\"url(#clip370)\" d=\"M128.246 286.206 Q124.635 286.206 122.807 289.771 Q121.001 293.312 121.001 300.442 Q121.001 307.548 122.807 311.113 Q124.635 314.655 128.246 314.655 Q131.881 314.655 133.686 311.113 Q135.515 307.548 135.515 300.442 Q135.515 293.312 133.686 289.771 Q131.881 286.206 128.246 286.206 M128.246 282.502 Q134.056 282.502 137.112 287.109 Q140.191 291.692 140.191 300.442 Q140.191 309.169 137.112 313.775 Q134.056 318.358 128.246 318.358 Q122.436 318.358 119.357 313.775 Q116.302 309.169 116.302 300.442 Q116.302 291.692 119.357 287.109 Q122.436 282.502 128.246 282.502 Z\" fill=\"#000000\" fill-rule=\"nonzero\" fill-opacity=\"1\" /><polyline clip-path=\"url(#clip372)\" style=\"stroke:#009af9; stroke-linecap:round; stroke-linejoin:round; stroke-width:4; stroke-opacity:1; fill:none\" points=\"306.395,1829.95 306.402,1829.95 306.465,1829.95 307.103,1829.92 313.475,1829.48 377.198,1821.71 1014.43,1650.43 3846.55,99.1676 \"/>\n",
       "<circle clip-path=\"url(#clip372)\" cx=\"306.395\" cy=\"1829.95\" r=\"14.4\" fill=\"#e26f46\" fill-rule=\"evenodd\" fill-opacity=\"1\" stroke=\"#000000\" stroke-opacity=\"1\" stroke-width=\"4\"/>\n",
       "<circle clip-path=\"url(#clip372)\" cx=\"306.402\" cy=\"1829.95\" r=\"14.4\" fill=\"#e26f46\" fill-rule=\"evenodd\" fill-opacity=\"1\" stroke=\"#000000\" stroke-opacity=\"1\" stroke-width=\"4\"/>\n",
       "<circle clip-path=\"url(#clip372)\" cx=\"306.465\" cy=\"1829.95\" r=\"14.4\" fill=\"#e26f46\" fill-rule=\"evenodd\" fill-opacity=\"1\" stroke=\"#000000\" stroke-opacity=\"1\" stroke-width=\"4\"/>\n",
       "<circle clip-path=\"url(#clip372)\" cx=\"307.103\" cy=\"1829.92\" r=\"14.4\" fill=\"#e26f46\" fill-rule=\"evenodd\" fill-opacity=\"1\" stroke=\"#000000\" stroke-opacity=\"1\" stroke-width=\"4\"/>\n",
       "<circle clip-path=\"url(#clip372)\" cx=\"313.475\" cy=\"1829.48\" r=\"14.4\" fill=\"#e26f46\" fill-rule=\"evenodd\" fill-opacity=\"1\" stroke=\"#000000\" stroke-opacity=\"1\" stroke-width=\"4\"/>\n",
       "<circle clip-path=\"url(#clip372)\" cx=\"377.198\" cy=\"1821.71\" r=\"14.4\" fill=\"#e26f46\" fill-rule=\"evenodd\" fill-opacity=\"1\" stroke=\"#000000\" stroke-opacity=\"1\" stroke-width=\"4\"/>\n",
       "<circle clip-path=\"url(#clip372)\" cx=\"1014.43\" cy=\"1650.43\" r=\"14.4\" fill=\"#e26f46\" fill-rule=\"evenodd\" fill-opacity=\"1\" stroke=\"#000000\" stroke-opacity=\"1\" stroke-width=\"4\"/>\n",
       "<circle clip-path=\"url(#clip372)\" cx=\"3846.55\" cy=\"99.1676\" r=\"14.4\" fill=\"#e26f46\" fill-rule=\"evenodd\" fill-opacity=\"1\" stroke=\"#000000\" stroke-opacity=\"1\" stroke-width=\"4\"/>\n",
       "<path clip-path=\"url(#clip370)\" d=\"M325.276 263.918 L752.963 263.918 L752.963 108.398 L325.276 108.398  Z\" fill=\"#ffffff\" fill-rule=\"evenodd\" fill-opacity=\"1\"/>\n",
       "<polyline clip-path=\"url(#clip370)\" style=\"stroke:#000000; stroke-linecap:round; stroke-linejoin:round; stroke-width:4; stroke-opacity:1; fill:none\" points=\"325.276,263.918 752.963,263.918 752.963,108.398 325.276,108.398 325.276,263.918 \"/>\n",
       "<polyline clip-path=\"url(#clip370)\" style=\"stroke:#009af9; stroke-linecap:round; stroke-linejoin:round; stroke-width:4; stroke-opacity:1; fill:none\" points=\"366.971,160.238 617.142,160.238 \"/>\n",
       "<path clip-path=\"url(#clip370)\" d=\"M672.68 179.926 Q670.875 184.555 669.162 185.968 Q667.449 187.38 664.578 187.38 L661.175 187.38 L661.175 183.815 L663.675 183.815 Q665.435 183.815 666.407 182.981 Q667.379 182.148 668.56 179.046 L669.324 177.102 L658.838 151.593 L663.351 151.593 L671.453 171.87 L679.555 151.593 L684.069 151.593 L672.68 179.926 Z\" fill=\"#000000\" fill-rule=\"nonzero\" fill-opacity=\"1\" /><path clip-path=\"url(#clip370)\" d=\"M691.361 173.583 L698.999 173.583 L698.999 147.218 L690.689 148.884 L690.689 144.625 L698.953 142.958 L703.629 142.958 L703.629 173.583 L711.268 173.583 L711.268 177.518 L691.361 177.518 L691.361 173.583 Z\" fill=\"#000000\" fill-rule=\"nonzero\" fill-opacity=\"1\" /><circle clip-path=\"url(#clip370)\" cx=\"492.057\" cy=\"212.078\" r=\"20.48\" fill=\"#e26f46\" fill-rule=\"evenodd\" fill-opacity=\"1\" stroke=\"#000000\" stroke-opacity=\"1\" stroke-width=\"5.68889\"/>\n",
       "<path clip-path=\"url(#clip370)\" d=\"M672.68 231.766 Q670.875 236.395 669.162 237.808 Q667.449 239.22 664.578 239.22 L661.175 239.22 L661.175 235.655 L663.675 235.655 Q665.435 235.655 666.407 234.821 Q667.379 233.988 668.56 230.886 L669.324 228.942 L658.838 203.433 L663.351 203.433 L671.453 223.71 L679.555 203.433 L684.069 203.433 L672.68 231.766 Z\" fill=\"#000000\" fill-rule=\"nonzero\" fill-opacity=\"1\" /><path clip-path=\"url(#clip370)\" d=\"M694.578 225.423 L710.897 225.423 L710.897 229.358 L688.953 229.358 L688.953 225.423 Q691.615 222.669 696.198 218.039 Q700.805 213.386 701.985 212.044 Q704.231 209.521 705.11 207.785 Q706.013 206.025 706.013 204.335 Q706.013 201.581 704.069 199.845 Q702.147 198.109 699.046 198.109 Q696.847 198.109 694.393 198.873 Q691.962 199.636 689.185 201.187 L689.185 196.465 Q692.009 195.331 694.462 194.752 Q696.916 194.173 698.953 194.173 Q704.323 194.173 707.518 196.859 Q710.712 199.544 710.712 204.035 Q710.712 206.164 709.902 208.085 Q709.115 209.984 707.009 212.576 Q706.43 213.247 703.328 216.465 Q700.226 219.659 694.578 225.423 Z\" fill=\"#000000\" fill-rule=\"nonzero\" fill-opacity=\"1\" /></svg>\n"
      ],
      "text/html": [
       "<?xml version=\"1.0\" encoding=\"utf-8\"?>\n",
       "<svg xmlns=\"http://www.w3.org/2000/svg\" xmlns:xlink=\"http://www.w3.org/1999/xlink\" width=\"1000\" height=\"500\" viewBox=\"0 0 4000 2000\">\n",
       "<defs>\n",
       "  <clipPath id=\"clip420\">\n",
       "    <rect x=\"0\" y=\"0\" width=\"4000\" height=\"2000\"/>\n",
       "  </clipPath>\n",
       "</defs>\n",
       "<path clip-path=\"url(#clip420)\" d=\"M0 2000 L4000 2000 L4000 0 L0 0  Z\" fill=\"#ffffff\" fill-rule=\"evenodd\" fill-opacity=\"1\"/>\n",
       "<defs>\n",
       "  <clipPath id=\"clip421\">\n",
       "    <rect x=\"800\" y=\"0\" width=\"2801\" height=\"2000\"/>\n",
       "  </clipPath>\n",
       "</defs>\n",
       "<path clip-path=\"url(#clip420)\" d=\"M200.191 1881.88 L3952.76 1881.88 L3952.76 47.2441 L200.191 47.2441  Z\" fill=\"#ffffff\" fill-rule=\"evenodd\" fill-opacity=\"1\"/>\n",
       "<defs>\n",
       "  <clipPath id=\"clip422\">\n",
       "    <rect x=\"200\" y=\"47\" width=\"3754\" height=\"1836\"/>\n",
       "  </clipPath>\n",
       "</defs>\n",
       "<polyline clip-path=\"url(#clip422)\" style=\"stroke:#000000; stroke-linecap:round; stroke-linejoin:round; stroke-width:2; stroke-opacity:0.1; fill:none\" points=\"306.395,1881.88 306.395,47.2441 \"/>\n",
       "<polyline clip-path=\"url(#clip422)\" style=\"stroke:#000000; stroke-linecap:round; stroke-linejoin:round; stroke-width:2; stroke-opacity:0.1; fill:none\" points=\"1014.43,1881.88 1014.43,47.2441 \"/>\n",
       "<polyline clip-path=\"url(#clip422)\" style=\"stroke:#000000; stroke-linecap:round; stroke-linejoin:round; stroke-width:2; stroke-opacity:0.1; fill:none\" points=\"1722.46,1881.88 1722.46,47.2441 \"/>\n",
       "<polyline clip-path=\"url(#clip422)\" style=\"stroke:#000000; stroke-linecap:round; stroke-linejoin:round; stroke-width:2; stroke-opacity:0.1; fill:none\" points=\"2430.49,1881.88 2430.49,47.2441 \"/>\n",
       "<polyline clip-path=\"url(#clip422)\" style=\"stroke:#000000; stroke-linecap:round; stroke-linejoin:round; stroke-width:2; stroke-opacity:0.1; fill:none\" points=\"3138.52,1881.88 3138.52,47.2441 \"/>\n",
       "<polyline clip-path=\"url(#clip422)\" style=\"stroke:#000000; stroke-linecap:round; stroke-linejoin:round; stroke-width:2; stroke-opacity:0.1; fill:none\" points=\"3846.55,1881.88 3846.55,47.2441 \"/>\n",
       "<polyline clip-path=\"url(#clip420)\" style=\"stroke:#000000; stroke-linecap:round; stroke-linejoin:round; stroke-width:4; stroke-opacity:1; fill:none\" points=\"200.191,1881.88 3952.76,1881.88 \"/>\n",
       "<polyline clip-path=\"url(#clip420)\" style=\"stroke:#000000; stroke-linecap:round; stroke-linejoin:round; stroke-width:4; stroke-opacity:1; fill:none\" points=\"306.395,1881.88 306.395,1862.98 \"/>\n",
       "<polyline clip-path=\"url(#clip420)\" style=\"stroke:#000000; stroke-linecap:round; stroke-linejoin:round; stroke-width:4; stroke-opacity:1; fill:none\" points=\"1014.43,1881.88 1014.43,1862.98 \"/>\n",
       "<polyline clip-path=\"url(#clip420)\" style=\"stroke:#000000; stroke-linecap:round; stroke-linejoin:round; stroke-width:4; stroke-opacity:1; fill:none\" points=\"1722.46,1881.88 1722.46,1862.98 \"/>\n",
       "<polyline clip-path=\"url(#clip420)\" style=\"stroke:#000000; stroke-linecap:round; stroke-linejoin:round; stroke-width:4; stroke-opacity:1; fill:none\" points=\"2430.49,1881.88 2430.49,1862.98 \"/>\n",
       "<polyline clip-path=\"url(#clip420)\" style=\"stroke:#000000; stroke-linecap:round; stroke-linejoin:round; stroke-width:4; stroke-opacity:1; fill:none\" points=\"3138.52,1881.88 3138.52,1862.98 \"/>\n",
       "<polyline clip-path=\"url(#clip420)\" style=\"stroke:#000000; stroke-linecap:round; stroke-linejoin:round; stroke-width:4; stroke-opacity:1; fill:none\" points=\"3846.55,1881.88 3846.55,1862.98 \"/>\n",
       "<path clip-path=\"url(#clip420)\" d=\"M306.395 1925.59 Q302.784 1925.59 300.955 1929.16 Q299.149 1932.7 299.149 1939.83 Q299.149 1946.94 300.955 1950.5 Q302.784 1954.04 306.395 1954.04 Q310.029 1954.04 311.834 1950.5 Q313.663 1946.94 313.663 1939.83 Q313.663 1932.7 311.834 1929.16 Q310.029 1925.59 306.395 1925.59 M306.395 1921.89 Q312.205 1921.89 315.26 1926.5 Q318.339 1931.08 318.339 1939.83 Q318.339 1948.56 315.26 1953.16 Q312.205 1957.75 306.395 1957.75 Q300.584 1957.75 297.506 1953.16 Q294.45 1948.56 294.45 1939.83 Q294.45 1931.08 297.506 1926.5 Q300.584 1921.89 306.395 1921.89 Z\" fill=\"#000000\" fill-rule=\"nonzero\" fill-opacity=\"1\" /><path clip-path=\"url(#clip420)\" d=\"M922.528 1968.8 L930.167 1968.8 L930.167 1942.43 L921.857 1944.1 L921.857 1939.84 L930.121 1938.18 L934.797 1938.18 L934.797 1968.8 L942.436 1968.8 L942.436 1972.74 L922.528 1972.74 L922.528 1968.8 Z\" fill=\"#000000\" fill-rule=\"nonzero\" fill-opacity=\"1\" /><path clip-path=\"url(#clip420)\" d=\"M951.88 1966.86 L956.764 1966.86 L956.764 1972.74 L951.88 1972.74 L951.88 1966.86 Z\" fill=\"#000000\" fill-rule=\"nonzero\" fill-opacity=\"1\" /><path clip-path=\"url(#clip420)\" d=\"M976.949 1941.25 Q973.338 1941.25 971.51 1944.82 Q969.704 1948.36 969.704 1955.49 Q969.704 1962.6 971.51 1966.16 Q973.338 1969.7 976.949 1969.7 Q980.584 1969.7 982.389 1966.16 Q984.218 1962.6 984.218 1955.49 Q984.218 1948.36 982.389 1944.82 Q980.584 1941.25 976.949 1941.25 M976.949 1937.55 Q982.759 1937.55 985.815 1942.16 Q988.894 1946.74 988.894 1955.49 Q988.894 1964.22 985.815 1968.82 Q982.759 1973.41 976.949 1973.41 Q971.139 1973.41 968.06 1968.82 Q965.005 1964.22 965.005 1955.49 Q965.005 1946.74 968.06 1942.16 Q971.139 1937.55 976.949 1937.55 Z\" fill=\"#000000\" fill-rule=\"nonzero\" fill-opacity=\"1\" /><path clip-path=\"url(#clip420)\" d=\"M1025.28 1947.27 L1014.7 1957.9 L1025.28 1968.48 L1022.53 1971.28 L1011.9 1960.65 L1001.28 1971.28 L998.546 1968.48 L1009.1 1957.9 L998.546 1947.27 L1001.28 1944.47 L1011.9 1955.1 L1022.53 1944.47 L1025.28 1947.27 Z\" fill=\"#000000\" fill-rule=\"nonzero\" fill-opacity=\"1\" /><path clip-path=\"url(#clip420)\" d=\"M1037.64 1968.8 L1045.28 1968.8 L1045.28 1942.43 L1036.97 1944.1 L1036.97 1939.84 L1045.24 1938.18 L1049.91 1938.18 L1049.91 1968.8 L1057.55 1968.8 L1057.55 1972.74 L1037.64 1972.74 L1037.64 1968.8 Z\" fill=\"#000000\" fill-rule=\"nonzero\" fill-opacity=\"1\" /><path clip-path=\"url(#clip420)\" d=\"M1077 1941.25 Q1073.38 1941.25 1071.56 1944.82 Q1069.75 1948.36 1069.75 1955.49 Q1069.75 1962.6 1071.56 1966.16 Q1073.38 1969.7 1077 1969.7 Q1080.63 1969.7 1082.43 1966.16 Q1084.26 1962.6 1084.26 1955.49 Q1084.26 1948.36 1082.43 1944.82 Q1080.63 1941.25 1077 1941.25 M1077 1937.55 Q1082.81 1937.55 1085.86 1942.16 Q1088.94 1946.74 1088.94 1955.49 Q1088.94 1964.22 1085.86 1968.82 Q1082.81 1973.41 1077 1973.41 Q1071.18 1973.41 1068.11 1968.82 Q1065.05 1964.22 1065.05 1955.49 Q1065.05 1946.74 1068.11 1942.16 Q1071.18 1937.55 1077 1937.55 Z\" fill=\"#000000\" fill-rule=\"nonzero\" fill-opacity=\"1\" /><path clip-path=\"url(#clip420)\" d=\"M1088.94 1917.25 L1106.99 1917.25 L1106.99 1918.86 L1096.8 1945.33 L1092.83 1945.33 L1102.42 1920.44 L1088.94 1920.44 L1088.94 1917.25 Z\" fill=\"#000000\" fill-rule=\"nonzero\" fill-opacity=\"1\" /><path clip-path=\"url(#clip420)\" d=\"M1634.65 1968.8 L1650.96 1968.8 L1650.96 1972.74 L1629.02 1972.74 L1629.02 1968.8 Q1631.68 1966.05 1636.27 1961.42 Q1640.87 1956.76 1642.05 1955.42 Q1644.3 1952.9 1645.18 1951.16 Q1646.08 1949.4 1646.08 1947.71 Q1646.08 1944.96 1644.14 1943.22 Q1642.21 1941.49 1639.11 1941.49 Q1636.91 1941.49 1634.46 1942.25 Q1632.03 1943.01 1629.25 1944.56 L1629.25 1939.84 Q1632.08 1938.71 1634.53 1938.13 Q1636.98 1937.55 1639.02 1937.55 Q1644.39 1937.55 1647.58 1940.24 Q1650.78 1942.92 1650.78 1947.41 Q1650.78 1949.54 1649.97 1951.46 Q1649.18 1953.36 1647.08 1955.95 Q1646.5 1956.62 1643.4 1959.84 Q1640.29 1963.04 1634.65 1968.8 Z\" fill=\"#000000\" fill-rule=\"nonzero\" fill-opacity=\"1\" /><path clip-path=\"url(#clip420)\" d=\"M1660.78 1966.86 L1665.66 1966.86 L1665.66 1972.74 L1660.78 1972.74 L1660.78 1966.86 Z\" fill=\"#000000\" fill-rule=\"nonzero\" fill-opacity=\"1\" /><path clip-path=\"url(#clip420)\" d=\"M1685.85 1941.25 Q1682.24 1941.25 1680.41 1944.82 Q1678.6 1948.36 1678.6 1955.49 Q1678.6 1962.6 1680.41 1966.16 Q1682.24 1969.7 1685.85 1969.7 Q1689.48 1969.7 1691.29 1966.16 Q1693.12 1962.6 1693.12 1955.49 Q1693.12 1948.36 1691.29 1944.82 Q1689.48 1941.25 1685.85 1941.25 M1685.85 1937.55 Q1691.66 1937.55 1694.71 1942.16 Q1697.79 1946.74 1697.79 1955.49 Q1697.79 1964.22 1694.71 1968.82 Q1691.66 1973.41 1685.85 1973.41 Q1680.04 1973.41 1676.96 1968.82 Q1673.9 1964.22 1673.9 1955.49 Q1673.9 1946.74 1676.96 1942.16 Q1680.04 1937.55 1685.85 1937.55 Z\" fill=\"#000000\" fill-rule=\"nonzero\" fill-opacity=\"1\" /><path clip-path=\"url(#clip420)\" d=\"M1734.18 1947.27 L1723.6 1957.9 L1734.18 1968.48 L1731.43 1971.28 L1720.8 1960.65 L1710.18 1971.28 L1707.45 1968.48 L1718 1957.9 L1707.45 1947.27 L1710.18 1944.47 L1720.8 1955.1 L1731.43 1944.47 L1734.18 1947.27 Z\" fill=\"#000000\" fill-rule=\"nonzero\" fill-opacity=\"1\" /><path clip-path=\"url(#clip420)\" d=\"M1746.54 1968.8 L1754.18 1968.8 L1754.18 1942.43 L1745.87 1944.1 L1745.87 1939.84 L1754.14 1938.18 L1758.81 1938.18 L1758.81 1968.8 L1766.45 1968.8 L1766.45 1972.74 L1746.54 1972.74 L1746.54 1968.8 Z\" fill=\"#000000\" fill-rule=\"nonzero\" fill-opacity=\"1\" /><path clip-path=\"url(#clip420)\" d=\"M1785.89 1941.25 Q1782.28 1941.25 1780.45 1944.82 Q1778.65 1948.36 1778.65 1955.49 Q1778.65 1962.6 1780.45 1966.16 Q1782.28 1969.7 1785.89 1969.7 Q1789.53 1969.7 1791.33 1966.16 Q1793.16 1962.6 1793.16 1955.49 Q1793.16 1948.36 1791.33 1944.82 Q1789.53 1941.25 1785.89 1941.25 M1785.89 1937.55 Q1791.7 1937.55 1794.76 1942.16 Q1797.84 1946.74 1797.84 1955.49 Q1797.84 1964.22 1794.76 1968.82 Q1791.7 1973.41 1785.89 1973.41 Q1780.08 1973.41 1777.01 1968.82 Q1773.95 1964.22 1773.95 1955.49 Q1773.95 1946.74 1777.01 1942.16 Q1780.08 1937.55 1785.89 1937.55 Z\" fill=\"#000000\" fill-rule=\"nonzero\" fill-opacity=\"1\" /><path clip-path=\"url(#clip420)\" d=\"M1797.84 1917.25 L1815.89 1917.25 L1815.89 1918.86 L1805.7 1945.33 L1801.73 1945.33 L1811.32 1920.44 L1797.84 1920.44 L1797.84 1917.25 Z\" fill=\"#000000\" fill-rule=\"nonzero\" fill-opacity=\"1\" /><path clip-path=\"url(#clip420)\" d=\"M2352.75 1954.1 Q2356.1 1954.82 2357.98 1957.09 Q2359.88 1959.36 2359.88 1962.69 Q2359.88 1967.8 2356.36 1970.61 Q2352.84 1973.41 2346.36 1973.41 Q2344.18 1973.41 2341.87 1972.97 Q2339.57 1972.55 2337.12 1971.69 L2337.12 1967.18 Q2339.07 1968.31 2341.38 1968.89 Q2343.7 1969.47 2346.22 1969.47 Q2350.62 1969.47 2352.91 1967.74 Q2355.22 1966 2355.22 1962.69 Q2355.22 1959.63 2353.07 1957.92 Q2350.94 1956.18 2347.12 1956.18 L2343.09 1956.18 L2343.09 1952.34 L2347.31 1952.34 Q2350.76 1952.34 2352.58 1950.98 Q2354.41 1949.59 2354.41 1946.99 Q2354.41 1944.33 2352.51 1942.92 Q2350.64 1941.49 2347.12 1941.49 Q2345.2 1941.49 2343 1941.9 Q2340.8 1942.32 2338.16 1943.2 L2338.16 1939.03 Q2340.82 1938.29 2343.14 1937.92 Q2345.48 1937.55 2347.54 1937.55 Q2352.86 1937.55 2355.96 1939.98 Q2359.07 1942.39 2359.07 1946.51 Q2359.07 1949.38 2357.42 1951.37 Q2355.78 1953.34 2352.75 1954.1 Z\" fill=\"#000000\" fill-rule=\"nonzero\" fill-opacity=\"1\" /><path clip-path=\"url(#clip420)\" d=\"M2368.74 1966.86 L2373.63 1966.86 L2373.63 1972.74 L2368.74 1972.74 L2368.74 1966.86 Z\" fill=\"#000000\" fill-rule=\"nonzero\" fill-opacity=\"1\" /><path clip-path=\"url(#clip420)\" d=\"M2393.81 1941.25 Q2390.2 1941.25 2388.37 1944.82 Q2386.57 1948.36 2386.57 1955.49 Q2386.57 1962.6 2388.37 1966.16 Q2390.2 1969.7 2393.81 1969.7 Q2397.44 1969.7 2399.25 1966.16 Q2401.08 1962.6 2401.08 1955.49 Q2401.08 1948.36 2399.25 1944.82 Q2397.44 1941.25 2393.81 1941.25 M2393.81 1937.55 Q2399.62 1937.55 2402.68 1942.16 Q2405.75 1946.74 2405.75 1955.49 Q2405.75 1964.22 2402.68 1968.82 Q2399.62 1973.41 2393.81 1973.41 Q2388 1973.41 2384.92 1968.82 Q2381.87 1964.22 2381.87 1955.49 Q2381.87 1946.74 2384.92 1942.16 Q2388 1937.55 2393.81 1937.55 Z\" fill=\"#000000\" fill-rule=\"nonzero\" fill-opacity=\"1\" /><path clip-path=\"url(#clip420)\" d=\"M2442.14 1947.27 L2431.56 1957.9 L2442.14 1968.48 L2439.39 1971.28 L2428.76 1960.65 L2418.14 1971.28 L2415.41 1968.48 L2425.96 1957.9 L2415.41 1947.27 L2418.14 1944.47 L2428.76 1955.1 L2439.39 1944.47 L2442.14 1947.27 Z\" fill=\"#000000\" fill-rule=\"nonzero\" fill-opacity=\"1\" /><path clip-path=\"url(#clip420)\" d=\"M2454.5 1968.8 L2462.14 1968.8 L2462.14 1942.43 L2453.83 1944.1 L2453.83 1939.84 L2462.1 1938.18 L2466.77 1938.18 L2466.77 1968.8 L2474.41 1968.8 L2474.41 1972.74 L2454.5 1972.74 L2454.5 1968.8 Z\" fill=\"#000000\" fill-rule=\"nonzero\" fill-opacity=\"1\" /><path clip-path=\"url(#clip420)\" d=\"M2493.86 1941.25 Q2490.25 1941.25 2488.42 1944.82 Q2486.61 1948.36 2486.61 1955.49 Q2486.61 1962.6 2488.42 1966.16 Q2490.25 1969.7 2493.86 1969.7 Q2497.49 1969.7 2499.3 1966.16 Q2501.12 1962.6 2501.12 1955.49 Q2501.12 1948.36 2499.3 1944.82 Q2497.49 1941.25 2493.86 1941.25 M2493.86 1937.55 Q2499.67 1937.55 2502.72 1942.16 Q2505.8 1946.74 2505.8 1955.49 Q2505.8 1964.22 2502.72 1968.82 Q2499.67 1973.41 2493.86 1973.41 Q2488.05 1973.41 2484.97 1968.82 Q2481.91 1964.22 2481.91 1955.49 Q2481.91 1946.74 2484.97 1942.16 Q2488.05 1937.55 2493.86 1937.55 Z\" fill=\"#000000\" fill-rule=\"nonzero\" fill-opacity=\"1\" /><path clip-path=\"url(#clip420)\" d=\"M2505.8 1917.25 L2523.86 1917.25 L2523.86 1918.86 L2513.66 1945.33 L2509.69 1945.33 L2519.29 1920.44 L2505.8 1920.44 L2505.8 1917.25 Z\" fill=\"#000000\" fill-rule=\"nonzero\" fill-opacity=\"1\" /><path clip-path=\"url(#clip420)\" d=\"M3060.11 1942.25 L3048.3 1960.7 L3060.11 1960.7 L3060.11 1942.25 M3058.88 1938.18 L3064.76 1938.18 L3064.76 1960.7 L3069.69 1960.7 L3069.69 1964.59 L3064.76 1964.59 L3064.76 1972.74 L3060.11 1972.74 L3060.11 1964.59 L3044.5 1964.59 L3044.5 1960.07 L3058.88 1938.18 Z\" fill=\"#000000\" fill-rule=\"nonzero\" fill-opacity=\"1\" /><path clip-path=\"url(#clip420)\" d=\"M3077.42 1966.86 L3082.3 1966.86 L3082.3 1972.74 L3077.42 1972.74 L3077.42 1966.86 Z\" fill=\"#000000\" fill-rule=\"nonzero\" fill-opacity=\"1\" /><path clip-path=\"url(#clip420)\" d=\"M3102.49 1941.25 Q3098.88 1941.25 3097.05 1944.82 Q3095.24 1948.36 3095.24 1955.49 Q3095.24 1962.6 3097.05 1966.16 Q3098.88 1969.7 3102.49 1969.7 Q3106.12 1969.7 3107.93 1966.16 Q3109.76 1962.6 3109.76 1955.49 Q3109.76 1948.36 3107.93 1944.82 Q3106.12 1941.25 3102.49 1941.25 M3102.49 1937.55 Q3108.3 1937.55 3111.36 1942.16 Q3114.43 1946.74 3114.43 1955.49 Q3114.43 1964.22 3111.36 1968.82 Q3108.3 1973.41 3102.49 1973.41 Q3096.68 1973.41 3093.6 1968.82 Q3090.55 1964.22 3090.55 1955.49 Q3090.55 1946.74 3093.6 1942.16 Q3096.68 1937.55 3102.49 1937.55 Z\" fill=\"#000000\" fill-rule=\"nonzero\" fill-opacity=\"1\" /><path clip-path=\"url(#clip420)\" d=\"M3150.82 1947.27 L3140.24 1957.9 L3150.82 1968.48 L3148.07 1971.28 L3137.44 1960.65 L3126.82 1971.28 L3124.09 1968.48 L3134.64 1957.9 L3124.09 1947.27 L3126.82 1944.47 L3137.44 1955.1 L3148.07 1944.47 L3150.82 1947.27 Z\" fill=\"#000000\" fill-rule=\"nonzero\" fill-opacity=\"1\" /><path clip-path=\"url(#clip420)\" d=\"M3163.18 1968.8 L3170.82 1968.8 L3170.82 1942.43 L3162.51 1944.1 L3162.51 1939.84 L3170.78 1938.18 L3175.45 1938.18 L3175.45 1968.8 L3183.09 1968.8 L3183.09 1972.74 L3163.18 1972.74 L3163.18 1968.8 Z\" fill=\"#000000\" fill-rule=\"nonzero\" fill-opacity=\"1\" /><path clip-path=\"url(#clip420)\" d=\"M3202.54 1941.25 Q3198.92 1941.25 3197.1 1944.82 Q3195.29 1948.36 3195.29 1955.49 Q3195.29 1962.6 3197.1 1966.16 Q3198.92 1969.7 3202.54 1969.7 Q3206.17 1969.7 3207.98 1966.16 Q3209.8 1962.6 3209.8 1955.49 Q3209.8 1948.36 3207.98 1944.82 Q3206.17 1941.25 3202.54 1941.25 M3202.54 1937.55 Q3208.35 1937.55 3211.4 1942.16 Q3214.48 1946.74 3214.48 1955.49 Q3214.48 1964.22 3211.4 1968.82 Q3208.35 1973.41 3202.54 1973.41 Q3196.73 1973.41 3193.65 1968.82 Q3190.59 1964.22 3190.59 1955.49 Q3190.59 1946.74 3193.65 1942.16 Q3196.73 1937.55 3202.54 1937.55 Z\" fill=\"#000000\" fill-rule=\"nonzero\" fill-opacity=\"1\" /><path clip-path=\"url(#clip420)\" d=\"M3214.48 1917.25 L3232.54 1917.25 L3232.54 1918.86 L3222.34 1945.33 L3218.37 1945.33 L3227.97 1920.44 L3214.48 1920.44 L3214.48 1917.25 Z\" fill=\"#000000\" fill-rule=\"nonzero\" fill-opacity=\"1\" /><path clip-path=\"url(#clip420)\" d=\"M3754.67 1938.18 L3773.02 1938.18 L3773.02 1942.11 L3758.95 1942.11 L3758.95 1950.58 Q3759.97 1950.24 3760.98 1950.07 Q3762 1949.89 3763.02 1949.89 Q3768.81 1949.89 3772.19 1953.06 Q3775.57 1956.23 3775.57 1961.65 Q3775.57 1967.23 3772.1 1970.33 Q3768.62 1973.41 3762.3 1973.41 Q3760.13 1973.41 3757.86 1973.04 Q3755.61 1972.67 3753.21 1971.93 L3753.21 1967.23 Q3755.29 1968.36 3757.51 1968.92 Q3759.73 1969.47 3762.21 1969.47 Q3766.22 1969.47 3768.55 1967.37 Q3770.89 1965.26 3770.89 1961.65 Q3770.89 1958.04 3768.55 1955.93 Q3766.22 1953.82 3762.21 1953.82 Q3760.34 1953.82 3758.46 1954.24 Q3756.61 1954.66 3754.67 1955.54 L3754.67 1938.18 Z\" fill=\"#000000\" fill-rule=\"nonzero\" fill-opacity=\"1\" /><path clip-path=\"url(#clip420)\" d=\"M3784.78 1966.86 L3789.66 1966.86 L3789.66 1972.74 L3784.78 1972.74 L3784.78 1966.86 Z\" fill=\"#000000\" fill-rule=\"nonzero\" fill-opacity=\"1\" /><path clip-path=\"url(#clip420)\" d=\"M3809.85 1941.25 Q3806.24 1941.25 3804.41 1944.82 Q3802.6 1948.36 3802.6 1955.49 Q3802.6 1962.6 3804.41 1966.16 Q3806.24 1969.7 3809.85 1969.7 Q3813.48 1969.7 3815.29 1966.16 Q3817.12 1962.6 3817.12 1955.49 Q3817.12 1948.36 3815.29 1944.82 Q3813.48 1941.25 3809.85 1941.25 M3809.85 1937.55 Q3815.66 1937.55 3818.72 1942.16 Q3821.79 1946.74 3821.79 1955.49 Q3821.79 1964.22 3818.72 1968.82 Q3815.66 1973.41 3809.85 1973.41 Q3804.04 1973.41 3800.96 1968.82 Q3797.91 1964.22 3797.91 1955.49 Q3797.91 1946.74 3800.96 1942.16 Q3804.04 1937.55 3809.85 1937.55 Z\" fill=\"#000000\" fill-rule=\"nonzero\" fill-opacity=\"1\" /><path clip-path=\"url(#clip420)\" d=\"M3858.18 1947.27 L3847.6 1957.9 L3858.18 1968.48 L3855.43 1971.28 L3844.8 1960.65 L3834.18 1971.28 L3831.45 1968.48 L3842 1957.9 L3831.45 1947.27 L3834.18 1944.47 L3844.8 1955.1 L3855.43 1944.47 L3858.18 1947.27 Z\" fill=\"#000000\" fill-rule=\"nonzero\" fill-opacity=\"1\" /><path clip-path=\"url(#clip420)\" d=\"M3870.54 1968.8 L3878.18 1968.8 L3878.18 1942.43 L3869.87 1944.1 L3869.87 1939.84 L3878.14 1938.18 L3882.81 1938.18 L3882.81 1968.8 L3890.45 1968.8 L3890.45 1972.74 L3870.54 1972.74 L3870.54 1968.8 Z\" fill=\"#000000\" fill-rule=\"nonzero\" fill-opacity=\"1\" /><path clip-path=\"url(#clip420)\" d=\"M3909.9 1941.25 Q3906.28 1941.25 3904.46 1944.82 Q3902.65 1948.36 3902.65 1955.49 Q3902.65 1962.6 3904.46 1966.16 Q3906.28 1969.7 3909.9 1969.7 Q3913.53 1969.7 3915.34 1966.16 Q3917.16 1962.6 3917.16 1955.49 Q3917.16 1948.36 3915.34 1944.82 Q3913.53 1941.25 3909.9 1941.25 M3909.9 1937.55 Q3915.71 1937.55 3918.76 1942.16 Q3921.84 1946.74 3921.84 1955.49 Q3921.84 1964.22 3918.76 1968.82 Q3915.71 1973.41 3909.9 1973.41 Q3904.09 1973.41 3901.01 1968.82 Q3897.95 1964.22 3897.95 1955.49 Q3897.95 1946.74 3901.01 1942.16 Q3904.09 1937.55 3909.9 1937.55 Z\" fill=\"#000000\" fill-rule=\"nonzero\" fill-opacity=\"1\" /><path clip-path=\"url(#clip420)\" d=\"M3921.84 1917.25 L3939.9 1917.25 L3939.9 1918.86 L3929.7 1945.33 L3925.73 1945.33 L3935.33 1920.44 L3921.84 1920.44 L3921.84 1917.25 Z\" fill=\"#000000\" fill-rule=\"nonzero\" fill-opacity=\"1\" /><polyline clip-path=\"url(#clip422)\" style=\"stroke:#000000; stroke-linecap:round; stroke-linejoin:round; stroke-width:2; stroke-opacity:0.1; fill:none\" points=\"200.191,1829.95 3952.76,1829.95 \"/>\n",
       "<polyline clip-path=\"url(#clip422)\" style=\"stroke:#000000; stroke-linecap:round; stroke-linejoin:round; stroke-width:2; stroke-opacity:0.1; fill:none\" points=\"200.191,1447.57 3952.76,1447.57 \"/>\n",
       "<polyline clip-path=\"url(#clip422)\" style=\"stroke:#000000; stroke-linecap:round; stroke-linejoin:round; stroke-width:2; stroke-opacity:0.1; fill:none\" points=\"200.191,1065.18 3952.76,1065.18 \"/>\n",
       "<polyline clip-path=\"url(#clip422)\" style=\"stroke:#000000; stroke-linecap:round; stroke-linejoin:round; stroke-width:2; stroke-opacity:0.1; fill:none\" points=\"200.191,682.793 3952.76,682.793 \"/>\n",
       "<polyline clip-path=\"url(#clip422)\" style=\"stroke:#000000; stroke-linecap:round; stroke-linejoin:round; stroke-width:2; stroke-opacity:0.1; fill:none\" points=\"200.191,300.407 3952.76,300.407 \"/>\n",
       "<polyline clip-path=\"url(#clip420)\" style=\"stroke:#000000; stroke-linecap:round; stroke-linejoin:round; stroke-width:4; stroke-opacity:1; fill:none\" points=\"200.191,1881.88 200.191,47.2441 \"/>\n",
       "<polyline clip-path=\"url(#clip420)\" style=\"stroke:#000000; stroke-linecap:round; stroke-linejoin:round; stroke-width:4; stroke-opacity:1; fill:none\" points=\"200.191,1829.95 219.088,1829.95 \"/>\n",
       "<polyline clip-path=\"url(#clip420)\" style=\"stroke:#000000; stroke-linecap:round; stroke-linejoin:round; stroke-width:4; stroke-opacity:1; fill:none\" points=\"200.191,1447.57 219.088,1447.57 \"/>\n",
       "<polyline clip-path=\"url(#clip420)\" style=\"stroke:#000000; stroke-linecap:round; stroke-linejoin:round; stroke-width:4; stroke-opacity:1; fill:none\" points=\"200.191,1065.18 219.088,1065.18 \"/>\n",
       "<polyline clip-path=\"url(#clip420)\" style=\"stroke:#000000; stroke-linecap:round; stroke-linejoin:round; stroke-width:4; stroke-opacity:1; fill:none\" points=\"200.191,682.793 219.088,682.793 \"/>\n",
       "<polyline clip-path=\"url(#clip420)\" style=\"stroke:#000000; stroke-linecap:round; stroke-linejoin:round; stroke-width:4; stroke-opacity:1; fill:none\" points=\"200.191,300.407 219.088,300.407 \"/>\n",
       "<path clip-path=\"url(#clip420)\" d=\"M83.0151 1815.75 Q79.404 1815.75 77.5753 1819.32 Q75.7697 1822.86 75.7697 1829.99 Q75.7697 1837.09 77.5753 1840.66 Q79.404 1844.2 83.0151 1844.2 Q86.6493 1844.2 88.4548 1840.66 Q90.2835 1837.09 90.2835 1829.99 Q90.2835 1822.86 88.4548 1819.32 Q86.6493 1815.75 83.0151 1815.75 M83.0151 1812.05 Q88.8252 1812.05 91.8808 1816.65 Q94.9594 1821.24 94.9594 1829.99 Q94.9594 1838.71 91.8808 1843.32 Q88.8252 1847.9 83.0151 1847.9 Q77.2049 1847.9 74.1262 1843.32 Q71.0707 1838.71 71.0707 1829.99 Q71.0707 1821.24 74.1262 1816.65 Q77.2049 1812.05 83.0151 1812.05 Z\" fill=\"#000000\" fill-rule=\"nonzero\" fill-opacity=\"1\" /><path clip-path=\"url(#clip420)\" d=\"M103.177 1841.35 L108.061 1841.35 L108.061 1847.23 L103.177 1847.23 L103.177 1841.35 Z\" fill=\"#000000\" fill-rule=\"nonzero\" fill-opacity=\"1\" /><path clip-path=\"url(#clip420)\" d=\"M128.246 1815.75 Q124.635 1815.75 122.807 1819.32 Q121.001 1822.86 121.001 1829.99 Q121.001 1837.09 122.807 1840.66 Q124.635 1844.2 128.246 1844.2 Q131.881 1844.2 133.686 1840.66 Q135.515 1837.09 135.515 1829.99 Q135.515 1822.86 133.686 1819.32 Q131.881 1815.75 128.246 1815.75 M128.246 1812.05 Q134.056 1812.05 137.112 1816.65 Q140.191 1821.24 140.191 1829.99 Q140.191 1838.71 137.112 1843.32 Q134.056 1847.9 128.246 1847.9 Q122.436 1847.9 119.357 1843.32 Q116.302 1838.71 116.302 1829.99 Q116.302 1821.24 119.357 1816.65 Q122.436 1812.05 128.246 1812.05 Z\" fill=\"#000000\" fill-rule=\"nonzero\" fill-opacity=\"1\" /><path clip-path=\"url(#clip420)\" d=\"M78.0382 1460.91 L94.3576 1460.91 L94.3576 1464.85 L72.4133 1464.85 L72.4133 1460.91 Q75.0753 1458.16 79.6586 1453.53 Q84.2651 1448.87 85.4456 1447.53 Q87.691 1445.01 88.5706 1443.27 Q89.4734 1441.51 89.4734 1439.82 Q89.4734 1437.07 87.5289 1435.33 Q85.6076 1433.6 82.5058 1433.6 Q80.3067 1433.6 77.8531 1434.36 Q75.4225 1435.12 72.6447 1436.67 L72.6447 1431.95 Q75.4688 1430.82 77.9225 1430.24 Q80.3762 1429.66 82.4132 1429.66 Q87.7836 1429.66 90.978 1432.35 Q94.1724 1435.03 94.1724 1439.52 Q94.1724 1441.65 93.3622 1443.57 Q92.5752 1445.47 90.4687 1448.06 Q89.89 1448.73 86.7882 1451.95 Q83.6864 1455.15 78.0382 1460.91 Z\" fill=\"#000000\" fill-rule=\"nonzero\" fill-opacity=\"1\" /><path clip-path=\"url(#clip420)\" d=\"M104.172 1458.97 L109.057 1458.97 L109.057 1464.85 L104.172 1464.85 L104.172 1458.97 Z\" fill=\"#000000\" fill-rule=\"nonzero\" fill-opacity=\"1\" /><path clip-path=\"url(#clip420)\" d=\"M119.288 1430.29 L137.644 1430.29 L137.644 1434.22 L123.57 1434.22 L123.57 1442.69 Q124.589 1442.35 125.607 1442.18 Q126.626 1442 127.644 1442 Q133.431 1442 136.811 1445.17 Q140.191 1448.34 140.191 1453.76 Q140.191 1459.34 136.718 1462.44 Q133.246 1465.52 126.927 1465.52 Q124.751 1465.52 122.482 1465.15 Q120.237 1464.78 117.83 1464.04 L117.83 1459.34 Q119.913 1460.47 122.135 1461.03 Q124.357 1461.58 126.834 1461.58 Q130.839 1461.58 133.177 1459.48 Q135.515 1457.37 135.515 1453.76 Q135.515 1450.15 133.177 1448.04 Q130.839 1445.93 126.834 1445.93 Q124.959 1445.93 123.084 1446.35 Q121.232 1446.77 119.288 1447.65 L119.288 1430.29 Z\" fill=\"#000000\" fill-rule=\"nonzero\" fill-opacity=\"1\" /><path clip-path=\"url(#clip420)\" d=\"M73.0614 1047.9 L91.4178 1047.9 L91.4178 1051.83 L77.3438 1051.83 L77.3438 1060.31 Q78.3623 1059.96 79.3808 1059.8 Q80.3993 1059.61 81.4178 1059.61 Q87.2049 1059.61 90.5845 1062.78 Q93.9641 1065.96 93.9641 1071.37 Q93.9641 1076.95 90.4919 1080.05 Q87.0197 1083.13 80.7003 1083.13 Q78.5243 1083.13 76.2558 1082.76 Q74.0105 1082.39 71.6031 1081.65 L71.6031 1076.95 Q73.6864 1078.08 75.9086 1078.64 Q78.1308 1079.2 80.6077 1079.2 Q84.6123 1079.2 86.9502 1077.09 Q89.2882 1074.98 89.2882 1071.37 Q89.2882 1067.76 86.9502 1065.65 Q84.6123 1063.55 80.6077 1063.55 Q78.7327 1063.55 76.8577 1063.96 Q75.0058 1064.38 73.0614 1065.26 L73.0614 1047.9 Z\" fill=\"#000000\" fill-rule=\"nonzero\" fill-opacity=\"1\" /><path clip-path=\"url(#clip420)\" d=\"M103.177 1076.58 L108.061 1076.58 L108.061 1082.46 L103.177 1082.46 L103.177 1076.58 Z\" fill=\"#000000\" fill-rule=\"nonzero\" fill-opacity=\"1\" /><path clip-path=\"url(#clip420)\" d=\"M128.246 1050.98 Q124.635 1050.98 122.807 1054.54 Q121.001 1058.08 121.001 1065.21 Q121.001 1072.32 122.807 1075.89 Q124.635 1079.43 128.246 1079.43 Q131.881 1079.43 133.686 1075.89 Q135.515 1072.32 135.515 1065.21 Q135.515 1058.08 133.686 1054.54 Q131.881 1050.98 128.246 1050.98 M128.246 1047.27 Q134.056 1047.27 137.112 1051.88 Q140.191 1056.46 140.191 1065.21 Q140.191 1073.94 137.112 1078.55 Q134.056 1083.13 128.246 1083.13 Q122.436 1083.13 119.357 1078.55 Q116.302 1073.94 116.302 1065.21 Q116.302 1056.46 119.357 1051.88 Q122.436 1047.27 128.246 1047.27 Z\" fill=\"#000000\" fill-rule=\"nonzero\" fill-opacity=\"1\" /><path clip-path=\"url(#clip420)\" d=\"M72.8299 665.513 L95.052 665.513 L95.052 667.504 L82.5058 700.073 L77.6216 700.073 L89.4271 669.449 L72.8299 669.449 L72.8299 665.513 Z\" fill=\"#000000\" fill-rule=\"nonzero\" fill-opacity=\"1\" /><path clip-path=\"url(#clip420)\" d=\"M104.172 694.194 L109.057 694.194 L109.057 700.073 L104.172 700.073 L104.172 694.194 Z\" fill=\"#000000\" fill-rule=\"nonzero\" fill-opacity=\"1\" /><path clip-path=\"url(#clip420)\" d=\"M119.288 665.513 L137.644 665.513 L137.644 669.449 L123.57 669.449 L123.57 677.921 Q124.589 677.574 125.607 677.411 Q126.626 677.226 127.644 677.226 Q133.431 677.226 136.811 680.398 Q140.191 683.569 140.191 688.986 Q140.191 694.564 136.718 697.666 Q133.246 700.745 126.927 700.745 Q124.751 700.745 122.482 700.374 Q120.237 700.004 117.83 699.263 L117.83 694.564 Q119.913 695.698 122.135 696.254 Q124.357 696.81 126.834 696.81 Q130.839 696.81 133.177 694.703 Q135.515 692.597 135.515 688.986 Q135.515 685.374 133.177 683.268 Q130.839 681.161 126.834 681.161 Q124.959 681.161 123.084 681.578 Q121.232 681.995 119.288 682.874 L119.288 665.513 Z\" fill=\"#000000\" fill-rule=\"nonzero\" fill-opacity=\"1\" /><path clip-path=\"url(#clip420)\" d=\"M43.6634 313.752 L51.3023 313.752 L51.3023 287.386 L42.9921 289.053 L42.9921 284.794 L51.256 283.127 L55.9319 283.127 L55.9319 313.752 L63.5707 313.752 L63.5707 317.687 L43.6634 317.687 L43.6634 313.752 Z\" fill=\"#000000\" fill-rule=\"nonzero\" fill-opacity=\"1\" /><path clip-path=\"url(#clip420)\" d=\"M83.0151 286.206 Q79.404 286.206 77.5753 289.771 Q75.7697 293.312 75.7697 300.442 Q75.7697 307.548 77.5753 311.113 Q79.404 314.655 83.0151 314.655 Q86.6493 314.655 88.4548 311.113 Q90.2835 307.548 90.2835 300.442 Q90.2835 293.312 88.4548 289.771 Q86.6493 286.206 83.0151 286.206 M83.0151 282.502 Q88.8252 282.502 91.8808 287.109 Q94.9594 291.692 94.9594 300.442 Q94.9594 309.169 91.8808 313.775 Q88.8252 318.358 83.0151 318.358 Q77.2049 318.358 74.1262 313.775 Q71.0707 309.169 71.0707 300.442 Q71.0707 291.692 74.1262 287.109 Q77.2049 282.502 83.0151 282.502 Z\" fill=\"#000000\" fill-rule=\"nonzero\" fill-opacity=\"1\" /><path clip-path=\"url(#clip420)\" d=\"M103.177 311.808 L108.061 311.808 L108.061 317.687 L103.177 317.687 L103.177 311.808 Z\" fill=\"#000000\" fill-rule=\"nonzero\" fill-opacity=\"1\" /><path clip-path=\"url(#clip420)\" d=\"M128.246 286.206 Q124.635 286.206 122.807 289.771 Q121.001 293.312 121.001 300.442 Q121.001 307.548 122.807 311.113 Q124.635 314.655 128.246 314.655 Q131.881 314.655 133.686 311.113 Q135.515 307.548 135.515 300.442 Q135.515 293.312 133.686 289.771 Q131.881 286.206 128.246 286.206 M128.246 282.502 Q134.056 282.502 137.112 287.109 Q140.191 291.692 140.191 300.442 Q140.191 309.169 137.112 313.775 Q134.056 318.358 128.246 318.358 Q122.436 318.358 119.357 313.775 Q116.302 309.169 116.302 300.442 Q116.302 291.692 119.357 287.109 Q122.436 282.502 128.246 282.502 Z\" fill=\"#000000\" fill-rule=\"nonzero\" fill-opacity=\"1\" /><polyline clip-path=\"url(#clip422)\" style=\"stroke:#009af9; stroke-linecap:round; stroke-linejoin:round; stroke-width:4; stroke-opacity:1; fill:none\" points=\"306.395,1829.95 306.402,1829.95 306.465,1829.95 307.103,1829.92 313.475,1829.48 377.198,1821.71 1014.43,1650.43 3846.55,99.1676 \"/>\n",
       "<circle clip-path=\"url(#clip422)\" cx=\"306.395\" cy=\"1829.95\" r=\"14.4\" fill=\"#e26f46\" fill-rule=\"evenodd\" fill-opacity=\"1\" stroke=\"#000000\" stroke-opacity=\"1\" stroke-width=\"4\"/>\n",
       "<circle clip-path=\"url(#clip422)\" cx=\"306.402\" cy=\"1829.95\" r=\"14.4\" fill=\"#e26f46\" fill-rule=\"evenodd\" fill-opacity=\"1\" stroke=\"#000000\" stroke-opacity=\"1\" stroke-width=\"4\"/>\n",
       "<circle clip-path=\"url(#clip422)\" cx=\"306.465\" cy=\"1829.95\" r=\"14.4\" fill=\"#e26f46\" fill-rule=\"evenodd\" fill-opacity=\"1\" stroke=\"#000000\" stroke-opacity=\"1\" stroke-width=\"4\"/>\n",
       "<circle clip-path=\"url(#clip422)\" cx=\"307.103\" cy=\"1829.92\" r=\"14.4\" fill=\"#e26f46\" fill-rule=\"evenodd\" fill-opacity=\"1\" stroke=\"#000000\" stroke-opacity=\"1\" stroke-width=\"4\"/>\n",
       "<circle clip-path=\"url(#clip422)\" cx=\"313.475\" cy=\"1829.48\" r=\"14.4\" fill=\"#e26f46\" fill-rule=\"evenodd\" fill-opacity=\"1\" stroke=\"#000000\" stroke-opacity=\"1\" stroke-width=\"4\"/>\n",
       "<circle clip-path=\"url(#clip422)\" cx=\"377.198\" cy=\"1821.71\" r=\"14.4\" fill=\"#e26f46\" fill-rule=\"evenodd\" fill-opacity=\"1\" stroke=\"#000000\" stroke-opacity=\"1\" stroke-width=\"4\"/>\n",
       "<circle clip-path=\"url(#clip422)\" cx=\"1014.43\" cy=\"1650.43\" r=\"14.4\" fill=\"#e26f46\" fill-rule=\"evenodd\" fill-opacity=\"1\" stroke=\"#000000\" stroke-opacity=\"1\" stroke-width=\"4\"/>\n",
       "<circle clip-path=\"url(#clip422)\" cx=\"3846.55\" cy=\"99.1676\" r=\"14.4\" fill=\"#e26f46\" fill-rule=\"evenodd\" fill-opacity=\"1\" stroke=\"#000000\" stroke-opacity=\"1\" stroke-width=\"4\"/>\n",
       "<path clip-path=\"url(#clip420)\" d=\"M325.276 263.918 L752.963 263.918 L752.963 108.398 L325.276 108.398  Z\" fill=\"#ffffff\" fill-rule=\"evenodd\" fill-opacity=\"1\"/>\n",
       "<polyline clip-path=\"url(#clip420)\" style=\"stroke:#000000; stroke-linecap:round; stroke-linejoin:round; stroke-width:4; stroke-opacity:1; fill:none\" points=\"325.276,263.918 752.963,263.918 752.963,108.398 325.276,108.398 325.276,263.918 \"/>\n",
       "<polyline clip-path=\"url(#clip420)\" style=\"stroke:#009af9; stroke-linecap:round; stroke-linejoin:round; stroke-width:4; stroke-opacity:1; fill:none\" points=\"366.971,160.238 617.142,160.238 \"/>\n",
       "<path clip-path=\"url(#clip420)\" d=\"M672.68 179.926 Q670.875 184.555 669.162 185.968 Q667.449 187.38 664.578 187.38 L661.175 187.38 L661.175 183.815 L663.675 183.815 Q665.435 183.815 666.407 182.981 Q667.379 182.148 668.56 179.046 L669.324 177.102 L658.838 151.593 L663.351 151.593 L671.453 171.87 L679.555 151.593 L684.069 151.593 L672.68 179.926 Z\" fill=\"#000000\" fill-rule=\"nonzero\" fill-opacity=\"1\" /><path clip-path=\"url(#clip420)\" d=\"M691.361 173.583 L698.999 173.583 L698.999 147.218 L690.689 148.884 L690.689 144.625 L698.953 142.958 L703.629 142.958 L703.629 173.583 L711.268 173.583 L711.268 177.518 L691.361 177.518 L691.361 173.583 Z\" fill=\"#000000\" fill-rule=\"nonzero\" fill-opacity=\"1\" /><circle clip-path=\"url(#clip420)\" cx=\"492.057\" cy=\"212.078\" r=\"20.48\" fill=\"#e26f46\" fill-rule=\"evenodd\" fill-opacity=\"1\" stroke=\"#000000\" stroke-opacity=\"1\" stroke-width=\"5.68889\"/>\n",
       "<path clip-path=\"url(#clip420)\" d=\"M672.68 231.766 Q670.875 236.395 669.162 237.808 Q667.449 239.22 664.578 239.22 L661.175 239.22 L661.175 235.655 L663.675 235.655 Q665.435 235.655 666.407 234.821 Q667.379 233.988 668.56 230.886 L669.324 228.942 L658.838 203.433 L663.351 203.433 L671.453 223.71 L679.555 203.433 L684.069 203.433 L672.68 231.766 Z\" fill=\"#000000\" fill-rule=\"nonzero\" fill-opacity=\"1\" /><path clip-path=\"url(#clip420)\" d=\"M694.578 225.423 L710.897 225.423 L710.897 229.358 L688.953 229.358 L688.953 225.423 Q691.615 222.669 696.198 218.039 Q700.805 213.386 701.985 212.044 Q704.231 209.521 705.11 207.785 Q706.013 206.025 706.013 204.335 Q706.013 201.581 704.069 199.845 Q702.147 198.109 699.046 198.109 Q696.847 198.109 694.393 198.873 Q691.962 199.636 689.185 201.187 L689.185 196.465 Q692.009 195.331 694.462 194.752 Q696.916 194.173 698.953 194.173 Q704.323 194.173 707.518 196.859 Q710.712 199.544 710.712 204.035 Q710.712 206.164 709.902 208.085 Q709.115 209.984 707.009 212.576 Q706.43 213.247 703.328 216.465 Q700.226 219.659 694.578 225.423 Z\" fill=\"#000000\" fill-rule=\"nonzero\" fill-opacity=\"1\" /></svg>\n"
      ]
     },
     "execution_count": 17,
     "metadata": {},
     "output_type": "execute_result"
    }
   ],
   "source": [
    "plot(num,time,size=(1000,500))\n",
    "scatter!(num,time,size=(1000,500))\n",
    "#savefig(\"plot_numvstime.png\") "
   ]
  },
  {
   "cell_type": "code",
   "execution_count": 18,
   "metadata": {},
   "outputs": [
    {
     "data": {
      "text/plain": [
       "list_primes_new (generic function with 1 method)"
      ]
     },
     "execution_count": 18,
     "metadata": {},
     "output_type": "execute_result"
    }
   ],
   "source": [
    "function list_primes_new(lower,upper)\n",
    "    primes = zeros(floor(Int,(upper/(log(upper)) )*(1+1.2762/log(upper)) ))\n",
    "    j = 1\n",
    "    for i=lower:upper\n",
    "        if prime_check(i) == true\n",
    "            #push!(primes,i)\n",
    "            primes[j] = i\n",
    "            j += 1\n",
    "        end\n",
    "    end\n",
    "    #return primes\n",
    "    #return filter(!iszero, primes)\n",
    "end\n",
    "#45.082667 seconds (2 allocations: 23.068 MiB)"
   ]
  },
  {
   "cell_type": "code",
   "execution_count": 19,
   "metadata": {},
   "outputs": [
    {
     "name": "stdout",
     "output_type": "stream",
     "text": [
      "  1.183254 seconds (2 allocations: 5.108 MiB)\n"
     ]
    }
   ],
   "source": [
    "@time list_primes_new(1,10^7)"
   ]
  },
  {
   "cell_type": "code",
   "execution_count": 20,
   "metadata": {},
   "outputs": [
    {
     "name": "stderr",
     "output_type": "stream",
     "text": [
      "\u001b[32m\u001b[1m   Resolving\u001b[22m\u001b[39m package versions...\n",
      "\u001b[32m\u001b[1m  No Changes\u001b[22m\u001b[39m to `~/.julia/environments/v1.10/Project.toml`\n",
      "\u001b[32m\u001b[1m  No Changes\u001b[22m\u001b[39m to `~/.julia/environments/v1.10/Manifest.toml`\n"
     ]
    }
   ],
   "source": [
    "import Pkg\n",
    "Pkg.add(\"Primes\")\n",
    "using Primes"
   ]
  },
  {
   "attachments": {},
   "cell_type": "markdown",
   "metadata": {},
   "source": [
    "https://github.com/JuliaMath/Primes.jl/blob/master/src/Primes.jl <br/>\n",
    "link to the source code"
   ]
  },
  {
   "attachments": {},
   "cell_type": "markdown",
   "metadata": {},
   "source": [
    "```julia\n",
    "function isprime(n::Integer)\n",
    "    # Small precomputed primes + Miller-Rabin for primality testing:\n",
    "    #     https://en.wikipedia.org/wiki/Miller–Rabin_primality_test\n",
    "    #     https://github.com/JuliaLang/julia/issues/11594\n",
    "    n < 2 && return false\n",
    "    trailing_zeros(n) > 0 && return n==2\n",
    "    if n < N_SMALL_FACTORS\n",
    "        return _min_factor(n) == n\n",
    "    end\n",
    "    for m in (3, 5, 7, 11, 13, 17, 19, 23)\n",
    "        n % m == 0 && return false\n",
    "    end\n",
    "    s = trailing_zeros(n - 1)\n",
    "    d = (n - 1) >>> s\n",
    "    for a in witnesses(n)::Tuple{Vararg{Int}}\n",
    "        x = powermod(a, d, n)\n",
    "        x == 1 && continue\n",
    "        t = s\n",
    "        while x != n - 1\n",
    "            (t -= 1) ≤ 0 && return false\n",
    "            x = oftype(n, widemul(x, x) % n)\n",
    "            x == 1 && return false\n",
    "        end\n",
    "    end\n",
    "    return true\n",
    "end\n",
    "```\n"
   ]
  },
  {
   "cell_type": "code",
   "execution_count": 21,
   "metadata": {},
   "outputs": [
    {
     "data": {
      "text/plain": [
       "list_primes_new (generic function with 1 method)"
      ]
     },
     "execution_count": 21,
     "metadata": {},
     "output_type": "execute_result"
    }
   ],
   "source": [
    "function list_primes_new(lower,upper)\n",
    "    primes = zeros(floor(Int,(upper/(log(upper)) )*(1+1.2762/log(upper)) ))\n",
    "    j = 1\n",
    "    for i=lower:upper\n",
    "        if isprime(i) == true\n",
    "            primes[j] = i\n",
    "            j += 1\n",
    "        end\n",
    "    end\n",
    "    return primes\n",
    "    #return filter(!iszero, primes)\n",
    "end\n",
    "#5.771016 seconds (8.17 M allocations: 147.712 MiB, 0.06% gc time)"
   ]
  },
  {
   "cell_type": "code",
   "execution_count": 22,
   "metadata": {},
   "outputs": [
    {
     "name": "stdout",
     "output_type": "stream",
     "text": [
      "  1.068373 seconds (207.22 k allocations: 18.658 MiB, 12.83% compilation time)\n"
     ]
    },
    {
     "data": {
      "text/plain": [
       "669544-element Vector{Float64}:\n",
       "  2.0\n",
       "  3.0\n",
       "  5.0\n",
       "  7.0\n",
       " 11.0\n",
       " 13.0\n",
       " 17.0\n",
       " 19.0\n",
       " 23.0\n",
       " 29.0\n",
       " 31.0\n",
       " 37.0\n",
       " 41.0\n",
       "  ⋮\n",
       "  0.0\n",
       "  0.0\n",
       "  0.0\n",
       "  0.0\n",
       "  0.0\n",
       "  0.0\n",
       "  0.0\n",
       "  0.0\n",
       "  0.0\n",
       "  0.0\n",
       "  0.0\n",
       "  0.0"
      ]
     },
     "execution_count": 22,
     "metadata": {},
     "output_type": "execute_result"
    }
   ],
   "source": [
    "upper = 10^7\n",
    "# zeros(floor(Int,(upper/(log(upper)) )*(1+1.2762/log(upper))  ))\n",
    "@time list_primes_new(2,upper)"
   ]
  },
  {
   "cell_type": "code",
   "execution_count": null,
   "metadata": {},
   "outputs": [],
   "source": []
  }
 ],
 "metadata": {
  "kernelspec": {
   "display_name": "Julia 1.10.0",
   "language": "julia",
   "name": "julia-1.10"
  },
  "language_info": {
   "file_extension": ".jl",
   "mimetype": "application/julia",
   "name": "julia",
   "version": "1.10.0"
  },
  "orig_nbformat": 4
 },
 "nbformat": 4,
 "nbformat_minor": 2
}
